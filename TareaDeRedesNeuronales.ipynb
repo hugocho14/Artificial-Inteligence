{
  "nbformat": 4,
  "nbformat_minor": 0,
  "metadata": {
    "colab": {
      "provenance": []
    },
    "kernelspec": {
      "name": "python3",
      "display_name": "Python 3"
    },
    "language_info": {
      "name": "python"
    }
  },
  "cells": [
    {
      "cell_type": "markdown",
      "source": [
        "# Red neuronal de clasificación de vinos\n",
        "#Por: Hugo Alejandro Hinojosa Novales"
      ],
      "metadata": {
        "id": "cDuDDd9hfmq9"
      }
    },
    {
      "cell_type": "code",
      "execution_count": null,
      "metadata": {
        "id": "nAD5KEs4nCI9"
      },
      "outputs": [],
      "source": [
        "#Primero, importamos todas las librerías que utilizaremos\n",
        "\n",
        "import keras\n",
        "from keras.layers import Activation, Dense, Dropout, Conv2D, Flatten, MaxPooling2D, BatchNormalization\n",
        "from keras.models import Sequential\n",
        "from keras.optimizers import Adam\n",
        "from keras.models import load_model\n",
        "from keras.callbacks import EarlyStopping, ModelCheckpoint\n",
        "import os\n",
        "import time\n",
        "import h5py\n",
        "import zipfile\n",
        "import numpy as np\n",
        "import pandas as pd\n",
        "import IPython.display\n",
        "import random\n",
        "import matplotlib.pyplot as plt\n",
        "import plotly.graph_objects as go\n",
        "from sklearn.metrics import confusion_matrix\n",
        "from keras.utils import plot_model\n",
        "import csv"
      ]
    },
    {
      "cell_type": "code",
      "source": [
        "#Luego, vamos a exportar nuestro dataset, el cual se organizó previamente como un archivo csv. Se pudo hacer gracias a la aplicación nano que toma lectura de archivos.data, y se pudieron trasladas a un csv\n",
        "\n",
        "from google.colab import files\n",
        "\n",
        "uploaded = files.upload()"
      ],
      "metadata": {
        "colab": {
          "base_uri": "https://localhost:8080/",
          "height": 73
        },
        "id": "kTZCV2wgmXd7",
        "outputId": "644df2c2-c12c-4316-fcba-dd60449ad9a2"
      },
      "execution_count": null,
      "outputs": [
        {
          "output_type": "display_data",
          "data": {
            "text/plain": [
              "<IPython.core.display.HTML object>"
            ],
            "text/html": [
              "\n",
              "     <input type=\"file\" id=\"files-4b871c5b-9ccd-42fc-a87c-7a54d23edf19\" name=\"files[]\" multiple disabled\n",
              "        style=\"border:none\" />\n",
              "     <output id=\"result-4b871c5b-9ccd-42fc-a87c-7a54d23edf19\">\n",
              "      Upload widget is only available when the cell has been executed in the\n",
              "      current browser session. Please rerun this cell to enable.\n",
              "      </output>\n",
              "      <script>// Copyright 2017 Google LLC\n",
              "//\n",
              "// Licensed under the Apache License, Version 2.0 (the \"License\");\n",
              "// you may not use this file except in compliance with the License.\n",
              "// You may obtain a copy of the License at\n",
              "//\n",
              "//      http://www.apache.org/licenses/LICENSE-2.0\n",
              "//\n",
              "// Unless required by applicable law or agreed to in writing, software\n",
              "// distributed under the License is distributed on an \"AS IS\" BASIS,\n",
              "// WITHOUT WARRANTIES OR CONDITIONS OF ANY KIND, either express or implied.\n",
              "// See the License for the specific language governing permissions and\n",
              "// limitations under the License.\n",
              "\n",
              "/**\n",
              " * @fileoverview Helpers for google.colab Python module.\n",
              " */\n",
              "(function(scope) {\n",
              "function span(text, styleAttributes = {}) {\n",
              "  const element = document.createElement('span');\n",
              "  element.textContent = text;\n",
              "  for (const key of Object.keys(styleAttributes)) {\n",
              "    element.style[key] = styleAttributes[key];\n",
              "  }\n",
              "  return element;\n",
              "}\n",
              "\n",
              "// Max number of bytes which will be uploaded at a time.\n",
              "const MAX_PAYLOAD_SIZE = 100 * 1024;\n",
              "\n",
              "function _uploadFiles(inputId, outputId) {\n",
              "  const steps = uploadFilesStep(inputId, outputId);\n",
              "  const outputElement = document.getElementById(outputId);\n",
              "  // Cache steps on the outputElement to make it available for the next call\n",
              "  // to uploadFilesContinue from Python.\n",
              "  outputElement.steps = steps;\n",
              "\n",
              "  return _uploadFilesContinue(outputId);\n",
              "}\n",
              "\n",
              "// This is roughly an async generator (not supported in the browser yet),\n",
              "// where there are multiple asynchronous steps and the Python side is going\n",
              "// to poll for completion of each step.\n",
              "// This uses a Promise to block the python side on completion of each step,\n",
              "// then passes the result of the previous step as the input to the next step.\n",
              "function _uploadFilesContinue(outputId) {\n",
              "  const outputElement = document.getElementById(outputId);\n",
              "  const steps = outputElement.steps;\n",
              "\n",
              "  const next = steps.next(outputElement.lastPromiseValue);\n",
              "  return Promise.resolve(next.value.promise).then((value) => {\n",
              "    // Cache the last promise value to make it available to the next\n",
              "    // step of the generator.\n",
              "    outputElement.lastPromiseValue = value;\n",
              "    return next.value.response;\n",
              "  });\n",
              "}\n",
              "\n",
              "/**\n",
              " * Generator function which is called between each async step of the upload\n",
              " * process.\n",
              " * @param {string} inputId Element ID of the input file picker element.\n",
              " * @param {string} outputId Element ID of the output display.\n",
              " * @return {!Iterable<!Object>} Iterable of next steps.\n",
              " */\n",
              "function* uploadFilesStep(inputId, outputId) {\n",
              "  const inputElement = document.getElementById(inputId);\n",
              "  inputElement.disabled = false;\n",
              "\n",
              "  const outputElement = document.getElementById(outputId);\n",
              "  outputElement.innerHTML = '';\n",
              "\n",
              "  const pickedPromise = new Promise((resolve) => {\n",
              "    inputElement.addEventListener('change', (e) => {\n",
              "      resolve(e.target.files);\n",
              "    });\n",
              "  });\n",
              "\n",
              "  const cancel = document.createElement('button');\n",
              "  inputElement.parentElement.appendChild(cancel);\n",
              "  cancel.textContent = 'Cancel upload';\n",
              "  const cancelPromise = new Promise((resolve) => {\n",
              "    cancel.onclick = () => {\n",
              "      resolve(null);\n",
              "    };\n",
              "  });\n",
              "\n",
              "  // Wait for the user to pick the files.\n",
              "  const files = yield {\n",
              "    promise: Promise.race([pickedPromise, cancelPromise]),\n",
              "    response: {\n",
              "      action: 'starting',\n",
              "    }\n",
              "  };\n",
              "\n",
              "  cancel.remove();\n",
              "\n",
              "  // Disable the input element since further picks are not allowed.\n",
              "  inputElement.disabled = true;\n",
              "\n",
              "  if (!files) {\n",
              "    return {\n",
              "      response: {\n",
              "        action: 'complete',\n",
              "      }\n",
              "    };\n",
              "  }\n",
              "\n",
              "  for (const file of files) {\n",
              "    const li = document.createElement('li');\n",
              "    li.append(span(file.name, {fontWeight: 'bold'}));\n",
              "    li.append(span(\n",
              "        `(${file.type || 'n/a'}) - ${file.size} bytes, ` +\n",
              "        `last modified: ${\n",
              "            file.lastModifiedDate ? file.lastModifiedDate.toLocaleDateString() :\n",
              "                                    'n/a'} - `));\n",
              "    const percent = span('0% done');\n",
              "    li.appendChild(percent);\n",
              "\n",
              "    outputElement.appendChild(li);\n",
              "\n",
              "    const fileDataPromise = new Promise((resolve) => {\n",
              "      const reader = new FileReader();\n",
              "      reader.onload = (e) => {\n",
              "        resolve(e.target.result);\n",
              "      };\n",
              "      reader.readAsArrayBuffer(file);\n",
              "    });\n",
              "    // Wait for the data to be ready.\n",
              "    let fileData = yield {\n",
              "      promise: fileDataPromise,\n",
              "      response: {\n",
              "        action: 'continue',\n",
              "      }\n",
              "    };\n",
              "\n",
              "    // Use a chunked sending to avoid message size limits. See b/62115660.\n",
              "    let position = 0;\n",
              "    do {\n",
              "      const length = Math.min(fileData.byteLength - position, MAX_PAYLOAD_SIZE);\n",
              "      const chunk = new Uint8Array(fileData, position, length);\n",
              "      position += length;\n",
              "\n",
              "      const base64 = btoa(String.fromCharCode.apply(null, chunk));\n",
              "      yield {\n",
              "        response: {\n",
              "          action: 'append',\n",
              "          file: file.name,\n",
              "          data: base64,\n",
              "        },\n",
              "      };\n",
              "\n",
              "      let percentDone = fileData.byteLength === 0 ?\n",
              "          100 :\n",
              "          Math.round((position / fileData.byteLength) * 100);\n",
              "      percent.textContent = `${percentDone}% done`;\n",
              "\n",
              "    } while (position < fileData.byteLength);\n",
              "  }\n",
              "\n",
              "  // All done.\n",
              "  yield {\n",
              "    response: {\n",
              "      action: 'complete',\n",
              "    }\n",
              "  };\n",
              "}\n",
              "\n",
              "scope.google = scope.google || {};\n",
              "scope.google.colab = scope.google.colab || {};\n",
              "scope.google.colab._files = {\n",
              "  _uploadFiles,\n",
              "  _uploadFilesContinue,\n",
              "};\n",
              "})(self);\n",
              "</script> "
            ]
          },
          "metadata": {}
        },
        {
          "output_type": "stream",
          "name": "stdout",
          "text": [
            "Saving wine.csv to wine.csv\n"
          ]
        }
      ]
    },
    {
      "cell_type": "code",
      "source": [
        "#Indicamos que las columnas se separan según aparezca una coma\n",
        "\n",
        "df1 = pd.read_csv(\"wine.csv\", sep=\",\")"
      ],
      "metadata": {
        "id": "xw8TnmO-4u2y"
      },
      "execution_count": null,
      "outputs": []
    },
    {
      "cell_type": "code",
      "source": [
        "#Y vemos el dataframe generado\n",
        "\n",
        "df1"
      ],
      "metadata": {
        "colab": {
          "base_uri": "https://localhost:8080/",
          "height": 488
        },
        "id": "4eI4m3aA5PYC",
        "outputId": "8c41f645-a76a-41fc-ce34-7ecc19085022"
      },
      "execution_count": null,
      "outputs": [
        {
          "output_type": "execute_result",
          "data": {
            "text/plain": [
              "     Wine  Malic_acid   Ash  Alcalinity_of_ash  Magnesium  Total_phenols  \\\n",
              "0       0       14.23  1.71               2.43       15.6            127   \n",
              "1       0       13.20  1.78               2.14       11.2            100   \n",
              "2       0       13.16  2.36               2.67       18.6            101   \n",
              "3       0       14.37  1.95               2.50       16.8            113   \n",
              "4       0       13.24  2.59               2.87       21.0            118   \n",
              "..    ...         ...   ...                ...        ...            ...   \n",
              "173     2       13.71  5.65               2.45       20.5             95   \n",
              "174     2       13.40  3.91               2.48       23.0            102   \n",
              "175     2       13.27  4.28               2.26       20.0            120   \n",
              "176     2       13.17  2.59               2.37       20.0            120   \n",
              "177     2       14.13  4.10               2.74       24.5             96   \n",
              "\n",
              "     Flavanoids  Nonflavanoid_phenols  Proanthocyanins  Color_intensity  \\\n",
              "0          2.80                  3.06             0.28             2.29   \n",
              "1          2.65                  2.76             0.26             1.28   \n",
              "2          2.80                  3.24             0.30             2.81   \n",
              "3          3.85                  3.49             0.24             2.18   \n",
              "4          2.80                  2.69             0.39             1.82   \n",
              "..          ...                   ...              ...              ...   \n",
              "173        1.68                  0.61             0.52             1.06   \n",
              "174        1.80                  0.75             0.43             1.41   \n",
              "175        1.59                  0.69             0.43             1.35   \n",
              "176        1.65                  0.68             0.53             1.46   \n",
              "177        2.05                  0.76             0.56             1.35   \n",
              "\n",
              "       Hue  OD280_of_diluted_wines  0D315_of_diluted_wines  Proline  \n",
              "0     5.64                    1.04                    3.92     1065  \n",
              "1     4.38                    1.05                    3.40     1050  \n",
              "2     5.68                    1.03                    3.17     1185  \n",
              "3     7.80                    0.86                    3.45     1480  \n",
              "4     4.32                    1.04                    2.93      735  \n",
              "..     ...                     ...                     ...      ...  \n",
              "173   7.70                    0.64                    1.74      740  \n",
              "174   7.30                    0.70                    1.56      750  \n",
              "175  10.20                    0.59                    1.56      835  \n",
              "176   9.30                    0.60                    1.62      840  \n",
              "177   9.20                    0.61                    1.60      560  \n",
              "\n",
              "[178 rows x 14 columns]"
            ],
            "text/html": [
              "\n",
              "  <div id=\"df-acc97411-239c-4c7c-adc2-b992c6709340\">\n",
              "    <div class=\"colab-df-container\">\n",
              "      <div>\n",
              "<style scoped>\n",
              "    .dataframe tbody tr th:only-of-type {\n",
              "        vertical-align: middle;\n",
              "    }\n",
              "\n",
              "    .dataframe tbody tr th {\n",
              "        vertical-align: top;\n",
              "    }\n",
              "\n",
              "    .dataframe thead th {\n",
              "        text-align: right;\n",
              "    }\n",
              "</style>\n",
              "<table border=\"1\" class=\"dataframe\">\n",
              "  <thead>\n",
              "    <tr style=\"text-align: right;\">\n",
              "      <th></th>\n",
              "      <th>Wine</th>\n",
              "      <th>Malic_acid</th>\n",
              "      <th>Ash</th>\n",
              "      <th>Alcalinity_of_ash</th>\n",
              "      <th>Magnesium</th>\n",
              "      <th>Total_phenols</th>\n",
              "      <th>Flavanoids</th>\n",
              "      <th>Nonflavanoid_phenols</th>\n",
              "      <th>Proanthocyanins</th>\n",
              "      <th>Color_intensity</th>\n",
              "      <th>Hue</th>\n",
              "      <th>OD280_of_diluted_wines</th>\n",
              "      <th>0D315_of_diluted_wines</th>\n",
              "      <th>Proline</th>\n",
              "    </tr>\n",
              "  </thead>\n",
              "  <tbody>\n",
              "    <tr>\n",
              "      <th>0</th>\n",
              "      <td>0</td>\n",
              "      <td>14.23</td>\n",
              "      <td>1.71</td>\n",
              "      <td>2.43</td>\n",
              "      <td>15.6</td>\n",
              "      <td>127</td>\n",
              "      <td>2.80</td>\n",
              "      <td>3.06</td>\n",
              "      <td>0.28</td>\n",
              "      <td>2.29</td>\n",
              "      <td>5.64</td>\n",
              "      <td>1.04</td>\n",
              "      <td>3.92</td>\n",
              "      <td>1065</td>\n",
              "    </tr>\n",
              "    <tr>\n",
              "      <th>1</th>\n",
              "      <td>0</td>\n",
              "      <td>13.20</td>\n",
              "      <td>1.78</td>\n",
              "      <td>2.14</td>\n",
              "      <td>11.2</td>\n",
              "      <td>100</td>\n",
              "      <td>2.65</td>\n",
              "      <td>2.76</td>\n",
              "      <td>0.26</td>\n",
              "      <td>1.28</td>\n",
              "      <td>4.38</td>\n",
              "      <td>1.05</td>\n",
              "      <td>3.40</td>\n",
              "      <td>1050</td>\n",
              "    </tr>\n",
              "    <tr>\n",
              "      <th>2</th>\n",
              "      <td>0</td>\n",
              "      <td>13.16</td>\n",
              "      <td>2.36</td>\n",
              "      <td>2.67</td>\n",
              "      <td>18.6</td>\n",
              "      <td>101</td>\n",
              "      <td>2.80</td>\n",
              "      <td>3.24</td>\n",
              "      <td>0.30</td>\n",
              "      <td>2.81</td>\n",
              "      <td>5.68</td>\n",
              "      <td>1.03</td>\n",
              "      <td>3.17</td>\n",
              "      <td>1185</td>\n",
              "    </tr>\n",
              "    <tr>\n",
              "      <th>3</th>\n",
              "      <td>0</td>\n",
              "      <td>14.37</td>\n",
              "      <td>1.95</td>\n",
              "      <td>2.50</td>\n",
              "      <td>16.8</td>\n",
              "      <td>113</td>\n",
              "      <td>3.85</td>\n",
              "      <td>3.49</td>\n",
              "      <td>0.24</td>\n",
              "      <td>2.18</td>\n",
              "      <td>7.80</td>\n",
              "      <td>0.86</td>\n",
              "      <td>3.45</td>\n",
              "      <td>1480</td>\n",
              "    </tr>\n",
              "    <tr>\n",
              "      <th>4</th>\n",
              "      <td>0</td>\n",
              "      <td>13.24</td>\n",
              "      <td>2.59</td>\n",
              "      <td>2.87</td>\n",
              "      <td>21.0</td>\n",
              "      <td>118</td>\n",
              "      <td>2.80</td>\n",
              "      <td>2.69</td>\n",
              "      <td>0.39</td>\n",
              "      <td>1.82</td>\n",
              "      <td>4.32</td>\n",
              "      <td>1.04</td>\n",
              "      <td>2.93</td>\n",
              "      <td>735</td>\n",
              "    </tr>\n",
              "    <tr>\n",
              "      <th>...</th>\n",
              "      <td>...</td>\n",
              "      <td>...</td>\n",
              "      <td>...</td>\n",
              "      <td>...</td>\n",
              "      <td>...</td>\n",
              "      <td>...</td>\n",
              "      <td>...</td>\n",
              "      <td>...</td>\n",
              "      <td>...</td>\n",
              "      <td>...</td>\n",
              "      <td>...</td>\n",
              "      <td>...</td>\n",
              "      <td>...</td>\n",
              "      <td>...</td>\n",
              "    </tr>\n",
              "    <tr>\n",
              "      <th>173</th>\n",
              "      <td>2</td>\n",
              "      <td>13.71</td>\n",
              "      <td>5.65</td>\n",
              "      <td>2.45</td>\n",
              "      <td>20.5</td>\n",
              "      <td>95</td>\n",
              "      <td>1.68</td>\n",
              "      <td>0.61</td>\n",
              "      <td>0.52</td>\n",
              "      <td>1.06</td>\n",
              "      <td>7.70</td>\n",
              "      <td>0.64</td>\n",
              "      <td>1.74</td>\n",
              "      <td>740</td>\n",
              "    </tr>\n",
              "    <tr>\n",
              "      <th>174</th>\n",
              "      <td>2</td>\n",
              "      <td>13.40</td>\n",
              "      <td>3.91</td>\n",
              "      <td>2.48</td>\n",
              "      <td>23.0</td>\n",
              "      <td>102</td>\n",
              "      <td>1.80</td>\n",
              "      <td>0.75</td>\n",
              "      <td>0.43</td>\n",
              "      <td>1.41</td>\n",
              "      <td>7.30</td>\n",
              "      <td>0.70</td>\n",
              "      <td>1.56</td>\n",
              "      <td>750</td>\n",
              "    </tr>\n",
              "    <tr>\n",
              "      <th>175</th>\n",
              "      <td>2</td>\n",
              "      <td>13.27</td>\n",
              "      <td>4.28</td>\n",
              "      <td>2.26</td>\n",
              "      <td>20.0</td>\n",
              "      <td>120</td>\n",
              "      <td>1.59</td>\n",
              "      <td>0.69</td>\n",
              "      <td>0.43</td>\n",
              "      <td>1.35</td>\n",
              "      <td>10.20</td>\n",
              "      <td>0.59</td>\n",
              "      <td>1.56</td>\n",
              "      <td>835</td>\n",
              "    </tr>\n",
              "    <tr>\n",
              "      <th>176</th>\n",
              "      <td>2</td>\n",
              "      <td>13.17</td>\n",
              "      <td>2.59</td>\n",
              "      <td>2.37</td>\n",
              "      <td>20.0</td>\n",
              "      <td>120</td>\n",
              "      <td>1.65</td>\n",
              "      <td>0.68</td>\n",
              "      <td>0.53</td>\n",
              "      <td>1.46</td>\n",
              "      <td>9.30</td>\n",
              "      <td>0.60</td>\n",
              "      <td>1.62</td>\n",
              "      <td>840</td>\n",
              "    </tr>\n",
              "    <tr>\n",
              "      <th>177</th>\n",
              "      <td>2</td>\n",
              "      <td>14.13</td>\n",
              "      <td>4.10</td>\n",
              "      <td>2.74</td>\n",
              "      <td>24.5</td>\n",
              "      <td>96</td>\n",
              "      <td>2.05</td>\n",
              "      <td>0.76</td>\n",
              "      <td>0.56</td>\n",
              "      <td>1.35</td>\n",
              "      <td>9.20</td>\n",
              "      <td>0.61</td>\n",
              "      <td>1.60</td>\n",
              "      <td>560</td>\n",
              "    </tr>\n",
              "  </tbody>\n",
              "</table>\n",
              "<p>178 rows × 14 columns</p>\n",
              "</div>\n",
              "      <button class=\"colab-df-convert\" onclick=\"convertToInteractive('df-acc97411-239c-4c7c-adc2-b992c6709340')\"\n",
              "              title=\"Convert this dataframe to an interactive table.\"\n",
              "              style=\"display:none;\">\n",
              "        \n",
              "  <svg xmlns=\"http://www.w3.org/2000/svg\" height=\"24px\"viewBox=\"0 0 24 24\"\n",
              "       width=\"24px\">\n",
              "    <path d=\"M0 0h24v24H0V0z\" fill=\"none\"/>\n",
              "    <path d=\"M18.56 5.44l.94 2.06.94-2.06 2.06-.94-2.06-.94-.94-2.06-.94 2.06-2.06.94zm-11 1L8.5 8.5l.94-2.06 2.06-.94-2.06-.94L8.5 2.5l-.94 2.06-2.06.94zm10 10l.94 2.06.94-2.06 2.06-.94-2.06-.94-.94-2.06-.94 2.06-2.06.94z\"/><path d=\"M17.41 7.96l-1.37-1.37c-.4-.4-.92-.59-1.43-.59-.52 0-1.04.2-1.43.59L10.3 9.45l-7.72 7.72c-.78.78-.78 2.05 0 2.83L4 21.41c.39.39.9.59 1.41.59.51 0 1.02-.2 1.41-.59l7.78-7.78 2.81-2.81c.8-.78.8-2.07 0-2.86zM5.41 20L4 18.59l7.72-7.72 1.47 1.35L5.41 20z\"/>\n",
              "  </svg>\n",
              "      </button>\n",
              "      \n",
              "  <style>\n",
              "    .colab-df-container {\n",
              "      display:flex;\n",
              "      flex-wrap:wrap;\n",
              "      gap: 12px;\n",
              "    }\n",
              "\n",
              "    .colab-df-convert {\n",
              "      background-color: #E8F0FE;\n",
              "      border: none;\n",
              "      border-radius: 50%;\n",
              "      cursor: pointer;\n",
              "      display: none;\n",
              "      fill: #1967D2;\n",
              "      height: 32px;\n",
              "      padding: 0 0 0 0;\n",
              "      width: 32px;\n",
              "    }\n",
              "\n",
              "    .colab-df-convert:hover {\n",
              "      background-color: #E2EBFA;\n",
              "      box-shadow: 0px 1px 2px rgba(60, 64, 67, 0.3), 0px 1px 3px 1px rgba(60, 64, 67, 0.15);\n",
              "      fill: #174EA6;\n",
              "    }\n",
              "\n",
              "    [theme=dark] .colab-df-convert {\n",
              "      background-color: #3B4455;\n",
              "      fill: #D2E3FC;\n",
              "    }\n",
              "\n",
              "    [theme=dark] .colab-df-convert:hover {\n",
              "      background-color: #434B5C;\n",
              "      box-shadow: 0px 1px 3px 1px rgba(0, 0, 0, 0.15);\n",
              "      filter: drop-shadow(0px 1px 2px rgba(0, 0, 0, 0.3));\n",
              "      fill: #FFFFFF;\n",
              "    }\n",
              "  </style>\n",
              "\n",
              "      <script>\n",
              "        const buttonEl =\n",
              "          document.querySelector('#df-acc97411-239c-4c7c-adc2-b992c6709340 button.colab-df-convert');\n",
              "        buttonEl.style.display =\n",
              "          google.colab.kernel.accessAllowed ? 'block' : 'none';\n",
              "\n",
              "        async function convertToInteractive(key) {\n",
              "          const element = document.querySelector('#df-acc97411-239c-4c7c-adc2-b992c6709340');\n",
              "          const dataTable =\n",
              "            await google.colab.kernel.invokeFunction('convertToInteractive',\n",
              "                                                     [key], {});\n",
              "          if (!dataTable) return;\n",
              "\n",
              "          const docLinkHtml = 'Like what you see? Visit the ' +\n",
              "            '<a target=\"_blank\" href=https://colab.research.google.com/notebooks/data_table.ipynb>data table notebook</a>'\n",
              "            + ' to learn more about interactive tables.';\n",
              "          element.innerHTML = '';\n",
              "          dataTable['output_type'] = 'display_data';\n",
              "          await google.colab.output.renderOutput(dataTable, element);\n",
              "          const docLink = document.createElement('div');\n",
              "          docLink.innerHTML = docLinkHtml;\n",
              "          element.appendChild(docLink);\n",
              "        }\n",
              "      </script>\n",
              "    </div>\n",
              "  </div>\n",
              "  "
            ]
          },
          "metadata": {},
          "execution_count": 67
        }
      ]
    },
    {
      "cell_type": "code",
      "source": [
        "#Una vez que ya se tienen los datos listos, se deben de separar los datos en una parte de\n",
        "#entrenamiento, validación y prueba, en este caso, con iloc indicaremos qué columnas y filas queremos\n",
        "#específicamente , en este caso, el segundo argumento siempre será \":\", indicando que queremos todas\n",
        "#las columnas, no sin antes reordenar\n",
        "\n",
        "df1 = df1.sample(frac=1)"
      ],
      "metadata": {
        "id": "WjpkplF852ea"
      },
      "execution_count": null,
      "outputs": []
    },
    {
      "cell_type": "code",
      "source": [
        "df1 = df1.drop('Wine', axis=1)"
      ],
      "metadata": {
        "id": "aqWa-3GRWO_1"
      },
      "execution_count": null,
      "outputs": []
    },
    {
      "cell_type": "code",
      "source": [
        "len(df1.values[:,:])"
      ],
      "metadata": {
        "colab": {
          "base_uri": "https://localhost:8080/"
        },
        "id": "kxCJxsIc9fLR",
        "outputId": "4194c1eb-49d2-4212-cdb7-e2d7d2943b4b"
      },
      "execution_count": null,
      "outputs": [
        {
          "output_type": "execute_result",
          "data": {
            "text/plain": [
              "178"
            ]
          },
          "metadata": {},
          "execution_count": 69
        }
      ]
    },
    {
      "cell_type": "code",
      "source": [
        "#Ya con el reordenamiento, hacemos lo antes dicho\n",
        "\n",
        "a = int(0.8 * len(df1.values[:,:]))\n",
        "\n",
        "a"
      ],
      "metadata": {
        "colab": {
          "base_uri": "https://localhost:8080/"
        },
        "id": "EQz2Ejdt9KYh",
        "outputId": "ce8537e6-6bf5-4d13-b57f-e7919a52f653"
      },
      "execution_count": null,
      "outputs": [
        {
          "output_type": "execute_result",
          "data": {
            "text/plain": [
              "142"
            ]
          },
          "metadata": {},
          "execution_count": 70
        }
      ]
    },
    {
      "cell_type": "code",
      "source": [
        "df_train = df1.iloc[0:142,:]\n",
        "df_valid = df1.iloc[142:160,:]\n",
        "df_test = df1.iloc[160:,:]"
      ],
      "metadata": {
        "id": "hBhxiGXB9u5i"
      },
      "execution_count": null,
      "outputs": []
    },
    {
      "cell_type": "code",
      "source": [
        "#Veamos la forma que tienen los datos\n",
        "\n",
        "print(df_train.shape)\n",
        "print(df_valid.shape)\n",
        "print(df_test.shape)"
      ],
      "metadata": {
        "colab": {
          "base_uri": "https://localhost:8080/"
        },
        "id": "2SvWOSAD-WsB",
        "outputId": "999c89f0-fc65-4702-a114-b94dcd47ad7d"
      },
      "execution_count": null,
      "outputs": [
        {
          "output_type": "stream",
          "name": "stdout",
          "text": [
            "(142, 14)\n",
            "(18, 14)\n",
            "(18, 14)\n"
          ]
        }
      ]
    },
    {
      "cell_type": "code",
      "source": [
        "#Ahora sí, es el momento de separar los datos en las x, y\n",
        "\n",
        "train_x = df_train.values[:,1:]\n",
        "train_y = df_train.values[:,:1]\n",
        "\n",
        "valid_x = df_valid.values[:,1:]\n",
        "valid_y = df_valid.values[:,:1]\n",
        "\n",
        "test_x = df_test.values[:,1:]\n",
        "test_y = df_test.values[:,:1]"
      ],
      "metadata": {
        "id": "1Hm9llWkZQ31"
      },
      "execution_count": null,
      "outputs": []
    },
    {
      "cell_type": "code",
      "source": [
        "print(train_x.shape)\n",
        "print(train_y.shape)\n",
        "print(valid_x.shape)\n",
        "print(valid_y.shape)\n",
        "print(test_x.shape)\n",
        "print(test_y.shape)"
      ],
      "metadata": {
        "colab": {
          "base_uri": "https://localhost:8080/"
        },
        "id": "6MvOyQNAcPJE",
        "outputId": "1b0156c0-274c-4efa-ec82-bda21b0df686"
      },
      "execution_count": null,
      "outputs": [
        {
          "output_type": "stream",
          "name": "stdout",
          "text": [
            "(142, 13)\n",
            "(142, 1)\n",
            "(18, 13)\n",
            "(18, 1)\n",
            "(18, 13)\n",
            "(18, 1)\n"
          ]
        }
      ]
    },
    {
      "cell_type": "code",
      "source": [
        "#Y los normalizamos de la forma usual, con la media y el error estándar\n",
        "\n",
        "mu1 = train_x.mean()\n",
        "sigma1 = train_x.std()\n",
        "\n",
        "mu2 = valid_x.mean()\n",
        "sigma2 = valid_x.std()\n",
        "\n",
        "mu3 = test_x.mean()\n",
        "sigma3 = test_x.std()\n",
        "\n",
        "x_train_norm = (train_x - mu1)/sigma1\n",
        "x_valid_norm = (valid_x - mu2)/sigma2\n",
        "x_test_norm = (test_x - mu3)/sigma3"
      ],
      "metadata": {
        "id": "DLZ44skD-kXB"
      },
      "execution_count": null,
      "outputs": []
    },
    {
      "cell_type": "code",
      "source": [
        "#Y su forma\n",
        "\n",
        "print(x_train_norm.shape)\n",
        "print(train_y.shape)\n",
        "print(x_valid_norm.shape)\n",
        "print(valid_y.shape)\n",
        "print(x_test_norm.shape)\n",
        "print(test_y.shape)"
      ],
      "metadata": {
        "colab": {
          "base_uri": "https://localhost:8080/"
        },
        "id": "6oH8dUomNdxX",
        "outputId": "ffbbf3df-2d4b-4a68-c1c6-f61fd1a46a9d"
      },
      "execution_count": null,
      "outputs": [
        {
          "output_type": "stream",
          "name": "stdout",
          "text": [
            "(142, 13)\n",
            "(142, 1)\n",
            "(18, 13)\n",
            "(18, 1)\n",
            "(18, 13)\n",
            "(18, 1)\n"
          ]
        }
      ]
    },
    {
      "cell_type": "code",
      "source": [
        "#Teniendo todos los datos divididos de la mejor forma, es tiempo de crear la red neuronal\n",
        "#correspondiente. Tres capas serán suficientes, evaluaremos distintos modelos cambiando solo los\n",
        "#parámetros de esta función para no tener que andarla repitiendo\n",
        "\n",
        "def architecture(n_hidden1, n_hidden2, initializer, activation, input_shape, classes):\n",
        "\n",
        "    model = Sequential()\n",
        "\n",
        "    model.add(Dense(units=n_hidden1,\n",
        "                    kernel_initializer=initializer,\n",
        "                    bias_initializer='zeros',\n",
        "                    activation=activation,\n",
        "                    input_shape=input_shape,))\n",
        "\n",
        "    model.add(Dense(units=n_hidden2,\n",
        "                    kernel_initializer=initializer,\n",
        "                    bias_initializer='zeros',\n",
        "                    activation=activation,))\n",
        "\n",
        "    model.add(Dense(units=classes,\n",
        "                    kernel_initializer=initializer,\n",
        "                    bias_initializer='zeros',\n",
        "                    activation = 'softmax'))\n",
        "\n",
        "    return model"
      ],
      "metadata": {
        "id": "H7n-VOQvNwR_"
      },
      "execution_count": null,
      "outputs": []
    },
    {
      "cell_type": "code",
      "source": [
        "#Establecemos los hiperparámetros del primero modelo a evaluar\n",
        "\n",
        "M1capa1 = 13\n",
        "M1capa2 = 7\n",
        "M1init = 'uniform'\n",
        "M1act = 'relu'\n",
        "M1input = (13,)\n",
        "M1clas = 3"
      ],
      "metadata": {
        "id": "gwNje2uhPBYW"
      },
      "execution_count": null,
      "outputs": []
    },
    {
      "cell_type": "code",
      "source": [
        "modell = architecture(M1capa1, M1capa2, M1init, M1act, M1input, 3)"
      ],
      "metadata": {
        "id": "wrlaJJjhPU23"
      },
      "execution_count": null,
      "outputs": []
    },
    {
      "cell_type": "code",
      "source": [
        "#Podemos visualizar el modelo\n",
        "\n",
        "plot_model(modell, to_file='model_1.png', show_shapes=True, show_layer_names=True)"
      ],
      "metadata": {
        "colab": {
          "base_uri": "https://localhost:8080/",
          "height": 422
        },
        "id": "EBmD2g7WPtN1",
        "outputId": "4ec8d4c2-ad18-4d32-ac1c-9f783f91959c"
      },
      "execution_count": null,
      "outputs": [
        {
          "output_type": "execute_result",
          "data": {
            "image/png": "[encoded data removed]",
            "text/plain": [
              "<IPython.core.display.Image object>"
            ]
          },
          "metadata": {},
          "execution_count": 119
        }
      ]
    },
    {
      "cell_type": "code",
      "source": [
        "#Los optimizadores, pérdida y métrica\n",
        "\n",
        "optimizer = keras.optimizers.Adam(learning_rate=0.001)\n",
        "loss = 'sparse_categorical_crossentropy'\n",
        "acc = 'accuracy'"
      ],
      "metadata": {
        "id": "J6i7qd-vQAJW"
      },
      "execution_count": null,
      "outputs": []
    },
    {
      "cell_type": "code",
      "source": [
        "#Y compilamos\n",
        "\n",
        "modell.compile(optimizer = optimizer, loss = 'SparseCategoricalCrossentropy', metrics = acc)"
      ],
      "metadata": {
        "id": "HmiiByKiQE72"
      },
      "execution_count": null,
      "outputs": []
    },
    {
      "cell_type": "code",
      "source": [
        "#Para finalmente correrlo\n",
        "\n",
        "num_epochs = 100\n",
        "\n",
        "history_model = modell.fit(train_x,train_y, epochs=num_epochs, batch_size = 32, \\\n",
        "                          validation_data=(valid_x,valid_y), shuffle=False, verbose=2)"
      ],
      "metadata": {
        "colab": {
          "base_uri": "https://localhost:8080/"
        },
        "id": "aBlb6u7uQggG",
        "outputId": "5b0a172c-2c1c-4f11-e7ca-8143d2405ee8"
      },
      "execution_count": null,
      "outputs": [
        {
          "output_type": "stream",
          "name": "stdout",
          "text": [
            "Epoch 1/100\n",
            "5/5 - 0s - loss: 0.5507 - accuracy: 0.6972 - val_loss: 0.7737 - val_accuracy: 0.6667 - 85ms/epoch - 17ms/step\n",
            "Epoch 2/100\n",
            "5/5 - 0s - loss: 0.5499 - accuracy: 0.6972 - val_loss: 0.7731 - val_accuracy: 0.6667 - 42ms/epoch - 8ms/step\n",
            "Epoch 3/100\n",
            "5/5 - 0s - loss: 0.5490 - accuracy: 0.6972 - val_loss: 0.7731 - val_accuracy: 0.6667 - 46ms/epoch - 9ms/step\n",
            "Epoch 4/100\n",
            "5/5 - 0s - loss: 0.5482 - accuracy: 0.6972 - val_loss: 0.7730 - val_accuracy: 0.6667 - 50ms/epoch - 10ms/step\n",
            "Epoch 5/100\n",
            "5/5 - 0s - loss: 0.5475 - accuracy: 0.6972 - val_loss: 0.7721 - val_accuracy: 0.6667 - 44ms/epoch - 9ms/step\n",
            "Epoch 6/100\n",
            "5/5 - 0s - loss: 0.5467 - accuracy: 0.6972 - val_loss: 0.7710 - val_accuracy: 0.6667 - 56ms/epoch - 11ms/step\n",
            "Epoch 7/100\n",
            "5/5 - 0s - loss: 0.5459 - accuracy: 0.6972 - val_loss: 0.7705 - val_accuracy: 0.6667 - 59ms/epoch - 12ms/step\n",
            "Epoch 8/100\n",
            "5/5 - 0s - loss: 0.5450 - accuracy: 0.7042 - val_loss: 0.7707 - val_accuracy: 0.6667 - 41ms/epoch - 8ms/step\n",
            "Epoch 9/100\n",
            "5/5 - 0s - loss: 0.5443 - accuracy: 0.7042 - val_loss: 0.7706 - val_accuracy: 0.6667 - 48ms/epoch - 10ms/step\n",
            "Epoch 10/100\n",
            "5/5 - 0s - loss: 0.5436 - accuracy: 0.7042 - val_loss: 0.7700 - val_accuracy: 0.6667 - 65ms/epoch - 13ms/step\n",
            "Epoch 11/100\n",
            "5/5 - 0s - loss: 0.5428 - accuracy: 0.7042 - val_loss: 0.7696 - val_accuracy: 0.6667 - 58ms/epoch - 12ms/step\n",
            "Epoch 12/100\n",
            "5/5 - 0s - loss: 0.5420 - accuracy: 0.7042 - val_loss: 0.7696 - val_accuracy: 0.6667 - 39ms/epoch - 8ms/step\n",
            "Epoch 13/100\n",
            "5/5 - 0s - loss: 0.5413 - accuracy: 0.7042 - val_loss: 0.7693 - val_accuracy: 0.6667 - 60ms/epoch - 12ms/step\n",
            "Epoch 14/100\n",
            "5/5 - 0s - loss: 0.5406 - accuracy: 0.7042 - val_loss: 0.7680 - val_accuracy: 0.6667 - 70ms/epoch - 14ms/step\n",
            "Epoch 15/100\n",
            "5/5 - 0s - loss: 0.5399 - accuracy: 0.7042 - val_loss: 0.7669 - val_accuracy: 0.6667 - 42ms/epoch - 8ms/step\n",
            "Epoch 16/100\n",
            "5/5 - 0s - loss: 0.5390 - accuracy: 0.7042 - val_loss: 0.7673 - val_accuracy: 0.6667 - 58ms/epoch - 12ms/step\n",
            "Epoch 17/100\n",
            "5/5 - 0s - loss: 0.5383 - accuracy: 0.7042 - val_loss: 0.7678 - val_accuracy: 0.6667 - 58ms/epoch - 12ms/step\n",
            "Epoch 18/100\n",
            "5/5 - 0s - loss: 0.5376 - accuracy: 0.7042 - val_loss: 0.7676 - val_accuracy: 0.6667 - 41ms/epoch - 8ms/step\n",
            "Epoch 19/100\n",
            "5/5 - 0s - loss: 0.5370 - accuracy: 0.7042 - val_loss: 0.7669 - val_accuracy: 0.6667 - 42ms/epoch - 8ms/step\n",
            "Epoch 20/100\n",
            "5/5 - 0s - loss: 0.5362 - accuracy: 0.7042 - val_loss: 0.7668 - val_accuracy: 0.6667 - 64ms/epoch - 13ms/step\n",
            "Epoch 21/100\n",
            "5/5 - 0s - loss: 0.5354 - accuracy: 0.7042 - val_loss: 0.7670 - val_accuracy: 0.6667 - 41ms/epoch - 8ms/step\n",
            "Epoch 22/100\n",
            "5/5 - 0s - loss: 0.5348 - accuracy: 0.7042 - val_loss: 0.7659 - val_accuracy: 0.6667 - 64ms/epoch - 13ms/step\n",
            "Epoch 23/100\n",
            "5/5 - 0s - loss: 0.5341 - accuracy: 0.7042 - val_loss: 0.7646 - val_accuracy: 0.6667 - 41ms/epoch - 8ms/step\n",
            "Epoch 24/100\n",
            "5/5 - 0s - loss: 0.5332 - accuracy: 0.7042 - val_loss: 0.7651 - val_accuracy: 0.6667 - 58ms/epoch - 12ms/step\n",
            "Epoch 25/100\n",
            "5/5 - 0s - loss: 0.5325 - accuracy: 0.7042 - val_loss: 0.7655 - val_accuracy: 0.6667 - 39ms/epoch - 8ms/step\n",
            "Epoch 26/100\n",
            "5/5 - 0s - loss: 0.5319 - accuracy: 0.7042 - val_loss: 0.7627 - val_accuracy: 0.6667 - 39ms/epoch - 8ms/step\n",
            "Epoch 27/100\n",
            "5/5 - 0s - loss: 0.5313 - accuracy: 0.6972 - val_loss: 0.7620 - val_accuracy: 0.6667 - 41ms/epoch - 8ms/step\n",
            "Epoch 28/100\n",
            "5/5 - 0s - loss: 0.5301 - accuracy: 0.6972 - val_loss: 0.7636 - val_accuracy: 0.6667 - 48ms/epoch - 10ms/step\n",
            "Epoch 29/100\n",
            "5/5 - 0s - loss: 0.5299 - accuracy: 0.6972 - val_loss: 0.7612 - val_accuracy: 0.6667 - 42ms/epoch - 8ms/step\n",
            "Epoch 30/100\n",
            "5/5 - 0s - loss: 0.5291 - accuracy: 0.6972 - val_loss: 0.7602 - val_accuracy: 0.6667 - 59ms/epoch - 12ms/step\n",
            "Epoch 31/100\n",
            "5/5 - 0s - loss: 0.5283 - accuracy: 0.6972 - val_loss: 0.7614 - val_accuracy: 0.6667 - 46ms/epoch - 9ms/step\n",
            "Epoch 32/100\n",
            "5/5 - 0s - loss: 0.5278 - accuracy: 0.6972 - val_loss: 0.7602 - val_accuracy: 0.6667 - 43ms/epoch - 9ms/step\n",
            "Epoch 33/100\n",
            "5/5 - 0s - loss: 0.5272 - accuracy: 0.6972 - val_loss: 0.7597 - val_accuracy: 0.6667 - 43ms/epoch - 9ms/step\n",
            "Epoch 34/100\n",
            "5/5 - 0s - loss: 0.5264 - accuracy: 0.6972 - val_loss: 0.7609 - val_accuracy: 0.6667 - 66ms/epoch - 13ms/step\n",
            "Epoch 35/100\n",
            "5/5 - 0s - loss: 0.5260 - accuracy: 0.6972 - val_loss: 0.7594 - val_accuracy: 0.6667 - 40ms/epoch - 8ms/step\n",
            "Epoch 36/100\n",
            "5/5 - 0s - loss: 0.5253 - accuracy: 0.6972 - val_loss: 0.7591 - val_accuracy: 0.6667 - 44ms/epoch - 9ms/step\n",
            "Epoch 37/100\n",
            "5/5 - 0s - loss: 0.5246 - accuracy: 0.6972 - val_loss: 0.7591 - val_accuracy: 0.6667 - 60ms/epoch - 12ms/step\n",
            "Epoch 38/100\n",
            "5/5 - 0s - loss: 0.5242 - accuracy: 0.6972 - val_loss: 0.7573 - val_accuracy: 0.6667 - 40ms/epoch - 8ms/step\n",
            "Epoch 39/100\n",
            "5/5 - 0s - loss: 0.5235 - accuracy: 0.6972 - val_loss: 0.7555 - val_accuracy: 0.6667 - 41ms/epoch - 8ms/step\n",
            "Epoch 40/100\n",
            "5/5 - 0s - loss: 0.5227 - accuracy: 0.6972 - val_loss: 0.7564 - val_accuracy: 0.6667 - 47ms/epoch - 9ms/step\n",
            "Epoch 41/100\n",
            "5/5 - 0s - loss: 0.5221 - accuracy: 0.6972 - val_loss: 0.7558 - val_accuracy: 0.6667 - 42ms/epoch - 8ms/step\n",
            "Epoch 42/100\n",
            "5/5 - 0s - loss: 0.5216 - accuracy: 0.6972 - val_loss: 0.7541 - val_accuracy: 0.6667 - 69ms/epoch - 14ms/step\n",
            "Epoch 43/100\n",
            "5/5 - 0s - loss: 0.5208 - accuracy: 0.6972 - val_loss: 0.7542 - val_accuracy: 0.6667 - 40ms/epoch - 8ms/step\n",
            "Epoch 44/100\n",
            "5/5 - 0s - loss: 0.5201 - accuracy: 0.6972 - val_loss: 0.7546 - val_accuracy: 0.6667 - 40ms/epoch - 8ms/step\n",
            "Epoch 45/100\n",
            "5/5 - 0s - loss: 0.5196 - accuracy: 0.6972 - val_loss: 0.7540 - val_accuracy: 0.6667 - 61ms/epoch - 12ms/step\n",
            "Epoch 46/100\n",
            "5/5 - 0s - loss: 0.5190 - accuracy: 0.6972 - val_loss: 0.7533 - val_accuracy: 0.6667 - 62ms/epoch - 12ms/step\n",
            "Epoch 47/100\n",
            "5/5 - 0s - loss: 0.5183 - accuracy: 0.6972 - val_loss: 0.7528 - val_accuracy: 0.6667 - 54ms/epoch - 11ms/step\n",
            "Epoch 48/100\n",
            "5/5 - 0s - loss: 0.5176 - accuracy: 0.6972 - val_loss: 0.7523 - val_accuracy: 0.6667 - 60ms/epoch - 12ms/step\n",
            "Epoch 49/100\n",
            "5/5 - 0s - loss: 0.5170 - accuracy: 0.6972 - val_loss: 0.7523 - val_accuracy: 0.6667 - 74ms/epoch - 15ms/step\n",
            "Epoch 50/100\n",
            "5/5 - 0s - loss: 0.5163 - accuracy: 0.6972 - val_loss: 0.7521 - val_accuracy: 0.6667 - 59ms/epoch - 12ms/step\n",
            "Epoch 51/100\n",
            "5/5 - 0s - loss: 0.5157 - accuracy: 0.6972 - val_loss: 0.7518 - val_accuracy: 0.6667 - 59ms/epoch - 12ms/step\n",
            "Epoch 52/100\n",
            "5/5 - 0s - loss: 0.5152 - accuracy: 0.6972 - val_loss: 0.7509 - val_accuracy: 0.6667 - 71ms/epoch - 14ms/step\n",
            "Epoch 53/100\n",
            "5/5 - 0s - loss: 0.5145 - accuracy: 0.6972 - val_loss: 0.7507 - val_accuracy: 0.6667 - 76ms/epoch - 15ms/step\n",
            "Epoch 54/100\n",
            "5/5 - 0s - loss: 0.5138 - accuracy: 0.6972 - val_loss: 0.7509 - val_accuracy: 0.6667 - 79ms/epoch - 16ms/step\n",
            "Epoch 55/100\n",
            "5/5 - 0s - loss: 0.5132 - accuracy: 0.6972 - val_loss: 0.7506 - val_accuracy: 0.6667 - 77ms/epoch - 15ms/step\n",
            "Epoch 56/100\n",
            "5/5 - 0s - loss: 0.5126 - accuracy: 0.6972 - val_loss: 0.7502 - val_accuracy: 0.6667 - 60ms/epoch - 12ms/step\n",
            "Epoch 57/100\n",
            "5/5 - 0s - loss: 0.5119 - accuracy: 0.6972 - val_loss: 0.7502 - val_accuracy: 0.6667 - 61ms/epoch - 12ms/step\n",
            "Epoch 58/100\n",
            "5/5 - 0s - loss: 0.5114 - accuracy: 0.6972 - val_loss: 0.7488 - val_accuracy: 0.6667 - 58ms/epoch - 12ms/step\n",
            "Epoch 59/100\n",
            "5/5 - 0s - loss: 0.5108 - accuracy: 0.6972 - val_loss: 0.7470 - val_accuracy: 0.6667 - 68ms/epoch - 14ms/step\n",
            "Epoch 60/100\n",
            "5/5 - 0s - loss: 0.5099 - accuracy: 0.6972 - val_loss: 0.7474 - val_accuracy: 0.6667 - 57ms/epoch - 11ms/step\n",
            "Epoch 61/100\n",
            "5/5 - 0s - loss: 0.5093 - accuracy: 0.6972 - val_loss: 0.7472 - val_accuracy: 0.6667 - 64ms/epoch - 13ms/step\n",
            "Epoch 62/100\n",
            "5/5 - 0s - loss: 0.5089 - accuracy: 0.6972 - val_loss: 0.7454 - val_accuracy: 0.6667 - 57ms/epoch - 11ms/step\n",
            "Epoch 63/100\n",
            "5/5 - 0s - loss: 0.5080 - accuracy: 0.6972 - val_loss: 0.7452 - val_accuracy: 0.6667 - 57ms/epoch - 11ms/step\n",
            "Epoch 64/100\n",
            "5/5 - 0s - loss: 0.5073 - accuracy: 0.6972 - val_loss: 0.7458 - val_accuracy: 0.6667 - 70ms/epoch - 14ms/step\n",
            "Epoch 65/100\n",
            "5/5 - 0s - loss: 0.5067 - accuracy: 0.6972 - val_loss: 0.7452 - val_accuracy: 0.6667 - 78ms/epoch - 16ms/step\n",
            "Epoch 66/100\n",
            "5/5 - 0s - loss: 0.5061 - accuracy: 0.6972 - val_loss: 0.7442 - val_accuracy: 0.6667 - 66ms/epoch - 13ms/step\n",
            "Epoch 67/100\n",
            "5/5 - 0s - loss: 0.5053 - accuracy: 0.6972 - val_loss: 0.7440 - val_accuracy: 0.6667 - 74ms/epoch - 15ms/step\n",
            "Epoch 68/100\n",
            "5/5 - 0s - loss: 0.5046 - accuracy: 0.6972 - val_loss: 0.7432 - val_accuracy: 0.6667 - 71ms/epoch - 14ms/step\n",
            "Epoch 69/100\n",
            "5/5 - 0s - loss: 0.5040 - accuracy: 0.6972 - val_loss: 0.7421 - val_accuracy: 0.6667 - 56ms/epoch - 11ms/step\n",
            "Epoch 70/100\n",
            "5/5 - 0s - loss: 0.5032 - accuracy: 0.6972 - val_loss: 0.7424 - val_accuracy: 0.6667 - 56ms/epoch - 11ms/step\n",
            "Epoch 71/100\n",
            "5/5 - 0s - loss: 0.5026 - accuracy: 0.6972 - val_loss: 0.7422 - val_accuracy: 0.6667 - 76ms/epoch - 15ms/step\n",
            "Epoch 72/100\n",
            "5/5 - 0s - loss: 0.5020 - accuracy: 0.6972 - val_loss: 0.7415 - val_accuracy: 0.6667 - 79ms/epoch - 16ms/step\n",
            "Epoch 73/100\n",
            "5/5 - 0s - loss: 0.5013 - accuracy: 0.6972 - val_loss: 0.7414 - val_accuracy: 0.6667 - 52ms/epoch - 10ms/step\n",
            "Epoch 74/100\n",
            "5/5 - 0s - loss: 0.5006 - accuracy: 0.6972 - val_loss: 0.7415 - val_accuracy: 0.6667 - 56ms/epoch - 11ms/step\n",
            "Epoch 75/100\n",
            "5/5 - 0s - loss: 0.5000 - accuracy: 0.6972 - val_loss: 0.7412 - val_accuracy: 0.6667 - 74ms/epoch - 15ms/step\n",
            "Epoch 76/100\n",
            "5/5 - 0s - loss: 0.4994 - accuracy: 0.6972 - val_loss: 0.7403 - val_accuracy: 0.6667 - 70ms/epoch - 14ms/step\n",
            "Epoch 77/100\n",
            "5/5 - 0s - loss: 0.4986 - accuracy: 0.6972 - val_loss: 0.7405 - val_accuracy: 0.6667 - 58ms/epoch - 12ms/step\n",
            "Epoch 78/100\n",
            "5/5 - 0s - loss: 0.4979 - accuracy: 0.6972 - val_loss: 0.7408 - val_accuracy: 0.6667 - 56ms/epoch - 11ms/step\n",
            "Epoch 79/100\n",
            "5/5 - 0s - loss: 0.4975 - accuracy: 0.6972 - val_loss: 0.7394 - val_accuracy: 0.6667 - 76ms/epoch - 15ms/step\n",
            "Epoch 80/100\n",
            "5/5 - 0s - loss: 0.4967 - accuracy: 0.6972 - val_loss: 0.7386 - val_accuracy: 0.6667 - 65ms/epoch - 13ms/step\n",
            "Epoch 81/100\n",
            "5/5 - 0s - loss: 0.4962 - accuracy: 0.6972 - val_loss: 0.7352 - val_accuracy: 0.6667 - 127ms/epoch - 25ms/step\n",
            "Epoch 82/100\n",
            "5/5 - 0s - loss: 0.4954 - accuracy: 0.6972 - val_loss: 0.7338 - val_accuracy: 0.6667 - 114ms/epoch - 23ms/step\n",
            "Epoch 83/100\n",
            "5/5 - 0s - loss: 0.4942 - accuracy: 0.6972 - val_loss: 0.7355 - val_accuracy: 0.6667 - 108ms/epoch - 22ms/step\n",
            "Epoch 84/100\n",
            "5/5 - 0s - loss: 0.4937 - accuracy: 0.6972 - val_loss: 0.7349 - val_accuracy: 0.6667 - 136ms/epoch - 27ms/step\n",
            "Epoch 85/100\n",
            "5/5 - 0s - loss: 0.4931 - accuracy: 0.6972 - val_loss: 0.7325 - val_accuracy: 0.6667 - 107ms/epoch - 21ms/step\n",
            "Epoch 86/100\n",
            "5/5 - 0s - loss: 0.4925 - accuracy: 0.6972 - val_loss: 0.7283 - val_accuracy: 0.6667 - 102ms/epoch - 20ms/step\n",
            "Epoch 87/100\n",
            "5/5 - 0s - loss: 0.4913 - accuracy: 0.6972 - val_loss: 0.7280 - val_accuracy: 0.6667 - 95ms/epoch - 19ms/step\n",
            "Epoch 88/100\n",
            "5/5 - 0s - loss: 0.4902 - accuracy: 0.6972 - val_loss: 0.7293 - val_accuracy: 0.6667 - 132ms/epoch - 26ms/step\n",
            "Epoch 89/100\n",
            "5/5 - 0s - loss: 0.4898 - accuracy: 0.6972 - val_loss: 0.7268 - val_accuracy: 0.6667 - 94ms/epoch - 19ms/step\n",
            "Epoch 90/100\n",
            "5/5 - 0s - loss: 0.4891 - accuracy: 0.6972 - val_loss: 0.7238 - val_accuracy: 0.6667 - 93ms/epoch - 19ms/step\n",
            "Epoch 91/100\n",
            "5/5 - 0s - loss: 0.4879 - accuracy: 0.6972 - val_loss: 0.7247 - val_accuracy: 0.6667 - 86ms/epoch - 17ms/step\n",
            "Epoch 92/100\n",
            "5/5 - 0s - loss: 0.4871 - accuracy: 0.6972 - val_loss: 0.7246 - val_accuracy: 0.6667 - 82ms/epoch - 16ms/step\n",
            "Epoch 93/100\n",
            "5/5 - 0s - loss: 0.4865 - accuracy: 0.6972 - val_loss: 0.7226 - val_accuracy: 0.6667 - 79ms/epoch - 16ms/step\n",
            "Epoch 94/100\n",
            "5/5 - 0s - loss: 0.4856 - accuracy: 0.6972 - val_loss: 0.7219 - val_accuracy: 0.6667 - 167ms/epoch - 33ms/step\n",
            "Epoch 95/100\n",
            "5/5 - 0s - loss: 0.4848 - accuracy: 0.6972 - val_loss: 0.7210 - val_accuracy: 0.6667 - 181ms/epoch - 36ms/step\n",
            "Epoch 96/100\n",
            "5/5 - 0s - loss: 0.4840 - accuracy: 0.6972 - val_loss: 0.7197 - val_accuracy: 0.6667 - 128ms/epoch - 26ms/step\n",
            "Epoch 97/100\n",
            "5/5 - 0s - loss: 0.4831 - accuracy: 0.6972 - val_loss: 0.7195 - val_accuracy: 0.6667 - 122ms/epoch - 24ms/step\n",
            "Epoch 98/100\n",
            "5/5 - 0s - loss: 0.4822 - accuracy: 0.6972 - val_loss: 0.7190 - val_accuracy: 0.6667 - 114ms/epoch - 23ms/step\n",
            "Epoch 99/100\n",
            "5/5 - 0s - loss: 0.4815 - accuracy: 0.6972 - val_loss: 0.7180 - val_accuracy: 0.6667 - 123ms/epoch - 25ms/step\n",
            "Epoch 100/100\n",
            "5/5 - 0s - loss: 0.4806 - accuracy: 0.6972 - val_loss: 0.7174 - val_accuracy: 0.6667 - 129ms/epoch - 26ms/step\n"
          ]
        }
      ]
    },
    {
      "cell_type": "code",
      "source": [
        "#Y ahora vemos la función de costo\n",
        "\n",
        "plt.plot(history_model.history['loss'])\n",
        "plt.plot(history_model.history['val_loss'])\n",
        "plt.title('Cost function', size=16)\n",
        "plt.ylabel('Cost', size=16)\n",
        "plt.xlabel('Epoch', size=16)\n",
        "plt.legend(['Train', 'Validation'], loc='upper right', prop={'size': 16})\n",
        "plt.show()"
      ],
      "metadata": {
        "colab": {
          "base_uri": "https://localhost:8080/",
          "height": 480
        },
        "id": "Ocoy9uJYaVZ0",
        "outputId": "8228e883-316b-452d-c8ee-d1a695911da1"
      },
      "execution_count": null,
      "outputs": [
        {
          "output_type": "display_data",
          "data": {
            "text/plain": [
              "<Figure size 640x480 with 1 Axes>"
            ],
            "image/png": "[encoded data removed]"
          },
          "metadata": {}
        }
      ]
    },
    {
      "cell_type": "code",
      "source": [
        "#Y la función en función de acc\n",
        "\n",
        "plt.plot(history_model.history['accuracy'])\n",
        "plt.plot(history_model.history['val_accuracy'])\n",
        "plt.title('Model accuracy', size=16)\n",
        "plt.ylabel('Accuracy', size=16)\n",
        "plt.xlabel('Epoch', size=16)\n",
        "plt.legend(['Train', 'Validation'], loc='lower right', prop={'size': 16})\n",
        "plt.show()"
      ],
      "metadata": {
        "colab": {
          "base_uri": "https://localhost:8080/",
          "height": 480
        },
        "id": "eq5MeFl1bT50",
        "outputId": "815cbb34-ff6e-42ba-9b2a-04a544ab2d1a"
      },
      "execution_count": null,
      "outputs": [
        {
          "output_type": "display_data",
          "data": {
            "text/plain": [
              "<Figure size 640x480 with 1 Axes>"
            ],
            "image/png": "[encoded data removed]"
          },
          "metadata": {}
        }
      ]
    },
    {
      "cell_type": "code",
      "source": [
        "#Evaluamos\n",
        "\n",
        "evaluations = modell.evaluate(x = x_test_norm, y = test_y)\n",
        "\n",
        "print (\"Loss = \" + str(evaluations[0]))\n",
        "print (\"Test Accuracy = \" + str(evaluations[1]))"
      ],
      "metadata": {
        "colab": {
          "base_uri": "https://localhost:8080/"
        },
        "id": "yyIWWFlBba1M",
        "outputId": "cbc24d7a-89f8-48de-e36d-0fff63ef3cc4"
      },
      "execution_count": null,
      "outputs": [
        {
          "output_type": "stream",
          "name": "stdout",
          "text": [
            "1/1 [==============================] - 0s 42ms/step - loss: 2.2968 - accuracy: 0.2778\n",
            "Loss = 2.2968015670776367\n",
            "Test Accuracy = 0.2777777910232544\n"
          ]
        }
      ]
    },
    {
      "cell_type": "code",
      "source": [
        "#Establecemos los hiperparámetros del primero modelo a evaluar\n",
        "\n",
        "M2capa1 = 10\n",
        "M2capa2 = 7\n",
        "M2init = 'uniform'\n",
        "M2act = 'sigmoid'\n",
        "M2input = (13,)\n",
        "M2clas = 3"
      ],
      "metadata": {
        "id": "i-d8GrL6c59h"
      },
      "execution_count": null,
      "outputs": []
    },
    {
      "cell_type": "code",
      "source": [
        "model2 = architecture(M2capa1, M2capa2, M2init, M2act, M2input, 3)"
      ],
      "metadata": {
        "id": "7WQag_R6c59i"
      },
      "execution_count": null,
      "outputs": []
    },
    {
      "cell_type": "code",
      "source": [
        "#Podemos visualizar el modelo\n",
        "\n",
        "plot_model(model2, to_file='model_2.png', show_shapes=True, show_layer_names=True)"
      ],
      "metadata": {
        "colab": {
          "base_uri": "https://localhost:8080/",
          "height": 422
        },
        "outputId": "619ced3b-bc03-4471-815a-114cad72279b",
        "id": "2_2Yk9t1c59i"
      },
      "execution_count": null,
      "outputs": [
        {
          "output_type": "execute_result",
          "data": {
            "image/png": "[encoded data removed]",
            "text/plain": [
              "<IPython.core.display.Image object>"
            ]
          },
          "metadata": {},
          "execution_count": 130
        }
      ]
    },
    {
      "cell_type": "code",
      "source": [
        "#Los optimizadores, pérdida y métrica\n",
        "\n",
        "optimizer = keras.optimizers.Adam(learning_rate=0.001)\n",
        "loss = 'sparse_categorical_crossentropy'\n",
        "acc = 'accuracy'"
      ],
      "metadata": {
        "id": "5DHn1n7Zc59i"
      },
      "execution_count": null,
      "outputs": []
    },
    {
      "cell_type": "code",
      "source": [
        "#Y compilamos\n",
        "\n",
        "model2.compile(optimizer = optimizer, loss = 'SparseCategoricalCrossentropy', metrics = acc)"
      ],
      "metadata": {
        "id": "FwFKzTZGc59i"
      },
      "execution_count": null,
      "outputs": []
    },
    {
      "cell_type": "code",
      "source": [
        "#Para finalmente correrlo\n",
        "\n",
        "num_epochs = 100\n",
        "\n",
        "history_model = model2.fit(train_x,train_y, epochs=num_epochs, batch_size = 32, \\\n",
        "                          validation_data=(valid_x,valid_y), shuffle=False, verbose=2)"
      ],
      "metadata": {
        "colab": {
          "base_uri": "https://localhost:8080/"
        },
        "outputId": "8f35d9e6-5aa7-4d12-cb7a-dcaf9d1f4ac2",
        "id": "pMNvM3Kxc59i"
      },
      "execution_count": null,
      "outputs": [
        {
          "output_type": "stream",
          "name": "stdout",
          "text": [
            "Epoch 1/100\n",
            "5/5 - 1s - loss: 1.0962 - accuracy: 0.3310 - val_loss: 1.0910 - val_accuracy: 0.2222 - 1s/epoch - 200ms/step\n",
            "Epoch 2/100\n",
            "5/5 - 0s - loss: 1.0946 - accuracy: 0.3944 - val_loss: 1.0873 - val_accuracy: 0.5556 - 65ms/epoch - 13ms/step\n",
            "Epoch 3/100\n",
            "5/5 - 0s - loss: 1.0935 - accuracy: 0.3944 - val_loss: 1.0836 - val_accuracy: 0.5556 - 38ms/epoch - 8ms/step\n",
            "Epoch 4/100\n",
            "5/5 - 0s - loss: 1.0925 - accuracy: 0.3944 - val_loss: 1.0800 - val_accuracy: 0.5556 - 45ms/epoch - 9ms/step\n",
            "Epoch 5/100\n",
            "5/5 - 0s - loss: 1.0917 - accuracy: 0.3944 - val_loss: 1.0766 - val_accuracy: 0.5556 - 42ms/epoch - 8ms/step\n",
            "Epoch 6/100\n",
            "5/5 - 0s - loss: 1.0910 - accuracy: 0.3944 - val_loss: 1.0733 - val_accuracy: 0.5556 - 47ms/epoch - 9ms/step\n",
            "Epoch 7/100\n",
            "5/5 - 0s - loss: 1.0904 - accuracy: 0.3944 - val_loss: 1.0703 - val_accuracy: 0.5556 - 62ms/epoch - 12ms/step\n",
            "Epoch 8/100\n",
            "5/5 - 0s - loss: 1.0898 - accuracy: 0.3944 - val_loss: 1.0674 - val_accuracy: 0.5556 - 52ms/epoch - 10ms/step\n",
            "Epoch 9/100\n",
            "5/5 - 0s - loss: 1.0894 - accuracy: 0.3944 - val_loss: 1.0647 - val_accuracy: 0.5556 - 42ms/epoch - 8ms/step\n",
            "Epoch 10/100\n",
            "5/5 - 0s - loss: 1.0890 - accuracy: 0.3944 - val_loss: 1.0622 - val_accuracy: 0.5556 - 43ms/epoch - 9ms/step\n",
            "Epoch 11/100\n",
            "5/5 - 0s - loss: 1.0887 - accuracy: 0.3944 - val_loss: 1.0598 - val_accuracy: 0.5556 - 40ms/epoch - 8ms/step\n",
            "Epoch 12/100\n",
            "5/5 - 0s - loss: 1.0884 - accuracy: 0.3944 - val_loss: 1.0576 - val_accuracy: 0.5556 - 41ms/epoch - 8ms/step\n",
            "Epoch 13/100\n",
            "5/5 - 0s - loss: 1.0882 - accuracy: 0.3944 - val_loss: 1.0556 - val_accuracy: 0.5556 - 69ms/epoch - 14ms/step\n",
            "Epoch 14/100\n",
            "5/5 - 0s - loss: 1.0880 - accuracy: 0.3944 - val_loss: 1.0537 - val_accuracy: 0.5556 - 42ms/epoch - 8ms/step\n",
            "Epoch 15/100\n",
            "5/5 - 0s - loss: 1.0878 - accuracy: 0.3944 - val_loss: 1.0520 - val_accuracy: 0.5556 - 47ms/epoch - 9ms/step\n",
            "Epoch 16/100\n",
            "5/5 - 0s - loss: 1.0877 - accuracy: 0.3944 - val_loss: 1.0504 - val_accuracy: 0.5556 - 96ms/epoch - 19ms/step\n",
            "Epoch 17/100\n",
            "5/5 - 0s - loss: 1.0876 - accuracy: 0.3944 - val_loss: 1.0489 - val_accuracy: 0.5556 - 43ms/epoch - 9ms/step\n",
            "Epoch 18/100\n",
            "5/5 - 0s - loss: 1.0875 - accuracy: 0.3944 - val_loss: 1.0475 - val_accuracy: 0.5556 - 39ms/epoch - 8ms/step\n",
            "Epoch 19/100\n",
            "5/5 - 0s - loss: 1.0874 - accuracy: 0.3944 - val_loss: 1.0462 - val_accuracy: 0.5556 - 45ms/epoch - 9ms/step\n",
            "Epoch 20/100\n",
            "5/5 - 0s - loss: 1.0873 - accuracy: 0.3944 - val_loss: 1.0450 - val_accuracy: 0.5556 - 41ms/epoch - 8ms/step\n",
            "Epoch 21/100\n",
            "5/5 - 0s - loss: 1.0872 - accuracy: 0.3944 - val_loss: 1.0439 - val_accuracy: 0.5556 - 40ms/epoch - 8ms/step\n",
            "Epoch 22/100\n",
            "5/5 - 0s - loss: 1.0872 - accuracy: 0.3944 - val_loss: 1.0429 - val_accuracy: 0.5556 - 42ms/epoch - 8ms/step\n",
            "Epoch 23/100\n",
            "5/5 - 0s - loss: 1.0871 - accuracy: 0.3944 - val_loss: 1.0419 - val_accuracy: 0.5556 - 43ms/epoch - 9ms/step\n",
            "Epoch 24/100\n",
            "5/5 - 0s - loss: 1.0870 - accuracy: 0.3944 - val_loss: 1.0410 - val_accuracy: 0.5556 - 60ms/epoch - 12ms/step\n",
            "Epoch 25/100\n",
            "5/5 - 0s - loss: 1.0870 - accuracy: 0.3944 - val_loss: 1.0402 - val_accuracy: 0.5556 - 40ms/epoch - 8ms/step\n",
            "Epoch 26/100\n",
            "5/5 - 0s - loss: 1.0869 - accuracy: 0.3944 - val_loss: 1.0394 - val_accuracy: 0.5556 - 60ms/epoch - 12ms/step\n",
            "Epoch 27/100\n",
            "5/5 - 0s - loss: 1.0868 - accuracy: 0.3944 - val_loss: 1.0386 - val_accuracy: 0.5556 - 44ms/epoch - 9ms/step\n",
            "Epoch 28/100\n",
            "5/5 - 0s - loss: 1.0867 - accuracy: 0.3944 - val_loss: 1.0379 - val_accuracy: 0.5556 - 45ms/epoch - 9ms/step\n",
            "Epoch 29/100\n",
            "5/5 - 0s - loss: 1.0866 - accuracy: 0.3944 - val_loss: 1.0372 - val_accuracy: 0.5556 - 42ms/epoch - 8ms/step\n",
            "Epoch 30/100\n",
            "5/5 - 0s - loss: 1.0865 - accuracy: 0.3944 - val_loss: 1.0366 - val_accuracy: 0.5556 - 40ms/epoch - 8ms/step\n",
            "Epoch 31/100\n",
            "5/5 - 0s - loss: 1.0864 - accuracy: 0.3944 - val_loss: 1.0360 - val_accuracy: 0.5556 - 57ms/epoch - 11ms/step\n",
            "Epoch 32/100\n",
            "5/5 - 0s - loss: 1.0863 - accuracy: 0.3944 - val_loss: 1.0354 - val_accuracy: 0.5556 - 41ms/epoch - 8ms/step\n",
            "Epoch 33/100\n",
            "5/5 - 0s - loss: 1.0862 - accuracy: 0.3944 - val_loss: 1.0348 - val_accuracy: 0.5556 - 48ms/epoch - 10ms/step\n",
            "Epoch 34/100\n",
            "5/5 - 0s - loss: 1.0861 - accuracy: 0.3944 - val_loss: 1.0343 - val_accuracy: 0.5556 - 42ms/epoch - 8ms/step\n",
            "Epoch 35/100\n",
            "5/5 - 0s - loss: 1.0860 - accuracy: 0.3944 - val_loss: 1.0337 - val_accuracy: 0.5556 - 38ms/epoch - 8ms/step\n",
            "Epoch 36/100\n",
            "5/5 - 0s - loss: 1.0858 - accuracy: 0.3944 - val_loss: 1.0332 - val_accuracy: 0.5556 - 51ms/epoch - 10ms/step\n",
            "Epoch 37/100\n",
            "5/5 - 0s - loss: 1.0857 - accuracy: 0.3944 - val_loss: 1.0327 - val_accuracy: 0.5556 - 63ms/epoch - 13ms/step\n",
            "Epoch 38/100\n",
            "5/5 - 0s - loss: 1.0855 - accuracy: 0.3944 - val_loss: 1.0322 - val_accuracy: 0.5556 - 44ms/epoch - 9ms/step\n",
            "Epoch 39/100\n",
            "5/5 - 0s - loss: 1.0854 - accuracy: 0.3944 - val_loss: 1.0316 - val_accuracy: 0.5556 - 79ms/epoch - 16ms/step\n",
            "Epoch 40/100\n",
            "5/5 - 0s - loss: 1.0852 - accuracy: 0.3944 - val_loss: 1.0311 - val_accuracy: 0.5556 - 65ms/epoch - 13ms/step\n",
            "Epoch 41/100\n",
            "5/5 - 0s - loss: 1.0850 - accuracy: 0.3944 - val_loss: 1.0306 - val_accuracy: 0.5556 - 65ms/epoch - 13ms/step\n",
            "Epoch 42/100\n",
            "5/5 - 0s - loss: 1.0848 - accuracy: 0.3944 - val_loss: 1.0301 - val_accuracy: 0.5556 - 78ms/epoch - 16ms/step\n",
            "Epoch 43/100\n",
            "5/5 - 0s - loss: 1.0846 - accuracy: 0.3944 - val_loss: 1.0296 - val_accuracy: 0.5556 - 75ms/epoch - 15ms/step\n",
            "Epoch 44/100\n",
            "5/5 - 0s - loss: 1.0844 - accuracy: 0.3944 - val_loss: 1.0291 - val_accuracy: 0.5556 - 73ms/epoch - 15ms/step\n",
            "Epoch 45/100\n",
            "5/5 - 0s - loss: 1.0842 - accuracy: 0.3944 - val_loss: 1.0286 - val_accuracy: 0.5556 - 71ms/epoch - 14ms/step\n",
            "Epoch 46/100\n",
            "5/5 - 0s - loss: 1.0840 - accuracy: 0.3944 - val_loss: 1.0281 - val_accuracy: 0.5556 - 55ms/epoch - 11ms/step\n",
            "Epoch 47/100\n",
            "5/5 - 0s - loss: 1.0838 - accuracy: 0.3944 - val_loss: 1.0276 - val_accuracy: 0.5556 - 61ms/epoch - 12ms/step\n",
            "Epoch 48/100\n",
            "5/5 - 0s - loss: 1.0835 - accuracy: 0.3944 - val_loss: 1.0270 - val_accuracy: 0.5556 - 57ms/epoch - 11ms/step\n",
            "Epoch 49/100\n",
            "5/5 - 0s - loss: 1.0833 - accuracy: 0.3944 - val_loss: 1.0265 - val_accuracy: 0.5556 - 56ms/epoch - 11ms/step\n",
            "Epoch 50/100\n",
            "5/5 - 0s - loss: 1.0830 - accuracy: 0.3944 - val_loss: 1.0259 - val_accuracy: 0.5556 - 90ms/epoch - 18ms/step\n",
            "Epoch 51/100\n",
            "5/5 - 0s - loss: 1.0828 - accuracy: 0.3944 - val_loss: 1.0254 - val_accuracy: 0.5556 - 87ms/epoch - 17ms/step\n",
            "Epoch 52/100\n",
            "5/5 - 0s - loss: 1.0825 - accuracy: 0.3944 - val_loss: 1.0248 - val_accuracy: 0.5556 - 81ms/epoch - 16ms/step\n",
            "Epoch 53/100\n",
            "5/5 - 0s - loss: 1.0822 - accuracy: 0.3944 - val_loss: 1.0242 - val_accuracy: 0.5556 - 68ms/epoch - 14ms/step\n",
            "Epoch 54/100\n",
            "5/5 - 0s - loss: 1.0819 - accuracy: 0.3944 - val_loss: 1.0237 - val_accuracy: 0.5556 - 76ms/epoch - 15ms/step\n",
            "Epoch 55/100\n",
            "5/5 - 0s - loss: 1.0816 - accuracy: 0.3944 - val_loss: 1.0231 - val_accuracy: 0.5556 - 57ms/epoch - 11ms/step\n",
            "Epoch 56/100\n",
            "5/5 - 0s - loss: 1.0813 - accuracy: 0.3944 - val_loss: 1.0223 - val_accuracy: 0.5556 - 58ms/epoch - 12ms/step\n",
            "Epoch 57/100\n",
            "5/5 - 0s - loss: 1.0810 - accuracy: 0.3944 - val_loss: 1.0216 - val_accuracy: 0.5556 - 67ms/epoch - 13ms/step\n",
            "Epoch 58/100\n",
            "5/5 - 0s - loss: 1.0806 - accuracy: 0.3944 - val_loss: 1.0207 - val_accuracy: 0.5556 - 54ms/epoch - 11ms/step\n",
            "Epoch 59/100\n",
            "5/5 - 0s - loss: 1.0802 - accuracy: 0.3944 - val_loss: 1.0196 - val_accuracy: 0.5556 - 54ms/epoch - 11ms/step\n",
            "Epoch 60/100\n",
            "5/5 - 0s - loss: 1.0797 - accuracy: 0.3944 - val_loss: 1.0187 - val_accuracy: 0.5556 - 58ms/epoch - 12ms/step\n",
            "Epoch 61/100\n",
            "5/5 - 0s - loss: 1.0792 - accuracy: 0.3944 - val_loss: 1.0177 - val_accuracy: 0.5556 - 70ms/epoch - 14ms/step\n",
            "Epoch 62/100\n",
            "5/5 - 0s - loss: 1.0787 - accuracy: 0.3944 - val_loss: 1.0166 - val_accuracy: 0.5556 - 62ms/epoch - 12ms/step\n",
            "Epoch 63/100\n",
            "5/5 - 0s - loss: 1.0782 - accuracy: 0.3944 - val_loss: 1.0156 - val_accuracy: 0.5556 - 55ms/epoch - 11ms/step\n",
            "Epoch 64/100\n",
            "5/5 - 0s - loss: 1.0776 - accuracy: 0.3944 - val_loss: 1.0145 - val_accuracy: 0.5556 - 56ms/epoch - 11ms/step\n",
            "Epoch 65/100\n",
            "5/5 - 0s - loss: 1.0771 - accuracy: 0.3944 - val_loss: 1.0135 - val_accuracy: 0.5556 - 74ms/epoch - 15ms/step\n",
            "Epoch 66/100\n",
            "5/5 - 0s - loss: 1.0765 - accuracy: 0.3944 - val_loss: 1.0124 - val_accuracy: 0.5556 - 68ms/epoch - 14ms/step\n",
            "Epoch 67/100\n",
            "5/5 - 0s - loss: 1.0759 - accuracy: 0.3944 - val_loss: 1.0114 - val_accuracy: 0.5556 - 73ms/epoch - 15ms/step\n",
            "Epoch 68/100\n",
            "5/5 - 0s - loss: 1.0753 - accuracy: 0.3944 - val_loss: 1.0103 - val_accuracy: 0.5556 - 75ms/epoch - 15ms/step\n",
            "Epoch 69/100\n",
            "5/5 - 0s - loss: 1.0747 - accuracy: 0.3944 - val_loss: 1.0092 - val_accuracy: 0.5556 - 60ms/epoch - 12ms/step\n",
            "Epoch 70/100\n",
            "5/5 - 0s - loss: 1.0741 - accuracy: 0.3944 - val_loss: 1.0081 - val_accuracy: 0.5556 - 81ms/epoch - 16ms/step\n",
            "Epoch 71/100\n",
            "5/5 - 0s - loss: 1.0734 - accuracy: 0.3944 - val_loss: 1.0070 - val_accuracy: 0.5556 - 77ms/epoch - 15ms/step\n",
            "Epoch 72/100\n",
            "5/5 - 0s - loss: 1.0727 - accuracy: 0.3944 - val_loss: 1.0058 - val_accuracy: 0.5556 - 74ms/epoch - 15ms/step\n",
            "Epoch 73/100\n",
            "5/5 - 0s - loss: 1.0720 - accuracy: 0.3944 - val_loss: 1.0046 - val_accuracy: 0.5556 - 71ms/epoch - 14ms/step\n",
            "Epoch 74/100\n",
            "5/5 - 0s - loss: 1.0713 - accuracy: 0.3944 - val_loss: 1.0034 - val_accuracy: 0.5556 - 60ms/epoch - 12ms/step\n",
            "Epoch 75/100\n",
            "5/5 - 0s - loss: 1.0706 - accuracy: 0.3944 - val_loss: 1.0022 - val_accuracy: 0.5556 - 77ms/epoch - 15ms/step\n",
            "Epoch 76/100\n",
            "5/5 - 0s - loss: 1.0698 - accuracy: 0.3944 - val_loss: 1.0010 - val_accuracy: 0.5556 - 79ms/epoch - 16ms/step\n",
            "Epoch 77/100\n",
            "5/5 - 0s - loss: 1.0690 - accuracy: 0.3944 - val_loss: 0.9997 - val_accuracy: 0.5556 - 72ms/epoch - 14ms/step\n",
            "Epoch 78/100\n",
            "5/5 - 0s - loss: 1.0682 - accuracy: 0.3944 - val_loss: 0.9984 - val_accuracy: 0.5556 - 65ms/epoch - 13ms/step\n",
            "Epoch 79/100\n",
            "5/5 - 0s - loss: 1.0673 - accuracy: 0.3944 - val_loss: 0.9971 - val_accuracy: 0.5556 - 58ms/epoch - 12ms/step\n",
            "Epoch 80/100\n",
            "5/5 - 0s - loss: 1.0665 - accuracy: 0.3944 - val_loss: 0.9957 - val_accuracy: 0.5556 - 42ms/epoch - 8ms/step\n",
            "Epoch 81/100\n",
            "5/5 - 0s - loss: 1.0656 - accuracy: 0.3944 - val_loss: 0.9944 - val_accuracy: 0.5556 - 42ms/epoch - 8ms/step\n",
            "Epoch 82/100\n",
            "5/5 - 0s - loss: 1.0646 - accuracy: 0.3944 - val_loss: 0.9930 - val_accuracy: 0.5556 - 63ms/epoch - 13ms/step\n",
            "Epoch 83/100\n",
            "5/5 - 0s - loss: 1.0637 - accuracy: 0.3944 - val_loss: 0.9915 - val_accuracy: 0.5556 - 64ms/epoch - 13ms/step\n",
            "Epoch 84/100\n",
            "5/5 - 0s - loss: 1.0627 - accuracy: 0.3944 - val_loss: 0.9901 - val_accuracy: 0.5556 - 43ms/epoch - 9ms/step\n",
            "Epoch 85/100\n",
            "5/5 - 0s - loss: 1.0617 - accuracy: 0.3944 - val_loss: 0.9886 - val_accuracy: 0.5556 - 40ms/epoch - 8ms/step\n",
            "Epoch 86/100\n",
            "5/5 - 0s - loss: 1.0606 - accuracy: 0.3944 - val_loss: 0.9871 - val_accuracy: 0.5556 - 41ms/epoch - 8ms/step\n",
            "Epoch 87/100\n",
            "5/5 - 0s - loss: 1.0595 - accuracy: 0.3944 - val_loss: 0.9855 - val_accuracy: 0.5556 - 59ms/epoch - 12ms/step\n",
            "Epoch 88/100\n",
            "5/5 - 0s - loss: 1.0584 - accuracy: 0.3944 - val_loss: 0.9839 - val_accuracy: 0.5556 - 67ms/epoch - 13ms/step\n",
            "Epoch 89/100\n",
            "5/5 - 0s - loss: 1.0573 - accuracy: 0.3944 - val_loss: 0.9823 - val_accuracy: 0.5556 - 59ms/epoch - 12ms/step\n",
            "Epoch 90/100\n",
            "5/5 - 0s - loss: 1.0561 - accuracy: 0.3944 - val_loss: 0.9807 - val_accuracy: 0.5556 - 44ms/epoch - 9ms/step\n",
            "Epoch 91/100\n",
            "5/5 - 0s - loss: 1.0549 - accuracy: 0.3944 - val_loss: 0.9790 - val_accuracy: 0.5556 - 45ms/epoch - 9ms/step\n",
            "Epoch 92/100\n",
            "5/5 - 0s - loss: 1.0536 - accuracy: 0.3944 - val_loss: 0.9773 - val_accuracy: 0.5556 - 43ms/epoch - 9ms/step\n",
            "Epoch 93/100\n",
            "5/5 - 0s - loss: 1.0523 - accuracy: 0.3944 - val_loss: 0.9755 - val_accuracy: 0.5556 - 58ms/epoch - 12ms/step\n",
            "Epoch 94/100\n",
            "5/5 - 0s - loss: 1.0510 - accuracy: 0.3944 - val_loss: 0.9737 - val_accuracy: 0.5556 - 43ms/epoch - 9ms/step\n",
            "Epoch 95/100\n",
            "5/5 - 0s - loss: 1.0497 - accuracy: 0.3944 - val_loss: 0.9719 - val_accuracy: 0.5556 - 43ms/epoch - 9ms/step\n",
            "Epoch 96/100\n",
            "5/5 - 0s - loss: 1.0483 - accuracy: 0.3944 - val_loss: 0.9700 - val_accuracy: 0.5556 - 44ms/epoch - 9ms/step\n",
            "Epoch 97/100\n",
            "5/5 - 0s - loss: 1.0468 - accuracy: 0.3944 - val_loss: 0.9681 - val_accuracy: 0.5556 - 44ms/epoch - 9ms/step\n",
            "Epoch 98/100\n",
            "5/5 - 0s - loss: 1.0453 - accuracy: 0.3944 - val_loss: 0.9662 - val_accuracy: 0.5556 - 63ms/epoch - 13ms/step\n",
            "Epoch 99/100\n",
            "5/5 - 0s - loss: 1.0438 - accuracy: 0.3944 - val_loss: 0.9640 - val_accuracy: 0.5556 - 47ms/epoch - 9ms/step\n",
            "Epoch 100/100\n",
            "5/5 - 0s - loss: 1.0420 - accuracy: 0.3944 - val_loss: 0.9616 - val_accuracy: 0.5556 - 58ms/epoch - 12ms/step\n"
          ]
        }
      ]
    },
    {
      "cell_type": "code",
      "source": [
        "#Y ahora vemos la función de costo\n",
        "\n",
        "plt.plot(history_model.history['loss'])\n",
        "plt.plot(history_model.history['val_loss'])\n",
        "plt.title('Cost function', size=16)\n",
        "plt.ylabel('Cost', size=16)\n",
        "plt.xlabel('Epoch', size=16)\n",
        "plt.legend(['Train', 'Validation'], loc='upper right', prop={'size': 16})\n",
        "plt.show()"
      ],
      "metadata": {
        "colab": {
          "base_uri": "https://localhost:8080/",
          "height": 480
        },
        "outputId": "19c6130a-b086-4b2d-9953-ccf192469ad6",
        "id": "pUUXMscyc59j"
      },
      "execution_count": null,
      "outputs": [
        {
          "output_type": "display_data",
          "data": {
            "text/plain": [
              "<Figure size 640x480 with 1 Axes>"
            ],
            "image/png": "[encoded data removed]"
          },
          "metadata": {}
        }
      ]
    },
    {
      "cell_type": "code",
      "source": [
        "#Y la función en función de acc\n",
        "\n",
        "plt.plot(history_model.history['accuracy'])\n",
        "plt.plot(history_model.history['val_accuracy'])\n",
        "plt.title('Model accuracy', size=16)\n",
        "plt.ylabel('Accuracy', size=16)\n",
        "plt.xlabel('Epoch', size=16)\n",
        "plt.legend(['Train', 'Validation'], loc='lower right', prop={'size': 16})\n",
        "plt.show()"
      ],
      "metadata": {
        "colab": {
          "base_uri": "https://localhost:8080/",
          "height": 480
        },
        "outputId": "e7229d0d-773c-43cd-cc29-5159c9d7be37",
        "id": "sq8ce6E2c59j"
      },
      "execution_count": null,
      "outputs": [
        {
          "output_type": "display_data",
          "data": {
            "text/plain": [
              "<Figure size 640x480 with 1 Axes>"
            ],
            "image/png": "[encoded data removed]"
          },
          "metadata": {}
        }
      ]
    },
    {
      "cell_type": "code",
      "source": [
        "#Evaluamos\n",
        "\n",
        "evaluations = modell.evaluate(x = x_test_norm, y = test_y)\n",
        "\n",
        "print (\"Loss = \" + str(evaluations[0]))\n",
        "print (\"Test Accuracy = \" + str(evaluations[1]))"
      ],
      "metadata": {
        "colab": {
          "base_uri": "https://localhost:8080/"
        },
        "outputId": "5ad5d532-2990-4825-a501-57dee7f94f00",
        "id": "mUepcVnVc59j"
      },
      "execution_count": null,
      "outputs": [
        {
          "output_type": "stream",
          "name": "stdout",
          "text": [
            "1/1 [==============================] - 0s 28ms/step - loss: 2.2968 - accuracy: 0.2778\n",
            "Loss = 2.2968015670776367\n",
            "Test Accuracy = 0.2777777910232544\n"
          ]
        }
      ]
    },
    {
      "cell_type": "code",
      "source": [
        "#Establecemos los hiperparámetros del primero modelo a evaluar\n",
        "\n",
        "M3capa1 = 20\n",
        "M3capa2 = 10\n",
        "M3init = 'uniform'\n",
        "M3act = 'relu'\n",
        "M3input = (13,)\n",
        "M3clas = 3"
      ],
      "metadata": {
        "id": "M6htNVnzddQq"
      },
      "execution_count": null,
      "outputs": []
    },
    {
      "cell_type": "code",
      "source": [
        "model3 = architecture(M3capa1, M3capa2, M3init, M3act, M3input, 3)"
      ],
      "metadata": {
        "id": "Dr6RToGNddQw"
      },
      "execution_count": null,
      "outputs": []
    },
    {
      "cell_type": "code",
      "source": [
        "#Podemos visualizar el modelo\n",
        "\n",
        "plot_model(model3, to_file='model_3.png', show_shapes=True, show_layer_names=True)"
      ],
      "metadata": {
        "colab": {
          "base_uri": "https://localhost:8080/",
          "height": 422
        },
        "outputId": "be18801f-b58f-4fc1-8813-e390cbff8232",
        "id": "pKQz4ytJddQx"
      },
      "execution_count": null,
      "outputs": [
        {
          "output_type": "execute_result",
          "data": {
            "image/png": "[encoded data removed]",
            "text/plain": [
              "<IPython.core.display.Image object>"
            ]
          },
          "metadata": {},
          "execution_count": 141
        }
      ]
    },
    {
      "cell_type": "code",
      "source": [
        "#Los optimizadores, pérdida y métrica\n",
        "\n",
        "optimizer = keras.optimizers.Adam(learning_rate=0.001)\n",
        "loss = 'sparse_categorical_crossentropy'\n",
        "acc = 'accuracy'"
      ],
      "metadata": {
        "id": "qlM9dI2OddQx"
      },
      "execution_count": null,
      "outputs": []
    },
    {
      "cell_type": "code",
      "source": [
        "#Y compilamos\n",
        "\n",
        "model3.compile(optimizer = optimizer, loss = 'SparseCategoricalCrossentropy', metrics = acc)"
      ],
      "metadata": {
        "id": "WBT6mFwgddQx"
      },
      "execution_count": null,
      "outputs": []
    },
    {
      "cell_type": "code",
      "source": [
        "#Para finalmente correrlo\n",
        "\n",
        "num_epochs = 100\n",
        "\n",
        "history_model = model3.fit(train_x,train_y, epochs=num_epochs, batch_size = 32, \\\n",
        "                          validation_data=(valid_x,valid_y), shuffle=False, verbose=2)"
      ],
      "metadata": {
        "colab": {
          "base_uri": "https://localhost:8080/"
        },
        "outputId": "693a08ce-d8b6-40d9-851e-f51c795412bf",
        "id": "uZqKSD1nddQx"
      },
      "execution_count": null,
      "outputs": [
        {
          "output_type": "stream",
          "name": "stdout",
          "text": [
            "Epoch 1/100\n",
            "5/5 - 0s - loss: 0.5751 - accuracy: 0.6761 - val_loss: 0.7894 - val_accuracy: 0.6667 - 107ms/epoch - 21ms/step\n",
            "Epoch 2/100\n",
            "5/5 - 0s - loss: 0.5742 - accuracy: 0.6761 - val_loss: 0.7894 - val_accuracy: 0.6667 - 58ms/epoch - 12ms/step\n",
            "Epoch 3/100\n",
            "5/5 - 0s - loss: 0.5734 - accuracy: 0.6761 - val_loss: 0.7891 - val_accuracy: 0.6667 - 41ms/epoch - 8ms/step\n",
            "Epoch 4/100\n",
            "5/5 - 0s - loss: 0.5725 - accuracy: 0.6761 - val_loss: 0.7891 - val_accuracy: 0.6667 - 59ms/epoch - 12ms/step\n",
            "Epoch 5/100\n",
            "5/5 - 0s - loss: 0.5717 - accuracy: 0.6761 - val_loss: 0.7888 - val_accuracy: 0.6667 - 40ms/epoch - 8ms/step\n",
            "Epoch 6/100\n",
            "5/5 - 0s - loss: 0.5709 - accuracy: 0.6761 - val_loss: 0.7889 - val_accuracy: 0.6667 - 43ms/epoch - 9ms/step\n",
            "Epoch 7/100\n",
            "5/5 - 0s - loss: 0.5701 - accuracy: 0.6761 - val_loss: 0.7890 - val_accuracy: 0.6667 - 41ms/epoch - 8ms/step\n",
            "Epoch 8/100\n",
            "5/5 - 0s - loss: 0.5693 - accuracy: 0.6761 - val_loss: 0.7890 - val_accuracy: 0.6667 - 66ms/epoch - 13ms/step\n",
            "Epoch 9/100\n",
            "5/5 - 0s - loss: 0.5685 - accuracy: 0.6761 - val_loss: 0.7895 - val_accuracy: 0.6667 - 40ms/epoch - 8ms/step\n",
            "Epoch 10/100\n",
            "5/5 - 0s - loss: 0.5677 - accuracy: 0.6761 - val_loss: 0.7896 - val_accuracy: 0.6667 - 39ms/epoch - 8ms/step\n",
            "Epoch 11/100\n",
            "5/5 - 0s - loss: 0.5669 - accuracy: 0.6761 - val_loss: 0.7896 - val_accuracy: 0.6667 - 58ms/epoch - 12ms/step\n",
            "Epoch 12/100\n",
            "5/5 - 0s - loss: 0.5661 - accuracy: 0.6761 - val_loss: 0.7900 - val_accuracy: 0.6667 - 42ms/epoch - 8ms/step\n",
            "Epoch 13/100\n",
            "5/5 - 0s - loss: 0.5653 - accuracy: 0.6761 - val_loss: 0.7901 - val_accuracy: 0.6667 - 69ms/epoch - 14ms/step\n",
            "Epoch 14/100\n",
            "5/5 - 0s - loss: 0.5645 - accuracy: 0.6761 - val_loss: 0.7901 - val_accuracy: 0.6667 - 42ms/epoch - 8ms/step\n",
            "Epoch 15/100\n",
            "5/5 - 0s - loss: 0.5637 - accuracy: 0.6761 - val_loss: 0.7901 - val_accuracy: 0.6667 - 41ms/epoch - 8ms/step\n",
            "Epoch 16/100\n",
            "5/5 - 0s - loss: 0.5629 - accuracy: 0.6831 - val_loss: 0.7905 - val_accuracy: 0.6667 - 59ms/epoch - 12ms/step\n",
            "Epoch 17/100\n",
            "5/5 - 0s - loss: 0.5621 - accuracy: 0.6831 - val_loss: 0.7904 - val_accuracy: 0.6667 - 40ms/epoch - 8ms/step\n",
            "Epoch 18/100\n",
            "5/5 - 0s - loss: 0.5613 - accuracy: 0.6831 - val_loss: 0.7909 - val_accuracy: 0.6667 - 57ms/epoch - 11ms/step\n",
            "Epoch 19/100\n",
            "5/5 - 0s - loss: 0.5605 - accuracy: 0.6831 - val_loss: 0.7910 - val_accuracy: 0.6667 - 57ms/epoch - 11ms/step\n",
            "Epoch 20/100\n",
            "5/5 - 0s - loss: 0.5598 - accuracy: 0.6831 - val_loss: 0.7908 - val_accuracy: 0.6667 - 40ms/epoch - 8ms/step\n",
            "Epoch 21/100\n",
            "5/5 - 0s - loss: 0.5589 - accuracy: 0.6831 - val_loss: 0.7913 - val_accuracy: 0.6667 - 59ms/epoch - 12ms/step\n",
            "Epoch 22/100\n",
            "5/5 - 0s - loss: 0.5582 - accuracy: 0.6901 - val_loss: 0.7914 - val_accuracy: 0.6667 - 59ms/epoch - 12ms/step\n",
            "Epoch 23/100\n",
            "5/5 - 0s - loss: 0.5574 - accuracy: 0.6901 - val_loss: 0.7916 - val_accuracy: 0.6667 - 45ms/epoch - 9ms/step\n",
            "Epoch 24/100\n",
            "5/5 - 0s - loss: 0.5567 - accuracy: 0.6901 - val_loss: 0.7918 - val_accuracy: 0.6667 - 42ms/epoch - 8ms/step\n",
            "Epoch 25/100\n",
            "5/5 - 0s - loss: 0.5559 - accuracy: 0.6901 - val_loss: 0.7920 - val_accuracy: 0.6667 - 42ms/epoch - 8ms/step\n",
            "Epoch 26/100\n",
            "5/5 - 0s - loss: 0.5551 - accuracy: 0.6901 - val_loss: 0.7921 - val_accuracy: 0.6667 - 42ms/epoch - 8ms/step\n",
            "Epoch 27/100\n",
            "5/5 - 0s - loss: 0.5544 - accuracy: 0.6901 - val_loss: 0.7923 - val_accuracy: 0.6667 - 58ms/epoch - 12ms/step\n",
            "Epoch 28/100\n",
            "5/5 - 0s - loss: 0.5536 - accuracy: 0.6901 - val_loss: 0.7926 - val_accuracy: 0.6667 - 41ms/epoch - 8ms/step\n",
            "Epoch 29/100\n",
            "5/5 - 0s - loss: 0.5529 - accuracy: 0.6901 - val_loss: 0.7928 - val_accuracy: 0.6667 - 57ms/epoch - 11ms/step\n",
            "Epoch 30/100\n",
            "5/5 - 0s - loss: 0.5522 - accuracy: 0.6901 - val_loss: 0.7930 - val_accuracy: 0.6667 - 62ms/epoch - 12ms/step\n",
            "Epoch 31/100\n",
            "5/5 - 0s - loss: 0.5514 - accuracy: 0.6901 - val_loss: 0.7932 - val_accuracy: 0.6667 - 65ms/epoch - 13ms/step\n",
            "Epoch 32/100\n",
            "5/5 - 0s - loss: 0.5507 - accuracy: 0.6901 - val_loss: 0.7934 - val_accuracy: 0.6667 - 70ms/epoch - 14ms/step\n",
            "Epoch 33/100\n",
            "5/5 - 0s - loss: 0.5500 - accuracy: 0.6901 - val_loss: 0.7931 - val_accuracy: 0.6667 - 88ms/epoch - 18ms/step\n",
            "Epoch 34/100\n",
            "5/5 - 0s - loss: 0.5492 - accuracy: 0.6901 - val_loss: 0.7934 - val_accuracy: 0.6667 - 79ms/epoch - 16ms/step\n",
            "Epoch 35/100\n",
            "5/5 - 0s - loss: 0.5485 - accuracy: 0.6901 - val_loss: 0.7938 - val_accuracy: 0.6667 - 80ms/epoch - 16ms/step\n",
            "Epoch 36/100\n",
            "5/5 - 0s - loss: 0.5478 - accuracy: 0.6901 - val_loss: 0.7946 - val_accuracy: 0.6667 - 76ms/epoch - 15ms/step\n",
            "Epoch 37/100\n",
            "5/5 - 0s - loss: 0.5471 - accuracy: 0.6901 - val_loss: 0.7947 - val_accuracy: 0.6667 - 74ms/epoch - 15ms/step\n",
            "Epoch 38/100\n",
            "5/5 - 0s - loss: 0.5466 - accuracy: 0.6901 - val_loss: 0.7943 - val_accuracy: 0.6667 - 71ms/epoch - 14ms/step\n",
            "Epoch 39/100\n",
            "5/5 - 0s - loss: 0.5455 - accuracy: 0.6901 - val_loss: 0.7960 - val_accuracy: 0.6667 - 58ms/epoch - 12ms/step\n",
            "Epoch 40/100\n",
            "5/5 - 0s - loss: 0.5453 - accuracy: 0.6901 - val_loss: 0.7948 - val_accuracy: 0.6667 - 54ms/epoch - 11ms/step\n",
            "Epoch 41/100\n",
            "5/5 - 0s - loss: 0.5441 - accuracy: 0.6901 - val_loss: 0.7965 - val_accuracy: 0.6667 - 72ms/epoch - 14ms/step\n",
            "Epoch 42/100\n",
            "5/5 - 0s - loss: 0.5439 - accuracy: 0.6901 - val_loss: 0.7946 - val_accuracy: 0.6667 - 74ms/epoch - 15ms/step\n",
            "Epoch 43/100\n",
            "5/5 - 0s - loss: 0.5428 - accuracy: 0.6972 - val_loss: 0.7964 - val_accuracy: 0.6667 - 57ms/epoch - 11ms/step\n",
            "Epoch 44/100\n",
            "5/5 - 0s - loss: 0.5424 - accuracy: 0.6972 - val_loss: 0.7971 - val_accuracy: 0.6667 - 64ms/epoch - 13ms/step\n",
            "Epoch 45/100\n",
            "5/5 - 0s - loss: 0.5417 - accuracy: 0.6972 - val_loss: 0.7965 - val_accuracy: 0.6667 - 76ms/epoch - 15ms/step\n",
            "Epoch 46/100\n",
            "5/5 - 0s - loss: 0.5411 - accuracy: 0.6972 - val_loss: 0.7969 - val_accuracy: 0.6667 - 56ms/epoch - 11ms/step\n",
            "Epoch 47/100\n",
            "5/5 - 0s - loss: 0.5401 - accuracy: 0.6972 - val_loss: 0.7984 - val_accuracy: 0.6667 - 71ms/epoch - 14ms/step\n",
            "Epoch 48/100\n",
            "5/5 - 0s - loss: 0.5401 - accuracy: 0.6972 - val_loss: 0.7956 - val_accuracy: 0.6667 - 56ms/epoch - 11ms/step\n",
            "Epoch 49/100\n",
            "5/5 - 0s - loss: 0.5387 - accuracy: 0.6972 - val_loss: 0.7986 - val_accuracy: 0.6667 - 77ms/epoch - 15ms/step\n",
            "Epoch 50/100\n",
            "5/5 - 0s - loss: 0.5386 - accuracy: 0.6972 - val_loss: 0.7986 - val_accuracy: 0.6667 - 75ms/epoch - 15ms/step\n",
            "Epoch 51/100\n",
            "5/5 - 0s - loss: 0.5378 - accuracy: 0.6972 - val_loss: 0.7982 - val_accuracy: 0.6667 - 56ms/epoch - 11ms/step\n",
            "Epoch 52/100\n",
            "5/5 - 0s - loss: 0.5373 - accuracy: 0.6972 - val_loss: 0.7989 - val_accuracy: 0.6667 - 63ms/epoch - 13ms/step\n",
            "Epoch 53/100\n",
            "5/5 - 0s - loss: 0.5364 - accuracy: 0.6972 - val_loss: 0.7999 - val_accuracy: 0.6667 - 83ms/epoch - 17ms/step\n",
            "Epoch 54/100\n",
            "5/5 - 0s - loss: 0.5363 - accuracy: 0.7042 - val_loss: 0.7974 - val_accuracy: 0.6667 - 56ms/epoch - 11ms/step\n",
            "Epoch 55/100\n",
            "5/5 - 0s - loss: 0.5350 - accuracy: 0.7042 - val_loss: 0.8004 - val_accuracy: 0.6667 - 72ms/epoch - 14ms/step\n",
            "Epoch 56/100\n",
            "5/5 - 0s - loss: 0.5349 - accuracy: 0.7042 - val_loss: 0.8005 - val_accuracy: 0.6667 - 56ms/epoch - 11ms/step\n",
            "Epoch 57/100\n",
            "5/5 - 0s - loss: 0.5342 - accuracy: 0.7042 - val_loss: 0.8001 - val_accuracy: 0.6667 - 65ms/epoch - 13ms/step\n",
            "Epoch 58/100\n",
            "5/5 - 0s - loss: 0.5336 - accuracy: 0.7042 - val_loss: 0.8008 - val_accuracy: 0.6667 - 55ms/epoch - 11ms/step\n",
            "Epoch 59/100\n",
            "5/5 - 0s - loss: 0.5327 - accuracy: 0.7042 - val_loss: 0.8025 - val_accuracy: 0.6667 - 58ms/epoch - 12ms/step\n",
            "Epoch 60/100\n",
            "5/5 - 0s - loss: 0.5327 - accuracy: 0.7042 - val_loss: 0.7996 - val_accuracy: 0.6667 - 70ms/epoch - 14ms/step\n",
            "Epoch 61/100\n",
            "5/5 - 0s - loss: 0.5313 - accuracy: 0.7042 - val_loss: 0.8028 - val_accuracy: 0.6667 - 58ms/epoch - 12ms/step\n",
            "Epoch 62/100\n",
            "5/5 - 0s - loss: 0.5314 - accuracy: 0.7042 - val_loss: 0.8008 - val_accuracy: 0.6667 - 68ms/epoch - 14ms/step\n",
            "Epoch 63/100\n",
            "5/5 - 0s - loss: 0.5303 - accuracy: 0.7042 - val_loss: 0.8036 - val_accuracy: 0.6667 - 74ms/epoch - 15ms/step\n",
            "Epoch 64/100\n",
            "5/5 - 0s - loss: 0.5300 - accuracy: 0.7042 - val_loss: 0.8035 - val_accuracy: 0.6667 - 60ms/epoch - 12ms/step\n",
            "Epoch 65/100\n",
            "5/5 - 0s - loss: 0.5295 - accuracy: 0.7042 - val_loss: 0.8030 - val_accuracy: 0.6667 - 74ms/epoch - 15ms/step\n",
            "Epoch 66/100\n",
            "5/5 - 0s - loss: 0.5286 - accuracy: 0.7042 - val_loss: 0.8048 - val_accuracy: 0.6667 - 66ms/epoch - 13ms/step\n",
            "Epoch 67/100\n",
            "5/5 - 0s - loss: 0.5285 - accuracy: 0.7042 - val_loss: 0.8031 - val_accuracy: 0.6667 - 74ms/epoch - 15ms/step\n",
            "Epoch 68/100\n",
            "5/5 - 0s - loss: 0.5276 - accuracy: 0.7042 - val_loss: 0.8045 - val_accuracy: 0.6667 - 74ms/epoch - 15ms/step\n",
            "Epoch 69/100\n",
            "5/5 - 0s - loss: 0.5272 - accuracy: 0.7042 - val_loss: 0.8045 - val_accuracy: 0.6667 - 62ms/epoch - 12ms/step\n",
            "Epoch 70/100\n",
            "5/5 - 0s - loss: 0.5267 - accuracy: 0.7042 - val_loss: 0.8044 - val_accuracy: 0.6667 - 69ms/epoch - 14ms/step\n",
            "Epoch 71/100\n",
            "5/5 - 0s - loss: 0.5258 - accuracy: 0.7042 - val_loss: 0.8065 - val_accuracy: 0.6667 - 39ms/epoch - 8ms/step\n",
            "Epoch 72/100\n",
            "5/5 - 0s - loss: 0.5257 - accuracy: 0.7042 - val_loss: 0.8058 - val_accuracy: 0.6667 - 41ms/epoch - 8ms/step\n",
            "Epoch 73/100\n",
            "5/5 - 0s - loss: 0.5247 - accuracy: 0.7042 - val_loss: 0.8067 - val_accuracy: 0.6667 - 39ms/epoch - 8ms/step\n",
            "Epoch 74/100\n",
            "5/5 - 0s - loss: 0.5246 - accuracy: 0.7042 - val_loss: 0.8046 - val_accuracy: 0.6667 - 60ms/epoch - 12ms/step\n",
            "Epoch 75/100\n",
            "5/5 - 0s - loss: 0.5235 - accuracy: 0.7042 - val_loss: 0.8076 - val_accuracy: 0.6667 - 60ms/epoch - 12ms/step\n",
            "Epoch 76/100\n",
            "5/5 - 0s - loss: 0.5234 - accuracy: 0.7042 - val_loss: 0.8062 - val_accuracy: 0.6667 - 69ms/epoch - 14ms/step\n",
            "Epoch 77/100\n",
            "5/5 - 0s - loss: 0.5227 - accuracy: 0.7042 - val_loss: 0.8068 - val_accuracy: 0.6667 - 39ms/epoch - 8ms/step\n",
            "Epoch 78/100\n",
            "5/5 - 0s - loss: 0.5221 - accuracy: 0.7042 - val_loss: 0.8094 - val_accuracy: 0.6667 - 42ms/epoch - 8ms/step\n",
            "Epoch 79/100\n",
            "5/5 - 0s - loss: 0.5218 - accuracy: 0.7042 - val_loss: 0.8078 - val_accuracy: 0.6667 - 42ms/epoch - 8ms/step\n",
            "Epoch 80/100\n",
            "5/5 - 0s - loss: 0.5213 - accuracy: 0.7042 - val_loss: 0.8067 - val_accuracy: 0.6667 - 39ms/epoch - 8ms/step\n",
            "Epoch 81/100\n",
            "5/5 - 0s - loss: 0.5202 - accuracy: 0.7042 - val_loss: 0.8100 - val_accuracy: 0.6667 - 51ms/epoch - 10ms/step\n",
            "Epoch 82/100\n",
            "5/5 - 0s - loss: 0.5203 - accuracy: 0.7042 - val_loss: 0.8076 - val_accuracy: 0.6667 - 40ms/epoch - 8ms/step\n",
            "Epoch 83/100\n",
            "5/5 - 0s - loss: 0.5194 - accuracy: 0.7042 - val_loss: 0.8111 - val_accuracy: 0.6667 - 46ms/epoch - 9ms/step\n",
            "Epoch 84/100\n",
            "5/5 - 0s - loss: 0.5190 - accuracy: 0.7042 - val_loss: 0.8103 - val_accuracy: 0.6667 - 42ms/epoch - 8ms/step\n",
            "Epoch 85/100\n",
            "5/5 - 0s - loss: 0.5188 - accuracy: 0.7042 - val_loss: 0.8093 - val_accuracy: 0.6667 - 59ms/epoch - 12ms/step\n",
            "Epoch 86/100\n",
            "5/5 - 0s - loss: 0.5173 - accuracy: 0.7042 - val_loss: 0.8129 - val_accuracy: 0.6667 - 50ms/epoch - 10ms/step\n",
            "Epoch 87/100\n",
            "5/5 - 0s - loss: 0.5180 - accuracy: 0.7042 - val_loss: 0.8073 - val_accuracy: 0.6667 - 40ms/epoch - 8ms/step\n",
            "Epoch 88/100\n",
            "5/5 - 0s - loss: 0.5162 - accuracy: 0.7042 - val_loss: 0.8126 - val_accuracy: 0.6667 - 40ms/epoch - 8ms/step\n",
            "Epoch 89/100\n",
            "5/5 - 0s - loss: 0.5165 - accuracy: 0.7042 - val_loss: 0.8102 - val_accuracy: 0.6667 - 56ms/epoch - 11ms/step\n",
            "Epoch 90/100\n",
            "5/5 - 0s - loss: 0.5158 - accuracy: 0.7042 - val_loss: 0.8124 - val_accuracy: 0.6667 - 41ms/epoch - 8ms/step\n",
            "Epoch 91/100\n",
            "5/5 - 0s - loss: 0.5150 - accuracy: 0.7042 - val_loss: 0.8131 - val_accuracy: 0.6667 - 39ms/epoch - 8ms/step\n",
            "Epoch 92/100\n",
            "5/5 - 0s - loss: 0.5152 - accuracy: 0.7042 - val_loss: 0.8094 - val_accuracy: 0.6667 - 44ms/epoch - 9ms/step\n",
            "Epoch 93/100\n",
            "5/5 - 0s - loss: 0.5135 - accuracy: 0.7113 - val_loss: 0.8147 - val_accuracy: 0.6667 - 42ms/epoch - 8ms/step\n",
            "Epoch 94/100\n",
            "5/5 - 0s - loss: 0.5139 - accuracy: 0.7042 - val_loss: 0.8133 - val_accuracy: 0.6667 - 42ms/epoch - 8ms/step\n",
            "Epoch 95/100\n",
            "5/5 - 0s - loss: 0.5128 - accuracy: 0.7042 - val_loss: 0.8141 - val_accuracy: 0.6667 - 42ms/epoch - 8ms/step\n",
            "Epoch 96/100\n",
            "5/5 - 0s - loss: 0.5127 - accuracy: 0.7113 - val_loss: 0.8119 - val_accuracy: 0.6667 - 66ms/epoch - 13ms/step\n",
            "Epoch 97/100\n",
            "5/5 - 0s - loss: 0.5115 - accuracy: 0.7113 - val_loss: 0.8150 - val_accuracy: 0.6667 - 67ms/epoch - 13ms/step\n",
            "Epoch 98/100\n",
            "5/5 - 0s - loss: 0.5115 - accuracy: 0.7042 - val_loss: 0.8135 - val_accuracy: 0.6667 - 41ms/epoch - 8ms/step\n",
            "Epoch 99/100\n",
            "5/5 - 0s - loss: 0.5107 - accuracy: 0.7113 - val_loss: 0.8164 - val_accuracy: 0.6667 - 40ms/epoch - 8ms/step\n",
            "Epoch 100/100\n",
            "5/5 - 0s - loss: 0.5101 - accuracy: 0.7042 - val_loss: 0.8158 - val_accuracy: 0.6667 - 39ms/epoch - 8ms/step\n"
          ]
        }
      ]
    },
    {
      "cell_type": "code",
      "source": [
        "#Y ahora vemos la función de costo\n",
        "\n",
        "plt.plot(history_model.history['loss'])\n",
        "plt.plot(history_model.history['val_loss'])\n",
        "plt.title('Cost function', size=16)\n",
        "plt.ylabel('Cost', size=16)\n",
        "plt.xlabel('Epoch', size=16)\n",
        "plt.legend(['Train', 'Validation'], loc='upper right', prop={'size': 16})\n",
        "plt.show()"
      ],
      "metadata": {
        "colab": {
          "base_uri": "https://localhost:8080/",
          "height": 480
        },
        "outputId": "59da2877-b0d0-41e7-8321-d03ad298aaea",
        "id": "YCryCZkcddQx"
      },
      "execution_count": null,
      "outputs": [
        {
          "output_type": "display_data",
          "data": {
            "text/plain": [
              "<Figure size 640x480 with 1 Axes>"
            ],
            "image/png": "[encoded data removed]"
          },
          "metadata": {}
        }
      ]
    },
    {
      "cell_type": "code",
      "source": [
        "#Y la función en función de acc\n",
        "\n",
        "plt.plot(history_model.history['accuracy'])\n",
        "plt.plot(history_model.history['val_accuracy'])\n",
        "plt.title('Model accuracy', size=16)\n",
        "plt.ylabel('Accuracy', size=16)\n",
        "plt.xlabel('Epoch', size=16)\n",
        "plt.legend(['Train', 'Validation'], loc='lower right', prop={'size': 16})\n",
        "plt.show()"
      ],
      "metadata": {
        "colab": {
          "base_uri": "https://localhost:8080/",
          "height": 480
        },
        "outputId": "b047c335-6dc0-4304-e00e-b3d9a023dcac",
        "id": "E4GodZl7ddQy"
      },
      "execution_count": null,
      "outputs": [
        {
          "output_type": "display_data",
          "data": {
            "text/plain": [
              "<Figure size 640x480 with 1 Axes>"
            ],
            "image/png": "[encoded data removed]"
          },
          "metadata": {}
        }
      ]
    },
    {
      "cell_type": "code",
      "source": [
        "#Evaluamos\n",
        "\n",
        "evaluations = model3.evaluate(x = x_test_norm, y = test_y)\n",
        "\n",
        "print (\"Loss = \" + str(evaluations[0]))\n",
        "print (\"Test Accuracy = \" + str(evaluations[1]))"
      ],
      "metadata": {
        "colab": {
          "base_uri": "https://localhost:8080/"
        },
        "outputId": "7951e9c9-9e46-4691-acf9-fc32e221287c",
        "id": "IZE45_wKddQy"
      },
      "execution_count": null,
      "outputs": [
        {
          "output_type": "stream",
          "name": "stdout",
          "text": [
            "1/1 [==============================] - 0s 44ms/step - loss: 1.2265 - accuracy: 0.2778\n",
            "Loss = 1.2265146970748901\n",
            "Test Accuracy = 0.2777777910232544\n"
          ]
        }
      ]
    },
    {
      "cell_type": "code",
      "source": [],
      "metadata": {
        "id": "yVe3cugheAqM"
      },
      "execution_count": null,
      "outputs": []
    },
    {
      "cell_type": "code",
      "source": [
        "#Establecemos los hiperparámetros del primero modelo a evaluar\n",
        "\n",
        "M4capa1 = 15\n",
        "M4capa2 = 7\n",
        "M4init = 'uniform'\n",
        "M4act = 'tanh'\n",
        "M4input = (13,)\n",
        "M4clas = 3"
      ],
      "metadata": {
        "id": "zZaYYnP2eBiU"
      },
      "execution_count": null,
      "outputs": []
    },
    {
      "cell_type": "code",
      "source": [
        "model4 = architecture(M4capa1, M4capa2, M4init, M4act, M4input, 3)"
      ],
      "metadata": {
        "id": "PW7ZPGyweBih"
      },
      "execution_count": null,
      "outputs": []
    },
    {
      "cell_type": "code",
      "source": [
        "#Podemos visualizar el modelo\n",
        "\n",
        "plot_model(model4, to_file='model_4.png', show_shapes=True, show_layer_names=True)"
      ],
      "metadata": {
        "colab": {
          "base_uri": "https://localhost:8080/",
          "height": 422
        },
        "outputId": "73dabbdb-73cd-4f7f-c713-427d383ed079",
        "id": "V2VQ-7LkeBih"
      },
      "execution_count": null,
      "outputs": [
        {
          "output_type": "execute_result",
          "data": {
            "image/png": "[encoded data removed]",
            "text/plain": [
              "<IPython.core.display.Image object>"
            ]
          },
          "metadata": {},
          "execution_count": 161
        }
      ]
    },
    {
      "cell_type": "code",
      "source": [
        "#Los optimizadores, pérdida y métrica\n",
        "\n",
        "optimizer = keras.optimizers.Adam(learning_rate=0.001)\n",
        "loss = 'sparse_categorical_crossentropy'\n",
        "acc = 'accuracy'"
      ],
      "metadata": {
        "id": "-A1f2-o0eBih"
      },
      "execution_count": null,
      "outputs": []
    },
    {
      "cell_type": "code",
      "source": [
        "#Y compilamos\n",
        "\n",
        "model4.compile(optimizer = optimizer, loss = 'SparseCategoricalCrossentropy', metrics = acc)"
      ],
      "metadata": {
        "id": "ub0JrUUBeBih"
      },
      "execution_count": null,
      "outputs": []
    },
    {
      "cell_type": "code",
      "source": [
        "#Para finalmente correrlo\n",
        "\n",
        "num_epochs = 100\n",
        "\n",
        "history_model = model4.fit(train_x,train_y, epochs=num_epochs, batch_size = 32, \\\n",
        "                          validation_data=(valid_x,valid_y), shuffle=False, verbose=2)"
      ],
      "metadata": {
        "colab": {
          "base_uri": "https://localhost:8080/"
        },
        "outputId": "f83fcbf5-b4d0-4402-8dfe-f1002b4fa8d2",
        "id": "C0ugFaQleBih"
      },
      "execution_count": null,
      "outputs": [
        {
          "output_type": "stream",
          "name": "stdout",
          "text": [
            "Epoch 1/100\n",
            "5/5 - 1s - loss: 1.0985 - accuracy: 0.3803 - val_loss: 1.0951 - val_accuracy: 0.6667 - 951ms/epoch - 190ms/step\n",
            "Epoch 2/100\n",
            "5/5 - 0s - loss: 1.0958 - accuracy: 0.6549 - val_loss: 1.0912 - val_accuracy: 0.6667 - 67ms/epoch - 13ms/step\n",
            "Epoch 3/100\n",
            "5/5 - 0s - loss: 1.0926 - accuracy: 0.6338 - val_loss: 1.0858 - val_accuracy: 0.6667 - 65ms/epoch - 13ms/step\n",
            "Epoch 4/100\n",
            "5/5 - 0s - loss: 1.0891 - accuracy: 0.5845 - val_loss: 1.0799 - val_accuracy: 0.6667 - 60ms/epoch - 12ms/step\n",
            "Epoch 5/100\n",
            "5/5 - 0s - loss: 1.0847 - accuracy: 0.5845 - val_loss: 1.0730 - val_accuracy: 0.6667 - 85ms/epoch - 17ms/step\n",
            "Epoch 6/100\n",
            "5/5 - 0s - loss: 1.0797 - accuracy: 0.5634 - val_loss: 1.0650 - val_accuracy: 0.6667 - 61ms/epoch - 12ms/step\n",
            "Epoch 7/100\n",
            "5/5 - 0s - loss: 1.0735 - accuracy: 0.5986 - val_loss: 1.0564 - val_accuracy: 0.6667 - 92ms/epoch - 18ms/step\n",
            "Epoch 8/100\n",
            "5/5 - 0s - loss: 1.0664 - accuracy: 0.6127 - val_loss: 1.0467 - val_accuracy: 0.6667 - 91ms/epoch - 18ms/step\n",
            "Epoch 9/100\n",
            "5/5 - 0s - loss: 1.0584 - accuracy: 0.6338 - val_loss: 1.0367 - val_accuracy: 0.6667 - 42ms/epoch - 8ms/step\n",
            "Epoch 10/100\n",
            "5/5 - 0s - loss: 1.0489 - accuracy: 0.6549 - val_loss: 1.0260 - val_accuracy: 0.6667 - 59ms/epoch - 12ms/step\n",
            "Epoch 11/100\n",
            "5/5 - 0s - loss: 1.0390 - accuracy: 0.6549 - val_loss: 1.0153 - val_accuracy: 0.6667 - 64ms/epoch - 13ms/step\n",
            "Epoch 12/100\n",
            "5/5 - 0s - loss: 1.0272 - accuracy: 0.6549 - val_loss: 1.0044 - val_accuracy: 0.6667 - 51ms/epoch - 10ms/step\n",
            "Epoch 13/100\n",
            "5/5 - 0s - loss: 1.0147 - accuracy: 0.6549 - val_loss: 0.9934 - val_accuracy: 0.6667 - 40ms/epoch - 8ms/step\n",
            "Epoch 14/100\n",
            "5/5 - 0s - loss: 1.0010 - accuracy: 0.6408 - val_loss: 0.9825 - val_accuracy: 0.6667 - 57ms/epoch - 11ms/step\n",
            "Epoch 15/100\n",
            "5/5 - 0s - loss: 0.9857 - accuracy: 0.6479 - val_loss: 0.9717 - val_accuracy: 0.6667 - 42ms/epoch - 8ms/step\n",
            "Epoch 16/100\n",
            "5/5 - 0s - loss: 0.9701 - accuracy: 0.6479 - val_loss: 0.9609 - val_accuracy: 0.6667 - 40ms/epoch - 8ms/step\n",
            "Epoch 17/100\n",
            "5/5 - 0s - loss: 0.9531 - accuracy: 0.6549 - val_loss: 0.9504 - val_accuracy: 0.6667 - 41ms/epoch - 8ms/step\n",
            "Epoch 18/100\n",
            "5/5 - 0s - loss: 0.9359 - accuracy: 0.6549 - val_loss: 0.9400 - val_accuracy: 0.6667 - 58ms/epoch - 12ms/step\n",
            "Epoch 19/100\n",
            "5/5 - 0s - loss: 0.9184 - accuracy: 0.6549 - val_loss: 0.9300 - val_accuracy: 0.6667 - 40ms/epoch - 8ms/step\n",
            "Epoch 20/100\n",
            "5/5 - 0s - loss: 0.9007 - accuracy: 0.6549 - val_loss: 0.9204 - val_accuracy: 0.6667 - 40ms/epoch - 8ms/step\n",
            "Epoch 21/100\n",
            "5/5 - 0s - loss: 0.8835 - accuracy: 0.6549 - val_loss: 0.9112 - val_accuracy: 0.6667 - 41ms/epoch - 8ms/step\n",
            "Epoch 22/100\n",
            "5/5 - 0s - loss: 0.8666 - accuracy: 0.6620 - val_loss: 0.9025 - val_accuracy: 0.6667 - 49ms/epoch - 10ms/step\n",
            "Epoch 23/100\n",
            "5/5 - 0s - loss: 0.8503 - accuracy: 0.6620 - val_loss: 0.8945 - val_accuracy: 0.6667 - 44ms/epoch - 9ms/step\n",
            "Epoch 24/100\n",
            "5/5 - 0s - loss: 0.8348 - accuracy: 0.6620 - val_loss: 0.8872 - val_accuracy: 0.6667 - 46ms/epoch - 9ms/step\n",
            "Epoch 25/100\n",
            "5/5 - 0s - loss: 0.8201 - accuracy: 0.6690 - val_loss: 0.8805 - val_accuracy: 0.6667 - 58ms/epoch - 12ms/step\n",
            "Epoch 26/100\n",
            "5/5 - 0s - loss: 0.8063 - accuracy: 0.6690 - val_loss: 0.8744 - val_accuracy: 0.6667 - 43ms/epoch - 9ms/step\n",
            "Epoch 27/100\n",
            "5/5 - 0s - loss: 0.7934 - accuracy: 0.6690 - val_loss: 0.8690 - val_accuracy: 0.6667 - 58ms/epoch - 12ms/step\n",
            "Epoch 28/100\n",
            "5/5 - 0s - loss: 0.7814 - accuracy: 0.6690 - val_loss: 0.8640 - val_accuracy: 0.6667 - 41ms/epoch - 8ms/step\n",
            "Epoch 29/100\n",
            "5/5 - 0s - loss: 0.7701 - accuracy: 0.6690 - val_loss: 0.8596 - val_accuracy: 0.6667 - 50ms/epoch - 10ms/step\n",
            "Epoch 30/100\n",
            "5/5 - 0s - loss: 0.7597 - accuracy: 0.6690 - val_loss: 0.8555 - val_accuracy: 0.6667 - 45ms/epoch - 9ms/step\n",
            "Epoch 31/100\n",
            "5/5 - 0s - loss: 0.7499 - accuracy: 0.6690 - val_loss: 0.8519 - val_accuracy: 0.6667 - 40ms/epoch - 8ms/step\n",
            "Epoch 32/100\n",
            "5/5 - 0s - loss: 0.7408 - accuracy: 0.6690 - val_loss: 0.8487 - val_accuracy: 0.6667 - 60ms/epoch - 12ms/step\n",
            "Epoch 33/100\n",
            "5/5 - 0s - loss: 0.7323 - accuracy: 0.6690 - val_loss: 0.8459 - val_accuracy: 0.6667 - 40ms/epoch - 8ms/step\n",
            "Epoch 34/100\n",
            "5/5 - 0s - loss: 0.7243 - accuracy: 0.6690 - val_loss: 0.8435 - val_accuracy: 0.6667 - 48ms/epoch - 10ms/step\n",
            "Epoch 35/100\n",
            "5/5 - 0s - loss: 0.7169 - accuracy: 0.6690 - val_loss: 0.8414 - val_accuracy: 0.6667 - 45ms/epoch - 9ms/step\n",
            "Epoch 36/100\n",
            "5/5 - 0s - loss: 0.7099 - accuracy: 0.6690 - val_loss: 0.8396 - val_accuracy: 0.6667 - 41ms/epoch - 8ms/step\n",
            "Epoch 37/100\n",
            "5/5 - 0s - loss: 0.7034 - accuracy: 0.6690 - val_loss: 0.8382 - val_accuracy: 0.6667 - 43ms/epoch - 9ms/step\n",
            "Epoch 38/100\n",
            "5/5 - 0s - loss: 0.6971 - accuracy: 0.6690 - val_loss: 0.8371 - val_accuracy: 0.6667 - 41ms/epoch - 8ms/step\n",
            "Epoch 39/100\n",
            "5/5 - 0s - loss: 0.6913 - accuracy: 0.6690 - val_loss: 0.8359 - val_accuracy: 0.6667 - 57ms/epoch - 11ms/step\n",
            "Epoch 40/100\n",
            "5/5 - 0s - loss: 0.6856 - accuracy: 0.6761 - val_loss: 0.8334 - val_accuracy: 0.6667 - 41ms/epoch - 8ms/step\n",
            "Epoch 41/100\n",
            "5/5 - 0s - loss: 0.6800 - accuracy: 0.6761 - val_loss: 0.8284 - val_accuracy: 0.6667 - 39ms/epoch - 8ms/step\n",
            "Epoch 42/100\n",
            "5/5 - 0s - loss: 0.6745 - accuracy: 0.6761 - val_loss: 0.8251 - val_accuracy: 0.6667 - 46ms/epoch - 9ms/step\n",
            "Epoch 43/100\n",
            "5/5 - 0s - loss: 0.6691 - accuracy: 0.6761 - val_loss: 0.8247 - val_accuracy: 0.6667 - 42ms/epoch - 8ms/step\n",
            "Epoch 44/100\n",
            "5/5 - 0s - loss: 0.6639 - accuracy: 0.6761 - val_loss: 0.8246 - val_accuracy: 0.6667 - 39ms/epoch - 8ms/step\n",
            "Epoch 45/100\n",
            "5/5 - 0s - loss: 0.6590 - accuracy: 0.6761 - val_loss: 0.8228 - val_accuracy: 0.6667 - 39ms/epoch - 8ms/step\n",
            "Epoch 46/100\n",
            "5/5 - 0s - loss: 0.6543 - accuracy: 0.6761 - val_loss: 0.8196 - val_accuracy: 0.6667 - 56ms/epoch - 11ms/step\n",
            "Epoch 47/100\n",
            "5/5 - 0s - loss: 0.6497 - accuracy: 0.6761 - val_loss: 0.8173 - val_accuracy: 0.6667 - 44ms/epoch - 9ms/step\n",
            "Epoch 48/100\n",
            "5/5 - 0s - loss: 0.6453 - accuracy: 0.6761 - val_loss: 0.8169 - val_accuracy: 0.6667 - 43ms/epoch - 9ms/step\n",
            "Epoch 49/100\n",
            "5/5 - 0s - loss: 0.6412 - accuracy: 0.6761 - val_loss: 0.8165 - val_accuracy: 0.6667 - 58ms/epoch - 12ms/step\n",
            "Epoch 50/100\n",
            "5/5 - 0s - loss: 0.6373 - accuracy: 0.6761 - val_loss: 0.8184 - val_accuracy: 0.6667 - 41ms/epoch - 8ms/step\n",
            "Epoch 51/100\n",
            "5/5 - 0s - loss: 0.6346 - accuracy: 0.6761 - val_loss: 0.8136 - val_accuracy: 0.6667 - 40ms/epoch - 8ms/step\n",
            "Epoch 52/100\n",
            "5/5 - 0s - loss: 0.6294 - accuracy: 0.6761 - val_loss: 0.8156 - val_accuracy: 0.6667 - 62ms/epoch - 12ms/step\n",
            "Epoch 53/100\n",
            "5/5 - 0s - loss: 0.6270 - accuracy: 0.6761 - val_loss: 0.8148 - val_accuracy: 0.6667 - 43ms/epoch - 9ms/step\n",
            "Epoch 54/100\n",
            "5/5 - 0s - loss: 0.6224 - accuracy: 0.6761 - val_loss: 0.8149 - val_accuracy: 0.6667 - 43ms/epoch - 9ms/step\n",
            "Epoch 55/100\n",
            "5/5 - 0s - loss: 0.6196 - accuracy: 0.6761 - val_loss: 0.8155 - val_accuracy: 0.6667 - 43ms/epoch - 9ms/step\n",
            "Epoch 56/100\n",
            "5/5 - 0s - loss: 0.6163 - accuracy: 0.6761 - val_loss: 0.8144 - val_accuracy: 0.6667 - 41ms/epoch - 8ms/step\n",
            "Epoch 57/100\n",
            "5/5 - 0s - loss: 0.6133 - accuracy: 0.6761 - val_loss: 0.8147 - val_accuracy: 0.6667 - 64ms/epoch - 13ms/step\n",
            "Epoch 58/100\n",
            "5/5 - 0s - loss: 0.6102 - accuracy: 0.6761 - val_loss: 0.8148 - val_accuracy: 0.6667 - 40ms/epoch - 8ms/step\n",
            "Epoch 59/100\n",
            "5/5 - 0s - loss: 0.6074 - accuracy: 0.6761 - val_loss: 0.8147 - val_accuracy: 0.6667 - 41ms/epoch - 8ms/step\n",
            "Epoch 60/100\n",
            "5/5 - 0s - loss: 0.6045 - accuracy: 0.6831 - val_loss: 0.8139 - val_accuracy: 0.6667 - 58ms/epoch - 12ms/step\n",
            "Epoch 61/100\n",
            "5/5 - 0s - loss: 0.6018 - accuracy: 0.6901 - val_loss: 0.8149 - val_accuracy: 0.6667 - 42ms/epoch - 8ms/step\n",
            "Epoch 62/100\n",
            "5/5 - 0s - loss: 0.5993 - accuracy: 0.6901 - val_loss: 0.8145 - val_accuracy: 0.6667 - 53ms/epoch - 11ms/step\n",
            "Epoch 63/100\n",
            "5/5 - 0s - loss: 0.5967 - accuracy: 0.6901 - val_loss: 0.8144 - val_accuracy: 0.6667 - 60ms/epoch - 12ms/step\n",
            "Epoch 64/100\n",
            "5/5 - 0s - loss: 0.5942 - accuracy: 0.6901 - val_loss: 0.8144 - val_accuracy: 0.6667 - 61ms/epoch - 12ms/step\n",
            "Epoch 65/100\n",
            "5/5 - 0s - loss: 0.5920 - accuracy: 0.6901 - val_loss: 0.8147 - val_accuracy: 0.6667 - 60ms/epoch - 12ms/step\n",
            "Epoch 66/100\n",
            "5/5 - 0s - loss: 0.5897 - accuracy: 0.6972 - val_loss: 0.8139 - val_accuracy: 0.6667 - 59ms/epoch - 12ms/step\n",
            "Epoch 67/100\n",
            "5/5 - 0s - loss: 0.5874 - accuracy: 0.6972 - val_loss: 0.8145 - val_accuracy: 0.6667 - 42ms/epoch - 8ms/step\n",
            "Epoch 68/100\n",
            "5/5 - 0s - loss: 0.5855 - accuracy: 0.6972 - val_loss: 0.8140 - val_accuracy: 0.6667 - 42ms/epoch - 8ms/step\n",
            "Epoch 69/100\n",
            "5/5 - 0s - loss: 0.5833 - accuracy: 0.6972 - val_loss: 0.8141 - val_accuracy: 0.6667 - 44ms/epoch - 9ms/step\n",
            "Epoch 70/100\n",
            "5/5 - 0s - loss: 0.5814 - accuracy: 0.6972 - val_loss: 0.8137 - val_accuracy: 0.6667 - 63ms/epoch - 13ms/step\n",
            "Epoch 71/100\n",
            "5/5 - 0s - loss: 0.5795 - accuracy: 0.6972 - val_loss: 0.8139 - val_accuracy: 0.6667 - 40ms/epoch - 8ms/step\n",
            "Epoch 72/100\n",
            "5/5 - 0s - loss: 0.5777 - accuracy: 0.6972 - val_loss: 0.8132 - val_accuracy: 0.6667 - 52ms/epoch - 10ms/step\n",
            "Epoch 73/100\n",
            "5/5 - 0s - loss: 0.5758 - accuracy: 0.6972 - val_loss: 0.8134 - val_accuracy: 0.6667 - 65ms/epoch - 13ms/step\n",
            "Epoch 74/100\n",
            "5/5 - 0s - loss: 0.5742 - accuracy: 0.6972 - val_loss: 0.8129 - val_accuracy: 0.6667 - 59ms/epoch - 12ms/step\n",
            "Epoch 75/100\n",
            "5/5 - 0s - loss: 0.5724 - accuracy: 0.6972 - val_loss: 0.8128 - val_accuracy: 0.6667 - 41ms/epoch - 8ms/step\n",
            "Epoch 76/100\n",
            "5/5 - 0s - loss: 0.5709 - accuracy: 0.6972 - val_loss: 0.8125 - val_accuracy: 0.6667 - 43ms/epoch - 9ms/step\n",
            "Epoch 77/100\n",
            "5/5 - 0s - loss: 0.5693 - accuracy: 0.6972 - val_loss: 0.8123 - val_accuracy: 0.6667 - 63ms/epoch - 13ms/step\n",
            "Epoch 78/100\n",
            "5/5 - 0s - loss: 0.5678 - accuracy: 0.6972 - val_loss: 0.8119 - val_accuracy: 0.6667 - 43ms/epoch - 9ms/step\n",
            "Epoch 79/100\n",
            "5/5 - 0s - loss: 0.5663 - accuracy: 0.6972 - val_loss: 0.8116 - val_accuracy: 0.6667 - 40ms/epoch - 8ms/step\n",
            "Epoch 80/100\n",
            "5/5 - 0s - loss: 0.5649 - accuracy: 0.6901 - val_loss: 0.8113 - val_accuracy: 0.6667 - 52ms/epoch - 10ms/step\n",
            "Epoch 81/100\n",
            "5/5 - 0s - loss: 0.5636 - accuracy: 0.6972 - val_loss: 0.8110 - val_accuracy: 0.6667 - 41ms/epoch - 8ms/step\n",
            "Epoch 82/100\n",
            "5/5 - 0s - loss: 0.5622 - accuracy: 0.6972 - val_loss: 0.8107 - val_accuracy: 0.6667 - 50ms/epoch - 10ms/step\n",
            "Epoch 83/100\n",
            "5/5 - 0s - loss: 0.5609 - accuracy: 0.6972 - val_loss: 0.8103 - val_accuracy: 0.6667 - 45ms/epoch - 9ms/step\n",
            "Epoch 84/100\n",
            "5/5 - 0s - loss: 0.5597 - accuracy: 0.6972 - val_loss: 0.8100 - val_accuracy: 0.6667 - 40ms/epoch - 8ms/step\n",
            "Epoch 85/100\n",
            "5/5 - 0s - loss: 0.5585 - accuracy: 0.6972 - val_loss: 0.8096 - val_accuracy: 0.6667 - 40ms/epoch - 8ms/step\n",
            "Epoch 86/100\n",
            "5/5 - 0s - loss: 0.5573 - accuracy: 0.6972 - val_loss: 0.8093 - val_accuracy: 0.6667 - 42ms/epoch - 8ms/step\n",
            "Epoch 87/100\n",
            "5/5 - 0s - loss: 0.5561 - accuracy: 0.6972 - val_loss: 0.8089 - val_accuracy: 0.6667 - 60ms/epoch - 12ms/step\n",
            "Epoch 88/100\n",
            "5/5 - 0s - loss: 0.5550 - accuracy: 0.6972 - val_loss: 0.8085 - val_accuracy: 0.6667 - 47ms/epoch - 9ms/step\n",
            "Epoch 89/100\n",
            "5/5 - 0s - loss: 0.5539 - accuracy: 0.6972 - val_loss: 0.8082 - val_accuracy: 0.6667 - 59ms/epoch - 12ms/step\n",
            "Epoch 90/100\n",
            "5/5 - 0s - loss: 0.5529 - accuracy: 0.6972 - val_loss: 0.8078 - val_accuracy: 0.6667 - 61ms/epoch - 12ms/step\n",
            "Epoch 91/100\n",
            "5/5 - 0s - loss: 0.5518 - accuracy: 0.6972 - val_loss: 0.8074 - val_accuracy: 0.6667 - 46ms/epoch - 9ms/step\n",
            "Epoch 92/100\n",
            "5/5 - 0s - loss: 0.5508 - accuracy: 0.6972 - val_loss: 0.8070 - val_accuracy: 0.6667 - 43ms/epoch - 9ms/step\n",
            "Epoch 93/100\n",
            "5/5 - 0s - loss: 0.5498 - accuracy: 0.6972 - val_loss: 0.8066 - val_accuracy: 0.6667 - 45ms/epoch - 9ms/step\n",
            "Epoch 94/100\n",
            "5/5 - 0s - loss: 0.5488 - accuracy: 0.6972 - val_loss: 0.8062 - val_accuracy: 0.6667 - 66ms/epoch - 13ms/step\n",
            "Epoch 95/100\n",
            "5/5 - 0s - loss: 0.5479 - accuracy: 0.6972 - val_loss: 0.8058 - val_accuracy: 0.6667 - 58ms/epoch - 12ms/step\n",
            "Epoch 96/100\n",
            "5/5 - 0s - loss: 0.5470 - accuracy: 0.6972 - val_loss: 0.8054 - val_accuracy: 0.6667 - 59ms/epoch - 12ms/step\n",
            "Epoch 97/100\n",
            "5/5 - 0s - loss: 0.5461 - accuracy: 0.6972 - val_loss: 0.8049 - val_accuracy: 0.6667 - 58ms/epoch - 12ms/step\n",
            "Epoch 98/100\n",
            "5/5 - 0s - loss: 0.5452 - accuracy: 0.6972 - val_loss: 0.8045 - val_accuracy: 0.6667 - 64ms/epoch - 13ms/step\n",
            "Epoch 99/100\n",
            "5/5 - 0s - loss: 0.5443 - accuracy: 0.6972 - val_loss: 0.8041 - val_accuracy: 0.6667 - 42ms/epoch - 8ms/step\n",
            "Epoch 100/100\n",
            "5/5 - 0s - loss: 0.5434 - accuracy: 0.6972 - val_loss: 0.8036 - val_accuracy: 0.6667 - 40ms/epoch - 8ms/step\n"
          ]
        }
      ]
    },
    {
      "cell_type": "code",
      "source": [
        "#Y ahora vemos la función de costo\n",
        "\n",
        "plt.plot(history_model.history['loss'])\n",
        "plt.plot(history_model.history['val_loss'])\n",
        "plt.title('Cost function', size=16)\n",
        "plt.ylabel('Cost', size=16)\n",
        "plt.xlabel('Epoch', size=16)\n",
        "plt.legend(['Train', 'Validation'], loc='upper right', prop={'size': 16})\n",
        "plt.show()"
      ],
      "metadata": {
        "colab": {
          "base_uri": "https://localhost:8080/",
          "height": 480
        },
        "outputId": "3b7b1295-0378-40a7-b0d8-a86bbb287cba",
        "id": "4ZTs50BIeBii"
      },
      "execution_count": null,
      "outputs": [
        {
          "output_type": "display_data",
          "data": {
            "text/plain": [
              "<Figure size 640x480 with 1 Axes>"
            ],
            "image/png": "[encoded data removed]"
          },
          "metadata": {}
        }
      ]
    },
    {
      "cell_type": "code",
      "source": [
        "#Y la función en función de acc\n",
        "\n",
        "plt.plot(history_model.history['accuracy'])\n",
        "plt.plot(history_model.history['val_accuracy'])\n",
        "plt.title('Model accuracy', size=16)\n",
        "plt.ylabel('Accuracy', size=16)\n",
        "plt.xlabel('Epoch', size=16)\n",
        "plt.legend(['Train', 'Validation'], loc='lower right', prop={'size': 16})\n",
        "plt.show()"
      ],
      "metadata": {
        "colab": {
          "base_uri": "https://localhost:8080/",
          "height": 480
        },
        "outputId": "563484d7-14e1-4ab2-8ed9-374581a56b30",
        "id": "zljQ7VageBii"
      },
      "execution_count": null,
      "outputs": [
        {
          "output_type": "display_data",
          "data": {
            "text/plain": [
              "<Figure size 640x480 with 1 Axes>"
            ],
            "image/png": "[encoded data removed]"
          },
          "metadata": {}
        }
      ]
    },
    {
      "cell_type": "code",
      "source": [
        "#Evaluamos\n",
        "\n",
        "evaluations = model4.evaluate(x = x_test_norm, y = test_y)\n",
        "\n",
        "print (\"Loss = \" + str(evaluations[0]))\n",
        "print (\"Test Accuracy = \" + str(evaluations[1]))"
      ],
      "metadata": {
        "colab": {
          "base_uri": "https://localhost:8080/"
        },
        "outputId": "cef2daeb-91d9-4e3d-d8a2-21d3e61e4d28",
        "id": "d35rnXYOeBii"
      },
      "execution_count": null,
      "outputs": [
        {
          "output_type": "stream",
          "name": "stdout",
          "text": [
            "1/1 [==============================] - 0s 274ms/step - loss: 1.0840 - accuracy: 0.2778\n",
            "Loss = 1.0840086936950684\n",
            "Test Accuracy = 0.2777777910232544\n"
          ]
        }
      ]
    },
    {
      "cell_type": "markdown",
      "source": [
        "Conclusión: Con esta realización de entrenamientos, se pudo ver una pequeña variación de ciertos hiperparámetros para una red más eficiente, sin embargo, no existió una red que superara el 66% de accuracy a pesar de los esfuerzos de hacerlo.\n",
        "\n",
        "Esto puede indicar que, en efecto, es muy dificil la variación de hiperparámetros que consigan una red óptima y efectiva.\n",
        "\n",
        "A pesar de ello, la primera y última representación gráfica mosstraron que en pocas épocas hubo un aprendimiento pero después éste divergió."
      ],
      "metadata": {
        "id": "Nec7Vzc-eyzL"
      }
    }
  ]
}