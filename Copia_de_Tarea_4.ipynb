{
  "cells": [
    {
      "cell_type": "markdown",
      "id": "8da1de5a",
      "metadata": {
        "id": "8da1de5a"
      },
      "source": [
        "# Tarea 4: Por Hugo Alejandro Hinojosa Novales\n",
        "\n",
        "## Implemenar una red neuronal utilizando Keras\n",
        "\n",
        "En esta tarea vas a desarrollar una red neuronal utilizando el conjunto de datos Iris.\n",
        "\n",
        "En la clase 6 revisamos brevemente este dataset, si aún no tienes claro qué variables son dependientes e independientes puedes revisar la documentación del [dataset](https://archive.ics.uci.edu/ml/datasets/iris).\n",
        "\n",
        "La finalidad de esta tarea no es que encuentres el mejor modelo (aunque sería bueno que experimentes y encuentres uno bueno) si no que te familiarices con el uso de [Keras](https://keras.io/) y aprendas a utilizar su documentación.\n",
        "\n",
        "En cada ejercicio agrega las celdas que necesites.\n"
      ]
    },
    {
      "cell_type": "code",
      "execution_count": null,
      "id": "f620ec36",
      "metadata": {
        "id": "f620ec36"
      },
      "outputs": [],
      "source": [
        "import pandas as pd\n",
        "import numpy as np\n",
        "import matplotlib.pyplot as plt\n",
        "import sklearn as sk"
      ]
    },
    {
      "cell_type": "markdown",
      "id": "c05d31f6",
      "metadata": {
        "id": "c05d31f6"
      },
      "source": [
        "## I. Preparación de los datos"
      ]
    },
    {
      "cell_type": "markdown",
      "id": "b522924b",
      "metadata": {
        "id": "b522924b"
      },
      "source": [
        "### Ejercicio 1:\n",
        "\n",
        "1.1 Carga el [conjunto de datos Iris desde sklearn](https://scikit-learn.org/stable/datasets/toy_dataset.html)\n",
        "\n",
        "1.2 Guarda los rasgos del conjunto de datos en la variable X\n",
        "\n",
        "1.3 Guarda la salida del conjunto de datos en la variable y\n",
        "\n",
        "Nota: Asegurate de tener instalada la libreria de sklearn"
      ]
    },
    {
      "cell_type": "code",
      "execution_count": null,
      "id": "2c8ccaa1",
      "metadata": {
        "id": "2c8ccaa1"
      },
      "outputs": [],
      "source": [
        "from sklearn import datasets\n",
        "\n",
        "datos = sk.datasets.load_iris()\n",
        "datos_x = datos.data\n",
        "datos_y = datos.target"
      ]
    },
    {
      "cell_type": "code",
      "source": [
        "datos_x.shape"
      ],
      "metadata": {
        "colab": {
          "base_uri": "https://localhost:8080/"
        },
        "id": "3hRaV9lweJQN",
        "outputId": "b1ee3bdd-8bcb-44a8-b5b0-f20415fe3c23"
      },
      "id": "3hRaV9lweJQN",
      "execution_count": null,
      "outputs": [
        {
          "output_type": "execute_result",
          "data": {
            "text/plain": [
              "(150, 4)"
            ]
          },
          "metadata": {},
          "execution_count": 3
        }
      ]
    },
    {
      "cell_type": "code",
      "source": [
        "datos_y.shape"
      ],
      "metadata": {
        "colab": {
          "base_uri": "https://localhost:8080/"
        },
        "id": "gCd6qRrNfmqG",
        "outputId": "c93314ad-1cb7-4609-ae1a-1b3ac0b28fa5"
      },
      "id": "gCd6qRrNfmqG",
      "execution_count": null,
      "outputs": [
        {
          "output_type": "execute_result",
          "data": {
            "text/plain": [
              "(150,)"
            ]
          },
          "metadata": {},
          "execution_count": 4
        }
      ]
    },
    {
      "cell_type": "markdown",
      "id": "a9c21b33",
      "metadata": {
        "id": "a9c21b33"
      },
      "source": [
        "### Ejercicio 2\n",
        "\n",
        "2.1 Verifica que el tipo de dato de X y y es un arreglo\n",
        "\n",
        "2.2 Convierte los arreglos a dataframes de pandas y concatenalos para tener un dataframe como el siguiente:\n",
        "\n",
        "| sepal_length | sepal_width | petal_length | petal_width | target |\n",
        "| --- | --- | --- | --- | --- |\n",
        "| 5.1 | 3.5 | 1.4 | 0.2 | 0 |\n",
        "| 4.9 | 3.0 | 1.4 | 0.2 | 0 |\n",
        "\n",
        "Hint:\n",
        "\n",
        "Si no sabes cómo convertir un arreglo en dataframe puedes buscar en google algo así: *how to convert numpy array to dataframe pandas*\n",
        "\n",
        "Puedes generar un dataframe para las X y uno para las y y despues *juntarlos*. Si no sabes cómo hacer esto, puedes buscar una [cheat sheet de pandas](https://pandas.pydata.org/Pandas_Cheat_Sheet.pdf). (En particular puedes utilizar merge sobre el indice de los dataframes creados)."
      ]
    },
    {
      "cell_type": "code",
      "execution_count": null,
      "id": "136989a7",
      "metadata": {
        "id": "136989a7",
        "colab": {
          "base_uri": "https://localhost:8080/"
        },
        "outputId": "bdad4b34-960b-439f-88ce-1e3038a2b978"
      },
      "outputs": [
        {
          "output_type": "stream",
          "name": "stdout",
          "text": [
            "El tipo de datos_x es  <class 'numpy.ndarray'>\n",
            "El tipo de datos_y es  <class 'numpy.ndarray'>\n"
          ]
        }
      ],
      "source": [
        "#Veamos que sí es un arreglo\n",
        "\n",
        "print(\"El tipo de datos_x es \", type(datos_x))\n",
        "print(\"El tipo de datos_y es \", type(datos_y))\n",
        "\n",
        "#Para transformarlo en datagrame se hace lo siguiente\n",
        "\n",
        "df = pd.DataFrame(datos_x, columns = [\"sepal_length\", \"sepal_width\", \"petal_lenght\", \"petal_width\"])\n",
        "df_2 = pd.DataFrame(datos_y, columns = [\"target\"])"
      ]
    },
    {
      "cell_type": "code",
      "source": [
        "df"
      ],
      "metadata": {
        "colab": {
          "base_uri": "https://localhost:8080/",
          "height": 424
        },
        "id": "JVlphYMCmbu4",
        "outputId": "19fb65e1-4b3d-4386-e4e4-005cd3190660"
      },
      "id": "JVlphYMCmbu4",
      "execution_count": null,
      "outputs": [
        {
          "output_type": "execute_result",
          "data": {
            "text/plain": [
              "     sepal_length  sepal_width  petal_lenght  petal_width\n",
              "0             5.1          3.5           1.4          0.2\n",
              "1             4.9          3.0           1.4          0.2\n",
              "2             4.7          3.2           1.3          0.2\n",
              "3             4.6          3.1           1.5          0.2\n",
              "4             5.0          3.6           1.4          0.2\n",
              "..            ...          ...           ...          ...\n",
              "145           6.7          3.0           5.2          2.3\n",
              "146           6.3          2.5           5.0          1.9\n",
              "147           6.5          3.0           5.2          2.0\n",
              "148           6.2          3.4           5.4          2.3\n",
              "149           5.9          3.0           5.1          1.8\n",
              "\n",
              "[150 rows x 4 columns]"
            ],
            "text/html": [
              "\n",
              "  <div id=\"df-b59fb5a6-6ffb-4c30-acb7-1e701b8273ef\">\n",
              "    <div class=\"colab-df-container\">\n",
              "      <div>\n",
              "<style scoped>\n",
              "    .dataframe tbody tr th:only-of-type {\n",
              "        vertical-align: middle;\n",
              "    }\n",
              "\n",
              "    .dataframe tbody tr th {\n",
              "        vertical-align: top;\n",
              "    }\n",
              "\n",
              "    .dataframe thead th {\n",
              "        text-align: right;\n",
              "    }\n",
              "</style>\n",
              "<table border=\"1\" class=\"dataframe\">\n",
              "  <thead>\n",
              "    <tr style=\"text-align: right;\">\n",
              "      <th></th>\n",
              "      <th>sepal_length</th>\n",
              "      <th>sepal_width</th>\n",
              "      <th>petal_lenght</th>\n",
              "      <th>petal_width</th>\n",
              "    </tr>\n",
              "  </thead>\n",
              "  <tbody>\n",
              "    <tr>\n",
              "      <th>0</th>\n",
              "      <td>5.1</td>\n",
              "      <td>3.5</td>\n",
              "      <td>1.4</td>\n",
              "      <td>0.2</td>\n",
              "    </tr>\n",
              "    <tr>\n",
              "      <th>1</th>\n",
              "      <td>4.9</td>\n",
              "      <td>3.0</td>\n",
              "      <td>1.4</td>\n",
              "      <td>0.2</td>\n",
              "    </tr>\n",
              "    <tr>\n",
              "      <th>2</th>\n",
              "      <td>4.7</td>\n",
              "      <td>3.2</td>\n",
              "      <td>1.3</td>\n",
              "      <td>0.2</td>\n",
              "    </tr>\n",
              "    <tr>\n",
              "      <th>3</th>\n",
              "      <td>4.6</td>\n",
              "      <td>3.1</td>\n",
              "      <td>1.5</td>\n",
              "      <td>0.2</td>\n",
              "    </tr>\n",
              "    <tr>\n",
              "      <th>4</th>\n",
              "      <td>5.0</td>\n",
              "      <td>3.6</td>\n",
              "      <td>1.4</td>\n",
              "      <td>0.2</td>\n",
              "    </tr>\n",
              "    <tr>\n",
              "      <th>...</th>\n",
              "      <td>...</td>\n",
              "      <td>...</td>\n",
              "      <td>...</td>\n",
              "      <td>...</td>\n",
              "    </tr>\n",
              "    <tr>\n",
              "      <th>145</th>\n",
              "      <td>6.7</td>\n",
              "      <td>3.0</td>\n",
              "      <td>5.2</td>\n",
              "      <td>2.3</td>\n",
              "    </tr>\n",
              "    <tr>\n",
              "      <th>146</th>\n",
              "      <td>6.3</td>\n",
              "      <td>2.5</td>\n",
              "      <td>5.0</td>\n",
              "      <td>1.9</td>\n",
              "    </tr>\n",
              "    <tr>\n",
              "      <th>147</th>\n",
              "      <td>6.5</td>\n",
              "      <td>3.0</td>\n",
              "      <td>5.2</td>\n",
              "      <td>2.0</td>\n",
              "    </tr>\n",
              "    <tr>\n",
              "      <th>148</th>\n",
              "      <td>6.2</td>\n",
              "      <td>3.4</td>\n",
              "      <td>5.4</td>\n",
              "      <td>2.3</td>\n",
              "    </tr>\n",
              "    <tr>\n",
              "      <th>149</th>\n",
              "      <td>5.9</td>\n",
              "      <td>3.0</td>\n",
              "      <td>5.1</td>\n",
              "      <td>1.8</td>\n",
              "    </tr>\n",
              "  </tbody>\n",
              "</table>\n",
              "<p>150 rows × 4 columns</p>\n",
              "</div>\n",
              "      <button class=\"colab-df-convert\" onclick=\"convertToInteractive('df-b59fb5a6-6ffb-4c30-acb7-1e701b8273ef')\"\n",
              "              title=\"Convert this dataframe to an interactive table.\"\n",
              "              style=\"display:none;\">\n",
              "        \n",
              "  <svg xmlns=\"http://www.w3.org/2000/svg\" height=\"24px\"viewBox=\"0 0 24 24\"\n",
              "       width=\"24px\">\n",
              "    <path d=\"M0 0h24v24H0V0z\" fill=\"none\"/>\n",
              "    <path d=\"M18.56 5.44l.94 2.06.94-2.06 2.06-.94-2.06-.94-.94-2.06-.94 2.06-2.06.94zm-11 1L8.5 8.5l.94-2.06 2.06-.94-2.06-.94L8.5 2.5l-.94 2.06-2.06.94zm10 10l.94 2.06.94-2.06 2.06-.94-2.06-.94-.94-2.06-.94 2.06-2.06.94z\"/><path d=\"M17.41 7.96l-1.37-1.37c-.4-.4-.92-.59-1.43-.59-.52 0-1.04.2-1.43.59L10.3 9.45l-7.72 7.72c-.78.78-.78 2.05 0 2.83L4 21.41c.39.39.9.59 1.41.59.51 0 1.02-.2 1.41-.59l7.78-7.78 2.81-2.81c.8-.78.8-2.07 0-2.86zM5.41 20L4 18.59l7.72-7.72 1.47 1.35L5.41 20z\"/>\n",
              "  </svg>\n",
              "      </button>\n",
              "      \n",
              "  <style>\n",
              "    .colab-df-container {\n",
              "      display:flex;\n",
              "      flex-wrap:wrap;\n",
              "      gap: 12px;\n",
              "    }\n",
              "\n",
              "    .colab-df-convert {\n",
              "      background-color: #E8F0FE;\n",
              "      border: none;\n",
              "      border-radius: 50%;\n",
              "      cursor: pointer;\n",
              "      display: none;\n",
              "      fill: #1967D2;\n",
              "      height: 32px;\n",
              "      padding: 0 0 0 0;\n",
              "      width: 32px;\n",
              "    }\n",
              "\n",
              "    .colab-df-convert:hover {\n",
              "      background-color: #E2EBFA;\n",
              "      box-shadow: 0px 1px 2px rgba(60, 64, 67, 0.3), 0px 1px 3px 1px rgba(60, 64, 67, 0.15);\n",
              "      fill: #174EA6;\n",
              "    }\n",
              "\n",
              "    [theme=dark] .colab-df-convert {\n",
              "      background-color: #3B4455;\n",
              "      fill: #D2E3FC;\n",
              "    }\n",
              "\n",
              "    [theme=dark] .colab-df-convert:hover {\n",
              "      background-color: #434B5C;\n",
              "      box-shadow: 0px 1px 3px 1px rgba(0, 0, 0, 0.15);\n",
              "      filter: drop-shadow(0px 1px 2px rgba(0, 0, 0, 0.3));\n",
              "      fill: #FFFFFF;\n",
              "    }\n",
              "  </style>\n",
              "\n",
              "      <script>\n",
              "        const buttonEl =\n",
              "          document.querySelector('#df-b59fb5a6-6ffb-4c30-acb7-1e701b8273ef button.colab-df-convert');\n",
              "        buttonEl.style.display =\n",
              "          google.colab.kernel.accessAllowed ? 'block' : 'none';\n",
              "\n",
              "        async function convertToInteractive(key) {\n",
              "          const element = document.querySelector('#df-b59fb5a6-6ffb-4c30-acb7-1e701b8273ef');\n",
              "          const dataTable =\n",
              "            await google.colab.kernel.invokeFunction('convertToInteractive',\n",
              "                                                     [key], {});\n",
              "          if (!dataTable) return;\n",
              "\n",
              "          const docLinkHtml = 'Like what you see? Visit the ' +\n",
              "            '<a target=\"_blank\" href=https://colab.research.google.com/notebooks/data_table.ipynb>data table notebook</a>'\n",
              "            + ' to learn more about interactive tables.';\n",
              "          element.innerHTML = '';\n",
              "          dataTable['output_type'] = 'display_data';\n",
              "          await google.colab.output.renderOutput(dataTable, element);\n",
              "          const docLink = document.createElement('div');\n",
              "          docLink.innerHTML = docLinkHtml;\n",
              "          element.appendChild(docLink);\n",
              "        }\n",
              "      </script>\n",
              "    </div>\n",
              "  </div>\n",
              "  "
            ]
          },
          "metadata": {},
          "execution_count": 6
        }
      ]
    },
    {
      "cell_type": "code",
      "source": [
        "df_2"
      ],
      "metadata": {
        "colab": {
          "base_uri": "https://localhost:8080/",
          "height": 424
        },
        "id": "XiE2tPqsmixA",
        "outputId": "23495569-2069-4e0d-ef01-79bfed3f60b5"
      },
      "id": "XiE2tPqsmixA",
      "execution_count": null,
      "outputs": [
        {
          "output_type": "execute_result",
          "data": {
            "text/plain": [
              "     target\n",
              "0         0\n",
              "1         0\n",
              "2         0\n",
              "3         0\n",
              "4         0\n",
              "..      ...\n",
              "145       2\n",
              "146       2\n",
              "147       2\n",
              "148       2\n",
              "149       2\n",
              "\n",
              "[150 rows x 1 columns]"
            ],
            "text/html": [
              "\n",
              "  <div id=\"df-b8685e41-dbf2-43b6-a7e2-4920617f4610\">\n",
              "    <div class=\"colab-df-container\">\n",
              "      <div>\n",
              "<style scoped>\n",
              "    .dataframe tbody tr th:only-of-type {\n",
              "        vertical-align: middle;\n",
              "    }\n",
              "\n",
              "    .dataframe tbody tr th {\n",
              "        vertical-align: top;\n",
              "    }\n",
              "\n",
              "    .dataframe thead th {\n",
              "        text-align: right;\n",
              "    }\n",
              "</style>\n",
              "<table border=\"1\" class=\"dataframe\">\n",
              "  <thead>\n",
              "    <tr style=\"text-align: right;\">\n",
              "      <th></th>\n",
              "      <th>target</th>\n",
              "    </tr>\n",
              "  </thead>\n",
              "  <tbody>\n",
              "    <tr>\n",
              "      <th>0</th>\n",
              "      <td>0</td>\n",
              "    </tr>\n",
              "    <tr>\n",
              "      <th>1</th>\n",
              "      <td>0</td>\n",
              "    </tr>\n",
              "    <tr>\n",
              "      <th>2</th>\n",
              "      <td>0</td>\n",
              "    </tr>\n",
              "    <tr>\n",
              "      <th>3</th>\n",
              "      <td>0</td>\n",
              "    </tr>\n",
              "    <tr>\n",
              "      <th>4</th>\n",
              "      <td>0</td>\n",
              "    </tr>\n",
              "    <tr>\n",
              "      <th>...</th>\n",
              "      <td>...</td>\n",
              "    </tr>\n",
              "    <tr>\n",
              "      <th>145</th>\n",
              "      <td>2</td>\n",
              "    </tr>\n",
              "    <tr>\n",
              "      <th>146</th>\n",
              "      <td>2</td>\n",
              "    </tr>\n",
              "    <tr>\n",
              "      <th>147</th>\n",
              "      <td>2</td>\n",
              "    </tr>\n",
              "    <tr>\n",
              "      <th>148</th>\n",
              "      <td>2</td>\n",
              "    </tr>\n",
              "    <tr>\n",
              "      <th>149</th>\n",
              "      <td>2</td>\n",
              "    </tr>\n",
              "  </tbody>\n",
              "</table>\n",
              "<p>150 rows × 1 columns</p>\n",
              "</div>\n",
              "      <button class=\"colab-df-convert\" onclick=\"convertToInteractive('df-b8685e41-dbf2-43b6-a7e2-4920617f4610')\"\n",
              "              title=\"Convert this dataframe to an interactive table.\"\n",
              "              style=\"display:none;\">\n",
              "        \n",
              "  <svg xmlns=\"http://www.w3.org/2000/svg\" height=\"24px\"viewBox=\"0 0 24 24\"\n",
              "       width=\"24px\">\n",
              "    <path d=\"M0 0h24v24H0V0z\" fill=\"none\"/>\n",
              "    <path d=\"M18.56 5.44l.94 2.06.94-2.06 2.06-.94-2.06-.94-.94-2.06-.94 2.06-2.06.94zm-11 1L8.5 8.5l.94-2.06 2.06-.94-2.06-.94L8.5 2.5l-.94 2.06-2.06.94zm10 10l.94 2.06.94-2.06 2.06-.94-2.06-.94-.94-2.06-.94 2.06-2.06.94z\"/><path d=\"M17.41 7.96l-1.37-1.37c-.4-.4-.92-.59-1.43-.59-.52 0-1.04.2-1.43.59L10.3 9.45l-7.72 7.72c-.78.78-.78 2.05 0 2.83L4 21.41c.39.39.9.59 1.41.59.51 0 1.02-.2 1.41-.59l7.78-7.78 2.81-2.81c.8-.78.8-2.07 0-2.86zM5.41 20L4 18.59l7.72-7.72 1.47 1.35L5.41 20z\"/>\n",
              "  </svg>\n",
              "      </button>\n",
              "      \n",
              "  <style>\n",
              "    .colab-df-container {\n",
              "      display:flex;\n",
              "      flex-wrap:wrap;\n",
              "      gap: 12px;\n",
              "    }\n",
              "\n",
              "    .colab-df-convert {\n",
              "      background-color: #E8F0FE;\n",
              "      border: none;\n",
              "      border-radius: 50%;\n",
              "      cursor: pointer;\n",
              "      display: none;\n",
              "      fill: #1967D2;\n",
              "      height: 32px;\n",
              "      padding: 0 0 0 0;\n",
              "      width: 32px;\n",
              "    }\n",
              "\n",
              "    .colab-df-convert:hover {\n",
              "      background-color: #E2EBFA;\n",
              "      box-shadow: 0px 1px 2px rgba(60, 64, 67, 0.3), 0px 1px 3px 1px rgba(60, 64, 67, 0.15);\n",
              "      fill: #174EA6;\n",
              "    }\n",
              "\n",
              "    [theme=dark] .colab-df-convert {\n",
              "      background-color: #3B4455;\n",
              "      fill: #D2E3FC;\n",
              "    }\n",
              "\n",
              "    [theme=dark] .colab-df-convert:hover {\n",
              "      background-color: #434B5C;\n",
              "      box-shadow: 0px 1px 3px 1px rgba(0, 0, 0, 0.15);\n",
              "      filter: drop-shadow(0px 1px 2px rgba(0, 0, 0, 0.3));\n",
              "      fill: #FFFFFF;\n",
              "    }\n",
              "  </style>\n",
              "\n",
              "      <script>\n",
              "        const buttonEl =\n",
              "          document.querySelector('#df-b8685e41-dbf2-43b6-a7e2-4920617f4610 button.colab-df-convert');\n",
              "        buttonEl.style.display =\n",
              "          google.colab.kernel.accessAllowed ? 'block' : 'none';\n",
              "\n",
              "        async function convertToInteractive(key) {\n",
              "          const element = document.querySelector('#df-b8685e41-dbf2-43b6-a7e2-4920617f4610');\n",
              "          const dataTable =\n",
              "            await google.colab.kernel.invokeFunction('convertToInteractive',\n",
              "                                                     [key], {});\n",
              "          if (!dataTable) return;\n",
              "\n",
              "          const docLinkHtml = 'Like what you see? Visit the ' +\n",
              "            '<a target=\"_blank\" href=https://colab.research.google.com/notebooks/data_table.ipynb>data table notebook</a>'\n",
              "            + ' to learn more about interactive tables.';\n",
              "          element.innerHTML = '';\n",
              "          dataTable['output_type'] = 'display_data';\n",
              "          await google.colab.output.renderOutput(dataTable, element);\n",
              "          const docLink = document.createElement('div');\n",
              "          docLink.innerHTML = docLinkHtml;\n",
              "          element.appendChild(docLink);\n",
              "        }\n",
              "      </script>\n",
              "    </div>\n",
              "  </div>\n",
              "  "
            ]
          },
          "metadata": {},
          "execution_count": 7
        }
      ]
    },
    {
      "cell_type": "code",
      "source": [
        "#Y los unimos\n",
        "\n",
        "df_def = pd.concat([df, df_2], axis = 1)"
      ],
      "metadata": {
        "id": "f0DtKAgXntUR"
      },
      "id": "f0DtKAgXntUR",
      "execution_count": null,
      "outputs": []
    },
    {
      "cell_type": "code",
      "source": [
        "df_def"
      ],
      "metadata": {
        "colab": {
          "base_uri": "https://localhost:8080/",
          "height": 424
        },
        "id": "MhOG7thXrhRq",
        "outputId": "280ebf99-5a9d-41d5-95dc-8a69a38d9ce6"
      },
      "id": "MhOG7thXrhRq",
      "execution_count": null,
      "outputs": [
        {
          "output_type": "execute_result",
          "data": {
            "text/plain": [
              "     sepal_length  sepal_width  petal_lenght  petal_width  target\n",
              "0             5.1          3.5           1.4          0.2       0\n",
              "1             4.9          3.0           1.4          0.2       0\n",
              "2             4.7          3.2           1.3          0.2       0\n",
              "3             4.6          3.1           1.5          0.2       0\n",
              "4             5.0          3.6           1.4          0.2       0\n",
              "..            ...          ...           ...          ...     ...\n",
              "145           6.7          3.0           5.2          2.3       2\n",
              "146           6.3          2.5           5.0          1.9       2\n",
              "147           6.5          3.0           5.2          2.0       2\n",
              "148           6.2          3.4           5.4          2.3       2\n",
              "149           5.9          3.0           5.1          1.8       2\n",
              "\n",
              "[150 rows x 5 columns]"
            ],
            "text/html": [
              "\n",
              "  <div id=\"df-1cd9dca8-fa2b-4256-b052-e01b7880c4a3\">\n",
              "    <div class=\"colab-df-container\">\n",
              "      <div>\n",
              "<style scoped>\n",
              "    .dataframe tbody tr th:only-of-type {\n",
              "        vertical-align: middle;\n",
              "    }\n",
              "\n",
              "    .dataframe tbody tr th {\n",
              "        vertical-align: top;\n",
              "    }\n",
              "\n",
              "    .dataframe thead th {\n",
              "        text-align: right;\n",
              "    }\n",
              "</style>\n",
              "<table border=\"1\" class=\"dataframe\">\n",
              "  <thead>\n",
              "    <tr style=\"text-align: right;\">\n",
              "      <th></th>\n",
              "      <th>sepal_length</th>\n",
              "      <th>sepal_width</th>\n",
              "      <th>petal_lenght</th>\n",
              "      <th>petal_width</th>\n",
              "      <th>target</th>\n",
              "    </tr>\n",
              "  </thead>\n",
              "  <tbody>\n",
              "    <tr>\n",
              "      <th>0</th>\n",
              "      <td>5.1</td>\n",
              "      <td>3.5</td>\n",
              "      <td>1.4</td>\n",
              "      <td>0.2</td>\n",
              "      <td>0</td>\n",
              "    </tr>\n",
              "    <tr>\n",
              "      <th>1</th>\n",
              "      <td>4.9</td>\n",
              "      <td>3.0</td>\n",
              "      <td>1.4</td>\n",
              "      <td>0.2</td>\n",
              "      <td>0</td>\n",
              "    </tr>\n",
              "    <tr>\n",
              "      <th>2</th>\n",
              "      <td>4.7</td>\n",
              "      <td>3.2</td>\n",
              "      <td>1.3</td>\n",
              "      <td>0.2</td>\n",
              "      <td>0</td>\n",
              "    </tr>\n",
              "    <tr>\n",
              "      <th>3</th>\n",
              "      <td>4.6</td>\n",
              "      <td>3.1</td>\n",
              "      <td>1.5</td>\n",
              "      <td>0.2</td>\n",
              "      <td>0</td>\n",
              "    </tr>\n",
              "    <tr>\n",
              "      <th>4</th>\n",
              "      <td>5.0</td>\n",
              "      <td>3.6</td>\n",
              "      <td>1.4</td>\n",
              "      <td>0.2</td>\n",
              "      <td>0</td>\n",
              "    </tr>\n",
              "    <tr>\n",
              "      <th>...</th>\n",
              "      <td>...</td>\n",
              "      <td>...</td>\n",
              "      <td>...</td>\n",
              "      <td>...</td>\n",
              "      <td>...</td>\n",
              "    </tr>\n",
              "    <tr>\n",
              "      <th>145</th>\n",
              "      <td>6.7</td>\n",
              "      <td>3.0</td>\n",
              "      <td>5.2</td>\n",
              "      <td>2.3</td>\n",
              "      <td>2</td>\n",
              "    </tr>\n",
              "    <tr>\n",
              "      <th>146</th>\n",
              "      <td>6.3</td>\n",
              "      <td>2.5</td>\n",
              "      <td>5.0</td>\n",
              "      <td>1.9</td>\n",
              "      <td>2</td>\n",
              "    </tr>\n",
              "    <tr>\n",
              "      <th>147</th>\n",
              "      <td>6.5</td>\n",
              "      <td>3.0</td>\n",
              "      <td>5.2</td>\n",
              "      <td>2.0</td>\n",
              "      <td>2</td>\n",
              "    </tr>\n",
              "    <tr>\n",
              "      <th>148</th>\n",
              "      <td>6.2</td>\n",
              "      <td>3.4</td>\n",
              "      <td>5.4</td>\n",
              "      <td>2.3</td>\n",
              "      <td>2</td>\n",
              "    </tr>\n",
              "    <tr>\n",
              "      <th>149</th>\n",
              "      <td>5.9</td>\n",
              "      <td>3.0</td>\n",
              "      <td>5.1</td>\n",
              "      <td>1.8</td>\n",
              "      <td>2</td>\n",
              "    </tr>\n",
              "  </tbody>\n",
              "</table>\n",
              "<p>150 rows × 5 columns</p>\n",
              "</div>\n",
              "      <button class=\"colab-df-convert\" onclick=\"convertToInteractive('df-1cd9dca8-fa2b-4256-b052-e01b7880c4a3')\"\n",
              "              title=\"Convert this dataframe to an interactive table.\"\n",
              "              style=\"display:none;\">\n",
              "        \n",
              "  <svg xmlns=\"http://www.w3.org/2000/svg\" height=\"24px\"viewBox=\"0 0 24 24\"\n",
              "       width=\"24px\">\n",
              "    <path d=\"M0 0h24v24H0V0z\" fill=\"none\"/>\n",
              "    <path d=\"M18.56 5.44l.94 2.06.94-2.06 2.06-.94-2.06-.94-.94-2.06-.94 2.06-2.06.94zm-11 1L8.5 8.5l.94-2.06 2.06-.94-2.06-.94L8.5 2.5l-.94 2.06-2.06.94zm10 10l.94 2.06.94-2.06 2.06-.94-2.06-.94-.94-2.06-.94 2.06-2.06.94z\"/><path d=\"M17.41 7.96l-1.37-1.37c-.4-.4-.92-.59-1.43-.59-.52 0-1.04.2-1.43.59L10.3 9.45l-7.72 7.72c-.78.78-.78 2.05 0 2.83L4 21.41c.39.39.9.59 1.41.59.51 0 1.02-.2 1.41-.59l7.78-7.78 2.81-2.81c.8-.78.8-2.07 0-2.86zM5.41 20L4 18.59l7.72-7.72 1.47 1.35L5.41 20z\"/>\n",
              "  </svg>\n",
              "      </button>\n",
              "      \n",
              "  <style>\n",
              "    .colab-df-container {\n",
              "      display:flex;\n",
              "      flex-wrap:wrap;\n",
              "      gap: 12px;\n",
              "    }\n",
              "\n",
              "    .colab-df-convert {\n",
              "      background-color: #E8F0FE;\n",
              "      border: none;\n",
              "      border-radius: 50%;\n",
              "      cursor: pointer;\n",
              "      display: none;\n",
              "      fill: #1967D2;\n",
              "      height: 32px;\n",
              "      padding: 0 0 0 0;\n",
              "      width: 32px;\n",
              "    }\n",
              "\n",
              "    .colab-df-convert:hover {\n",
              "      background-color: #E2EBFA;\n",
              "      box-shadow: 0px 1px 2px rgba(60, 64, 67, 0.3), 0px 1px 3px 1px rgba(60, 64, 67, 0.15);\n",
              "      fill: #174EA6;\n",
              "    }\n",
              "\n",
              "    [theme=dark] .colab-df-convert {\n",
              "      background-color: #3B4455;\n",
              "      fill: #D2E3FC;\n",
              "    }\n",
              "\n",
              "    [theme=dark] .colab-df-convert:hover {\n",
              "      background-color: #434B5C;\n",
              "      box-shadow: 0px 1px 3px 1px rgba(0, 0, 0, 0.15);\n",
              "      filter: drop-shadow(0px 1px 2px rgba(0, 0, 0, 0.3));\n",
              "      fill: #FFFFFF;\n",
              "    }\n",
              "  </style>\n",
              "\n",
              "      <script>\n",
              "        const buttonEl =\n",
              "          document.querySelector('#df-1cd9dca8-fa2b-4256-b052-e01b7880c4a3 button.colab-df-convert');\n",
              "        buttonEl.style.display =\n",
              "          google.colab.kernel.accessAllowed ? 'block' : 'none';\n",
              "\n",
              "        async function convertToInteractive(key) {\n",
              "          const element = document.querySelector('#df-1cd9dca8-fa2b-4256-b052-e01b7880c4a3');\n",
              "          const dataTable =\n",
              "            await google.colab.kernel.invokeFunction('convertToInteractive',\n",
              "                                                     [key], {});\n",
              "          if (!dataTable) return;\n",
              "\n",
              "          const docLinkHtml = 'Like what you see? Visit the ' +\n",
              "            '<a target=\"_blank\" href=https://colab.research.google.com/notebooks/data_table.ipynb>data table notebook</a>'\n",
              "            + ' to learn more about interactive tables.';\n",
              "          element.innerHTML = '';\n",
              "          dataTable['output_type'] = 'display_data';\n",
              "          await google.colab.output.renderOutput(dataTable, element);\n",
              "          const docLink = document.createElement('div');\n",
              "          docLink.innerHTML = docLinkHtml;\n",
              "          element.appendChild(docLink);\n",
              "        }\n",
              "      </script>\n",
              "    </div>\n",
              "  </div>\n",
              "  "
            ]
          },
          "metadata": {},
          "execution_count": 9
        }
      ]
    },
    {
      "cell_type": "markdown",
      "id": "eaab43f3",
      "metadata": {
        "id": "eaab43f3"
      },
      "source": [
        "### Ejercicio 3\n",
        "\n",
        "3.1 Los datos estan ordenados de alguna manera?, si es así reordenalos de manera aleatoria.\n",
        "\n",
        "3.2 Utiliza el método describe para generar una tabla con información estadística"
      ]
    },
    {
      "cell_type": "code",
      "execution_count": null,
      "id": "d4586559",
      "metadata": {
        "id": "d4586559"
      },
      "outputs": [],
      "source": [
        "#Sí, los datos se ven bastante ordenados, es tiempo de reordenarlos\n",
        "\n",
        "df_def2 = df_def.sample(frac=1)"
      ]
    },
    {
      "cell_type": "code",
      "source": [
        "df_def2"
      ],
      "metadata": {
        "colab": {
          "base_uri": "https://localhost:8080/",
          "height": 424
        },
        "id": "jUdFkjQKtVyr",
        "outputId": "7b93716a-f731-460f-9cff-c6b2728a0ebd"
      },
      "id": "jUdFkjQKtVyr",
      "execution_count": null,
      "outputs": [
        {
          "output_type": "execute_result",
          "data": {
            "text/plain": [
              "     sepal_length  sepal_width  petal_lenght  petal_width  target\n",
              "58            6.6          2.9           4.6          1.3       1\n",
              "102           7.1          3.0           5.9          2.1       2\n",
              "133           6.3          2.8           5.1          1.5       2\n",
              "8             4.4          2.9           1.4          0.2       0\n",
              "38            4.4          3.0           1.3          0.2       0\n",
              "..            ...          ...           ...          ...     ...\n",
              "54            6.5          2.8           4.6          1.5       1\n",
              "49            5.0          3.3           1.4          0.2       0\n",
              "22            4.6          3.6           1.0          0.2       0\n",
              "91            6.1          3.0           4.6          1.4       1\n",
              "110           6.5          3.2           5.1          2.0       2\n",
              "\n",
              "[150 rows x 5 columns]"
            ],
            "text/html": [
              "\n",
              "  <div id=\"df-9d021c59-7816-43ef-88f6-5ed1b9c475f7\">\n",
              "    <div class=\"colab-df-container\">\n",
              "      <div>\n",
              "<style scoped>\n",
              "    .dataframe tbody tr th:only-of-type {\n",
              "        vertical-align: middle;\n",
              "    }\n",
              "\n",
              "    .dataframe tbody tr th {\n",
              "        vertical-align: top;\n",
              "    }\n",
              "\n",
              "    .dataframe thead th {\n",
              "        text-align: right;\n",
              "    }\n",
              "</style>\n",
              "<table border=\"1\" class=\"dataframe\">\n",
              "  <thead>\n",
              "    <tr style=\"text-align: right;\">\n",
              "      <th></th>\n",
              "      <th>sepal_length</th>\n",
              "      <th>sepal_width</th>\n",
              "      <th>petal_lenght</th>\n",
              "      <th>petal_width</th>\n",
              "      <th>target</th>\n",
              "    </tr>\n",
              "  </thead>\n",
              "  <tbody>\n",
              "    <tr>\n",
              "      <th>58</th>\n",
              "      <td>6.6</td>\n",
              "      <td>2.9</td>\n",
              "      <td>4.6</td>\n",
              "      <td>1.3</td>\n",
              "      <td>1</td>\n",
              "    </tr>\n",
              "    <tr>\n",
              "      <th>102</th>\n",
              "      <td>7.1</td>\n",
              "      <td>3.0</td>\n",
              "      <td>5.9</td>\n",
              "      <td>2.1</td>\n",
              "      <td>2</td>\n",
              "    </tr>\n",
              "    <tr>\n",
              "      <th>133</th>\n",
              "      <td>6.3</td>\n",
              "      <td>2.8</td>\n",
              "      <td>5.1</td>\n",
              "      <td>1.5</td>\n",
              "      <td>2</td>\n",
              "    </tr>\n",
              "    <tr>\n",
              "      <th>8</th>\n",
              "      <td>4.4</td>\n",
              "      <td>2.9</td>\n",
              "      <td>1.4</td>\n",
              "      <td>0.2</td>\n",
              "      <td>0</td>\n",
              "    </tr>\n",
              "    <tr>\n",
              "      <th>38</th>\n",
              "      <td>4.4</td>\n",
              "      <td>3.0</td>\n",
              "      <td>1.3</td>\n",
              "      <td>0.2</td>\n",
              "      <td>0</td>\n",
              "    </tr>\n",
              "    <tr>\n",
              "      <th>...</th>\n",
              "      <td>...</td>\n",
              "      <td>...</td>\n",
              "      <td>...</td>\n",
              "      <td>...</td>\n",
              "      <td>...</td>\n",
              "    </tr>\n",
              "    <tr>\n",
              "      <th>54</th>\n",
              "      <td>6.5</td>\n",
              "      <td>2.8</td>\n",
              "      <td>4.6</td>\n",
              "      <td>1.5</td>\n",
              "      <td>1</td>\n",
              "    </tr>\n",
              "    <tr>\n",
              "      <th>49</th>\n",
              "      <td>5.0</td>\n",
              "      <td>3.3</td>\n",
              "      <td>1.4</td>\n",
              "      <td>0.2</td>\n",
              "      <td>0</td>\n",
              "    </tr>\n",
              "    <tr>\n",
              "      <th>22</th>\n",
              "      <td>4.6</td>\n",
              "      <td>3.6</td>\n",
              "      <td>1.0</td>\n",
              "      <td>0.2</td>\n",
              "      <td>0</td>\n",
              "    </tr>\n",
              "    <tr>\n",
              "      <th>91</th>\n",
              "      <td>6.1</td>\n",
              "      <td>3.0</td>\n",
              "      <td>4.6</td>\n",
              "      <td>1.4</td>\n",
              "      <td>1</td>\n",
              "    </tr>\n",
              "    <tr>\n",
              "      <th>110</th>\n",
              "      <td>6.5</td>\n",
              "      <td>3.2</td>\n",
              "      <td>5.1</td>\n",
              "      <td>2.0</td>\n",
              "      <td>2</td>\n",
              "    </tr>\n",
              "  </tbody>\n",
              "</table>\n",
              "<p>150 rows × 5 columns</p>\n",
              "</div>\n",
              "      <button class=\"colab-df-convert\" onclick=\"convertToInteractive('df-9d021c59-7816-43ef-88f6-5ed1b9c475f7')\"\n",
              "              title=\"Convert this dataframe to an interactive table.\"\n",
              "              style=\"display:none;\">\n",
              "        \n",
              "  <svg xmlns=\"http://www.w3.org/2000/svg\" height=\"24px\"viewBox=\"0 0 24 24\"\n",
              "       width=\"24px\">\n",
              "    <path d=\"M0 0h24v24H0V0z\" fill=\"none\"/>\n",
              "    <path d=\"M18.56 5.44l.94 2.06.94-2.06 2.06-.94-2.06-.94-.94-2.06-.94 2.06-2.06.94zm-11 1L8.5 8.5l.94-2.06 2.06-.94-2.06-.94L8.5 2.5l-.94 2.06-2.06.94zm10 10l.94 2.06.94-2.06 2.06-.94-2.06-.94-.94-2.06-.94 2.06-2.06.94z\"/><path d=\"M17.41 7.96l-1.37-1.37c-.4-.4-.92-.59-1.43-.59-.52 0-1.04.2-1.43.59L10.3 9.45l-7.72 7.72c-.78.78-.78 2.05 0 2.83L4 21.41c.39.39.9.59 1.41.59.51 0 1.02-.2 1.41-.59l7.78-7.78 2.81-2.81c.8-.78.8-2.07 0-2.86zM5.41 20L4 18.59l7.72-7.72 1.47 1.35L5.41 20z\"/>\n",
              "  </svg>\n",
              "      </button>\n",
              "      \n",
              "  <style>\n",
              "    .colab-df-container {\n",
              "      display:flex;\n",
              "      flex-wrap:wrap;\n",
              "      gap: 12px;\n",
              "    }\n",
              "\n",
              "    .colab-df-convert {\n",
              "      background-color: #E8F0FE;\n",
              "      border: none;\n",
              "      border-radius: 50%;\n",
              "      cursor: pointer;\n",
              "      display: none;\n",
              "      fill: #1967D2;\n",
              "      height: 32px;\n",
              "      padding: 0 0 0 0;\n",
              "      width: 32px;\n",
              "    }\n",
              "\n",
              "    .colab-df-convert:hover {\n",
              "      background-color: #E2EBFA;\n",
              "      box-shadow: 0px 1px 2px rgba(60, 64, 67, 0.3), 0px 1px 3px 1px rgba(60, 64, 67, 0.15);\n",
              "      fill: #174EA6;\n",
              "    }\n",
              "\n",
              "    [theme=dark] .colab-df-convert {\n",
              "      background-color: #3B4455;\n",
              "      fill: #D2E3FC;\n",
              "    }\n",
              "\n",
              "    [theme=dark] .colab-df-convert:hover {\n",
              "      background-color: #434B5C;\n",
              "      box-shadow: 0px 1px 3px 1px rgba(0, 0, 0, 0.15);\n",
              "      filter: drop-shadow(0px 1px 2px rgba(0, 0, 0, 0.3));\n",
              "      fill: #FFFFFF;\n",
              "    }\n",
              "  </style>\n",
              "\n",
              "      <script>\n",
              "        const buttonEl =\n",
              "          document.querySelector('#df-9d021c59-7816-43ef-88f6-5ed1b9c475f7 button.colab-df-convert');\n",
              "        buttonEl.style.display =\n",
              "          google.colab.kernel.accessAllowed ? 'block' : 'none';\n",
              "\n",
              "        async function convertToInteractive(key) {\n",
              "          const element = document.querySelector('#df-9d021c59-7816-43ef-88f6-5ed1b9c475f7');\n",
              "          const dataTable =\n",
              "            await google.colab.kernel.invokeFunction('convertToInteractive',\n",
              "                                                     [key], {});\n",
              "          if (!dataTable) return;\n",
              "\n",
              "          const docLinkHtml = 'Like what you see? Visit the ' +\n",
              "            '<a target=\"_blank\" href=https://colab.research.google.com/notebooks/data_table.ipynb>data table notebook</a>'\n",
              "            + ' to learn more about interactive tables.';\n",
              "          element.innerHTML = '';\n",
              "          dataTable['output_type'] = 'display_data';\n",
              "          await google.colab.output.renderOutput(dataTable, element);\n",
              "          const docLink = document.createElement('div');\n",
              "          docLink.innerHTML = docLinkHtml;\n",
              "          element.appendChild(docLink);\n",
              "        }\n",
              "      </script>\n",
              "    </div>\n",
              "  </div>\n",
              "  "
            ]
          },
          "metadata": {},
          "execution_count": 11
        }
      ]
    },
    {
      "cell_type": "code",
      "source": [
        "#Y generamos nuestra tabla de datos estadísticos\n",
        "\n",
        "df_def2.describe()"
      ],
      "metadata": {
        "colab": {
          "base_uri": "https://localhost:8080/",
          "height": 300
        },
        "id": "EVpvsS5ctYRr",
        "outputId": "1469cb97-c646-42a3-ad15-496656822cbe"
      },
      "id": "EVpvsS5ctYRr",
      "execution_count": null,
      "outputs": [
        {
          "output_type": "execute_result",
          "data": {
            "text/plain": [
              "       sepal_length  sepal_width  petal_lenght  petal_width      target\n",
              "count    150.000000   150.000000    150.000000   150.000000  150.000000\n",
              "mean       5.843333     3.057333      3.758000     1.199333    1.000000\n",
              "std        0.828066     0.435866      1.765298     0.762238    0.819232\n",
              "min        4.300000     2.000000      1.000000     0.100000    0.000000\n",
              "25%        5.100000     2.800000      1.600000     0.300000    0.000000\n",
              "50%        5.800000     3.000000      4.350000     1.300000    1.000000\n",
              "75%        6.400000     3.300000      5.100000     1.800000    2.000000\n",
              "max        7.900000     4.400000      6.900000     2.500000    2.000000"
            ],
            "text/html": [
              "\n",
              "  <div id=\"df-111bf420-6e08-4a96-a44a-ce864aa76549\">\n",
              "    <div class=\"colab-df-container\">\n",
              "      <div>\n",
              "<style scoped>\n",
              "    .dataframe tbody tr th:only-of-type {\n",
              "        vertical-align: middle;\n",
              "    }\n",
              "\n",
              "    .dataframe tbody tr th {\n",
              "        vertical-align: top;\n",
              "    }\n",
              "\n",
              "    .dataframe thead th {\n",
              "        text-align: right;\n",
              "    }\n",
              "</style>\n",
              "<table border=\"1\" class=\"dataframe\">\n",
              "  <thead>\n",
              "    <tr style=\"text-align: right;\">\n",
              "      <th></th>\n",
              "      <th>sepal_length</th>\n",
              "      <th>sepal_width</th>\n",
              "      <th>petal_lenght</th>\n",
              "      <th>petal_width</th>\n",
              "      <th>target</th>\n",
              "    </tr>\n",
              "  </thead>\n",
              "  <tbody>\n",
              "    <tr>\n",
              "      <th>count</th>\n",
              "      <td>150.000000</td>\n",
              "      <td>150.000000</td>\n",
              "      <td>150.000000</td>\n",
              "      <td>150.000000</td>\n",
              "      <td>150.000000</td>\n",
              "    </tr>\n",
              "    <tr>\n",
              "      <th>mean</th>\n",
              "      <td>5.843333</td>\n",
              "      <td>3.057333</td>\n",
              "      <td>3.758000</td>\n",
              "      <td>1.199333</td>\n",
              "      <td>1.000000</td>\n",
              "    </tr>\n",
              "    <tr>\n",
              "      <th>std</th>\n",
              "      <td>0.828066</td>\n",
              "      <td>0.435866</td>\n",
              "      <td>1.765298</td>\n",
              "      <td>0.762238</td>\n",
              "      <td>0.819232</td>\n",
              "    </tr>\n",
              "    <tr>\n",
              "      <th>min</th>\n",
              "      <td>4.300000</td>\n",
              "      <td>2.000000</td>\n",
              "      <td>1.000000</td>\n",
              "      <td>0.100000</td>\n",
              "      <td>0.000000</td>\n",
              "    </tr>\n",
              "    <tr>\n",
              "      <th>25%</th>\n",
              "      <td>5.100000</td>\n",
              "      <td>2.800000</td>\n",
              "      <td>1.600000</td>\n",
              "      <td>0.300000</td>\n",
              "      <td>0.000000</td>\n",
              "    </tr>\n",
              "    <tr>\n",
              "      <th>50%</th>\n",
              "      <td>5.800000</td>\n",
              "      <td>3.000000</td>\n",
              "      <td>4.350000</td>\n",
              "      <td>1.300000</td>\n",
              "      <td>1.000000</td>\n",
              "    </tr>\n",
              "    <tr>\n",
              "      <th>75%</th>\n",
              "      <td>6.400000</td>\n",
              "      <td>3.300000</td>\n",
              "      <td>5.100000</td>\n",
              "      <td>1.800000</td>\n",
              "      <td>2.000000</td>\n",
              "    </tr>\n",
              "    <tr>\n",
              "      <th>max</th>\n",
              "      <td>7.900000</td>\n",
              "      <td>4.400000</td>\n",
              "      <td>6.900000</td>\n",
              "      <td>2.500000</td>\n",
              "      <td>2.000000</td>\n",
              "    </tr>\n",
              "  </tbody>\n",
              "</table>\n",
              "</div>\n",
              "      <button class=\"colab-df-convert\" onclick=\"convertToInteractive('df-111bf420-6e08-4a96-a44a-ce864aa76549')\"\n",
              "              title=\"Convert this dataframe to an interactive table.\"\n",
              "              style=\"display:none;\">\n",
              "        \n",
              "  <svg xmlns=\"http://www.w3.org/2000/svg\" height=\"24px\"viewBox=\"0 0 24 24\"\n",
              "       width=\"24px\">\n",
              "    <path d=\"M0 0h24v24H0V0z\" fill=\"none\"/>\n",
              "    <path d=\"M18.56 5.44l.94 2.06.94-2.06 2.06-.94-2.06-.94-.94-2.06-.94 2.06-2.06.94zm-11 1L8.5 8.5l.94-2.06 2.06-.94-2.06-.94L8.5 2.5l-.94 2.06-2.06.94zm10 10l.94 2.06.94-2.06 2.06-.94-2.06-.94-.94-2.06-.94 2.06-2.06.94z\"/><path d=\"M17.41 7.96l-1.37-1.37c-.4-.4-.92-.59-1.43-.59-.52 0-1.04.2-1.43.59L10.3 9.45l-7.72 7.72c-.78.78-.78 2.05 0 2.83L4 21.41c.39.39.9.59 1.41.59.51 0 1.02-.2 1.41-.59l7.78-7.78 2.81-2.81c.8-.78.8-2.07 0-2.86zM5.41 20L4 18.59l7.72-7.72 1.47 1.35L5.41 20z\"/>\n",
              "  </svg>\n",
              "      </button>\n",
              "      \n",
              "  <style>\n",
              "    .colab-df-container {\n",
              "      display:flex;\n",
              "      flex-wrap:wrap;\n",
              "      gap: 12px;\n",
              "    }\n",
              "\n",
              "    .colab-df-convert {\n",
              "      background-color: #E8F0FE;\n",
              "      border: none;\n",
              "      border-radius: 50%;\n",
              "      cursor: pointer;\n",
              "      display: none;\n",
              "      fill: #1967D2;\n",
              "      height: 32px;\n",
              "      padding: 0 0 0 0;\n",
              "      width: 32px;\n",
              "    }\n",
              "\n",
              "    .colab-df-convert:hover {\n",
              "      background-color: #E2EBFA;\n",
              "      box-shadow: 0px 1px 2px rgba(60, 64, 67, 0.3), 0px 1px 3px 1px rgba(60, 64, 67, 0.15);\n",
              "      fill: #174EA6;\n",
              "    }\n",
              "\n",
              "    [theme=dark] .colab-df-convert {\n",
              "      background-color: #3B4455;\n",
              "      fill: #D2E3FC;\n",
              "    }\n",
              "\n",
              "    [theme=dark] .colab-df-convert:hover {\n",
              "      background-color: #434B5C;\n",
              "      box-shadow: 0px 1px 3px 1px rgba(0, 0, 0, 0.15);\n",
              "      filter: drop-shadow(0px 1px 2px rgba(0, 0, 0, 0.3));\n",
              "      fill: #FFFFFF;\n",
              "    }\n",
              "  </style>\n",
              "\n",
              "      <script>\n",
              "        const buttonEl =\n",
              "          document.querySelector('#df-111bf420-6e08-4a96-a44a-ce864aa76549 button.colab-df-convert');\n",
              "        buttonEl.style.display =\n",
              "          google.colab.kernel.accessAllowed ? 'block' : 'none';\n",
              "\n",
              "        async function convertToInteractive(key) {\n",
              "          const element = document.querySelector('#df-111bf420-6e08-4a96-a44a-ce864aa76549');\n",
              "          const dataTable =\n",
              "            await google.colab.kernel.invokeFunction('convertToInteractive',\n",
              "                                                     [key], {});\n",
              "          if (!dataTable) return;\n",
              "\n",
              "          const docLinkHtml = 'Like what you see? Visit the ' +\n",
              "            '<a target=\"_blank\" href=https://colab.research.google.com/notebooks/data_table.ipynb>data table notebook</a>'\n",
              "            + ' to learn more about interactive tables.';\n",
              "          element.innerHTML = '';\n",
              "          dataTable['output_type'] = 'display_data';\n",
              "          await google.colab.output.renderOutput(dataTable, element);\n",
              "          const docLink = document.createElement('div');\n",
              "          docLink.innerHTML = docLinkHtml;\n",
              "          element.appendChild(docLink);\n",
              "        }\n",
              "      </script>\n",
              "    </div>\n",
              "  </div>\n",
              "  "
            ]
          },
          "metadata": {},
          "execution_count": 12
        }
      ]
    },
    {
      "cell_type": "markdown",
      "id": "cb43a09f",
      "metadata": {
        "id": "cb43a09f"
      },
      "source": [
        "### Ejercicio 4\n",
        "\n",
        "Realiza los histogramas de cada variable en el dataframe"
      ]
    },
    {
      "cell_type": "code",
      "execution_count": null,
      "id": "5bac2b8d",
      "metadata": {
        "id": "5bac2b8d",
        "colab": {
          "base_uri": "https://localhost:8080/",
          "height": 349
        },
        "outputId": "345a1fb0-c2a3-4f7a-e72c-bf2da4ce7ec9"
      },
      "outputs": [
        {
          "output_type": "display_data",
          "data": {
            "text/plain": [
              "<Figure size 2000x800 with 5 Axes>"
            ],
            "image/png": "[encoded data removed]"
          },
          "metadata": {}
        }
      ],
      "source": [
        "#Vamos a hacer los histogramas\n",
        "\n",
        "plt.figure(figsize=(20,8))\n",
        "\n",
        "ax1 = plt.subplot(2,4,1)\n",
        "ax2 = plt.subplot(2,4,2)\n",
        "ax3 = plt.subplot(2,4,3)\n",
        "ax4 = plt.subplot(2,4,4)\n",
        "ax5 = plt.subplot(2,4,5)\n",
        "\n",
        "ax1.hist(df_def2.sepal_length, bins=30, color='green',edgecolor='purple', alpha=0.5)\n",
        "ax1.set_xlabel('Largo del sépalo', size=15)\n",
        "ax1.set_ylabel('Frecuencia', size=15)\n",
        "\n",
        "ax2.hist(df_def2.sepal_width, bins=30, color='orange',edgecolor='purple', alpha=0.5)\n",
        "ax2.set_xlabel('Ancho del sépalo', size=15)\n",
        "\n",
        "ax3.hist(df_def2.petal_lenght, bins=30, color='red',edgecolor='purple', alpha=0.5)\n",
        "ax3.set_xlabel('Largo del pétalo', size=15)\n",
        "\n",
        "ax4.hist(df_def2.petal_width, bins=30, color='blue',edgecolor='purple', alpha=0.5)\n",
        "ax4.set_xlabel('Ancho del pétalo', size=15);\n",
        "\n",
        "ax5.hist(df_def2.target, bins=30, color='blue',edgecolor='purple', alpha=0.5)\n",
        "ax5.set_xlabel('Target', size=15)\n",
        "ax5.set_ylabel('Frecuencia', size=15);"
      ]
    },
    {
      "cell_type": "markdown",
      "id": "bb956594",
      "metadata": {
        "id": "bb956594"
      },
      "source": [
        "### Ejercicio 5\n",
        "\n",
        "5.1 Separa el conjunto de datos en los conjuntos de entrenamiento (90%) y de prueba (10%). Muestra cuántas muestras tiene cada conjunto\n",
        "\n",
        "5.2 Separa las variables independientes de las variables dependientes para el conjunto de prueba y el conjunto de entrenamiento. Revisa las dimensiones de cada conjunto\n",
        "\n",
        "5.3 Normaliza los datos de entrenamiento y prueba (solo normaliza a las variables independientes)\n"
      ]
    },
    {
      "cell_type": "code",
      "execution_count": null,
      "id": "92d1b227",
      "metadata": {
        "id": "92d1b227"
      },
      "outputs": [],
      "source": [
        "#Para separar el conjunto, se debe definir un ratio, en este caso será del 0.1 que simboliza el 10%\n",
        "\n",
        "test_ratio = 0.1\n",
        "\n",
        "tr = int((1.0-test_ratio)*len(df_def2.values[:,:]))\n",
        "\n",
        "df_tr = df_def2.iloc[0:tr,:]\n",
        "df_tst  = df_def2.iloc[tr:,:]\n",
        "\n",
        "#Justo lo que definimos en tr, es que nos dijera hasta qué muestra se hace el 90%, en esencia\n",
        "#se multiplica 0.9*(el numero de filas), obteniendo así la división deseada"
      ]
    },
    {
      "cell_type": "code",
      "source": [
        "#Para verlo mejor, me sirvió ver esto\n",
        "\n",
        "len(df_def2.values[:,:])"
      ],
      "metadata": {
        "colab": {
          "base_uri": "https://localhost:8080/"
        },
        "id": "bXF5NHql4bwA",
        "outputId": "d0f3555d-5686-42b1-9ece-d38c5eed59df"
      },
      "id": "bXF5NHql4bwA",
      "execution_count": null,
      "outputs": [
        {
          "output_type": "execute_result",
          "data": {
            "text/plain": [
              "150"
            ]
          },
          "metadata": {},
          "execution_count": 15
        }
      ]
    },
    {
      "cell_type": "code",
      "source": [
        "#Veamos si se cumplió con éxito\n",
        "\n",
        "print(df_tr.shape)\n",
        "print(df_tst.shape)"
      ],
      "metadata": {
        "colab": {
          "base_uri": "https://localhost:8080/"
        },
        "id": "l3GaZ3GW375_",
        "outputId": "19d13561-3729-4d84-91de-a1dff34836c8"
      },
      "id": "l3GaZ3GW375_",
      "execution_count": null,
      "outputs": [
        {
          "output_type": "stream",
          "name": "stdout",
          "text": [
            "(135, 5)\n",
            "(15, 5)\n"
          ]
        }
      ]
    },
    {
      "cell_type": "code",
      "source": [
        "#Ahora, vamos a dividir las variables\n",
        "\n",
        "tr_x = df_tr.values[:,:-1]\n",
        "tr_y = df_tr.values[:,-1:]\n",
        "\n",
        "print(tr_x.shape)\n",
        "print(tr_y.shape)"
      ],
      "metadata": {
        "colab": {
          "base_uri": "https://localhost:8080/"
        },
        "id": "8NAZGpgE6AfI",
        "outputId": "aa0b9fe1-0afb-42b1-89a4-3e6029763333"
      },
      "id": "8NAZGpgE6AfI",
      "execution_count": null,
      "outputs": [
        {
          "output_type": "stream",
          "name": "stdout",
          "text": [
            "(135, 4)\n",
            "(135, 1)\n"
          ]
        }
      ]
    },
    {
      "cell_type": "code",
      "source": [
        "tst_x = df_tst.values[:,:-1]\n",
        "tst_y = df_tst.values[:,-1:]\n",
        "\n",
        "print(tst_x.shape)\n",
        "print(tst_y.shape)"
      ],
      "metadata": {
        "colab": {
          "base_uri": "https://localhost:8080/"
        },
        "id": "TH4hTBtt7VFZ",
        "outputId": "d7ebc58a-824c-43fe-cdc4-5c9af31262fe"
      },
      "id": "TH4hTBtt7VFZ",
      "execution_count": null,
      "outputs": [
        {
          "output_type": "stream",
          "name": "stdout",
          "text": [
            "(15, 4)\n",
            "(15, 1)\n"
          ]
        }
      ]
    },
    {
      "cell_type": "code",
      "source": [
        "#Finalmente, los normalizamos\n",
        "\n",
        "mntr = tr_x.mean()\n",
        "stdtr = tr_x.std()\n",
        "\n",
        "tr_x_norm = (tr_x - mntr)/stdtr\n",
        "tr_x_norm"
      ],
      "metadata": {
        "colab": {
          "base_uri": "https://localhost:8080/"
        },
        "id": "kOUbmIls685x",
        "outputId": "4faaef96-f045-4892-83d6-cbae2a70daf2"
      },
      "id": "kOUbmIls685x",
      "execution_count": null,
      "outputs": [
        {
          "output_type": "execute_result",
          "data": {
            "text/plain": [
              "array([[ 1.597799  , -0.28085833,  0.58230855, -1.09325069],\n",
              "       [ 1.85167162, -0.23008381,  1.24237735, -0.68705451],\n",
              "       [ 1.44547544, -0.33163285,  0.83618117, -0.99170165],\n",
              "       [ 0.48075951, -0.28085833, -1.04247617, -1.65177044],\n",
              "       [ 0.48075951, -0.23008381, -1.09325069, -1.65177044],\n",
              "       [ 0.83618117,  0.17611237, -0.78860356, -1.5502214 ],\n",
              "       [ 1.34392639, -0.28085833,  0.63308307, -1.04247617],\n",
              "       [ 1.49624996, -0.12853476,  0.53153403, -0.99170165],\n",
              "       [ 1.24237735, -0.12853476,  0.6838576 , -0.83937808],\n",
              "       [ 1.19160282, -0.4331819 ,  0.27766142, -1.14402521],\n",
              "       [ 0.78540664, -0.02698572, -0.99170165, -1.65177044],\n",
              "       [ 0.98850473,  0.12533785, -0.99170165, -1.65177044],\n",
              "       [ 1.39470091, -0.33163285,  0.6838576 , -0.83937808],\n",
              "       [ 1.09005378, -0.23008381,  0.53153403, -0.99170165],\n",
              "       [ 1.75012257, -0.17930929,  0.73463212, -0.99170165],\n",
              "       [ 1.24237735, -0.23008381,  0.37921046, -0.99170165],\n",
              "       [ 0.63308307, -0.12853476, -0.94092712, -1.65177044],\n",
              "       [ 1.19160282, -0.38240738,  0.32843594, -1.24557426],\n",
              "       [ 2.00399518, -0.33163285,  1.34392639, -0.78860356],\n",
              "       [ 1.1408283 , -0.23008381,  0.37921046, -1.14402521],\n",
              "       [ 0.53153403, -0.58550547, -1.09325069, -1.60099592],\n",
              "       [ 0.78540664,  0.0237888 , -0.94092712, -1.44867235],\n",
              "       [ 0.6838576 , -0.23008381, -1.04247617, -1.60099592],\n",
              "       [ 1.39470091, -0.28085833,  0.42998498, -1.09325069],\n",
              "       [ 1.90244614,  0.07456333,  1.34392639, -0.48395642],\n",
              "       [ 1.69934805, -0.33163285,  0.6838576 , -1.04247617],\n",
              "       [ 1.19160282, -0.38240738,  0.83618117, -0.78860356],\n",
              "       [ 2.10554423, -0.23008381,  1.597799  , -0.68705451],\n",
              "       [ 0.88695569,  0.0237888 , -0.99170165, -1.65177044],\n",
              "       [ 1.44547544, -0.38240738,  0.73463212, -0.83937808],\n",
              "       [ 1.75012257, -0.12853476,  1.1408283 , -0.58550547],\n",
              "       [ 0.73463212,  0.07456333, -1.04247617, -1.70254496],\n",
              "       [ 1.54702448, -0.23008381,  0.88695569, -0.73782903],\n",
              "       [ 0.6838576 , -0.17930929, -0.94092712, -1.65177044],\n",
              "       [ 1.29315187, -0.23008381,  0.6838576 , -0.83937808],\n",
              "       [ 0.58230855, -0.12853476, -1.04247617, -1.65177044],\n",
              "       [ 1.64857353, -0.48395642,  1.19160282, -0.83937808],\n",
              "       [ 1.44547544, -0.48395642,  0.78540664, -0.78860356],\n",
              "       [ 0.98850473, -0.02698572, -0.8901526 , -1.65177044],\n",
              "       [ 1.1408283 , -0.33163285,  0.32843594, -1.09325069],\n",
              "       [ 0.88695569, -0.38240738,  0.22688689, -1.04247617],\n",
              "       [ 1.49624996, -0.38240738,  0.93773021, -0.78860356],\n",
              "       [ 1.09005378, -0.33163285,  0.73463212, -0.73782903],\n",
              "       [ 0.73463212, -0.17930929, -0.99170165, -1.70254496],\n",
              "       [ 1.03927926, -0.53473094,  0.17611237, -1.19479974],\n",
              "       [ 1.1408283 , -0.4331819 ,  0.0237888 , -1.24557426],\n",
              "       [ 1.19160282,  0.27766142, -1.14402521, -1.65177044],\n",
              "       [ 0.6838576 , -0.02698572, -0.94092712, -1.65177044],\n",
              "       [ 1.1408283 ,  0.48075951, -0.99170165, -1.5502214 ],\n",
              "       [ 2.15631875, -0.33163285,  1.64857353, -0.73782903],\n",
              "       [ 1.1408283 , -0.28085833,  0.37921046, -1.09325069],\n",
              "       [ 0.98850473, -0.02698572, -0.99170165, -1.5502214 ],\n",
              "       [ 0.42998498, -0.23008381, -1.19479974, -1.70254496],\n",
              "       [ 1.1408283 ,  0.17611237, -0.8901526 , -1.60099592],\n",
              "       [ 1.29315187, -0.28085833,  0.53153403, -0.99170165],\n",
              "       [ 1.03927926,  0.37921046, -1.04247617, -1.65177044],\n",
              "       [ 1.03927926,  0.0237888 , -1.09325069, -1.65177044],\n",
              "       [ 0.6838576 , -0.02698572, -0.78860356, -1.65177044],\n",
              "       [ 0.73463212, -0.48395642,  0.53153403, -0.8901526 ],\n",
              "       [ 1.44547544, -0.02698572,  1.09005378, -0.53473094],\n",
              "       [ 0.83618117, -0.48395642, -0.23008381, -1.19479974],\n",
              "       [ 0.83618117, -0.02698572, -0.99170165, -1.65177044],\n",
              "       [ 0.83618117,  0.17611237, -0.99170165, -1.60099592],\n",
              "       [ 2.2578678 ,  0.17611237,  1.49624996, -0.73782903],\n",
              "       [ 1.34392639, -0.33163285,  0.63308307, -1.14402521],\n",
              "       [ 1.29315187, -0.02698572,  0.53153403, -0.94092712],\n",
              "       [ 1.34392639, -0.33163285,  0.27766142, -1.09325069],\n",
              "       [ 0.83618117,  0.17611237, -0.94092712, -1.65177044],\n",
              "       [ 0.78540664, -0.73782903,  0.0237888 , -1.24557426],\n",
              "       [ 0.73463212, -0.53473094, -0.07776024, -1.24557426],\n",
              "       [ 1.64857353, -0.07776024,  1.1408283 , -0.48395642],\n",
              "       [ 1.69934805, -0.23008381,  1.03927926, -0.68705451],\n",
              "       [ 1.54702448, -0.23008381,  1.19160282, -0.63627999],\n",
              "       [ 1.03927926, -0.58550547,  0.27766142, -1.09325069],\n",
              "       [ 0.48075951, -0.12853476, -1.09325069, -1.65177044],\n",
              "       [ 1.90244614, -0.12853476,  1.29315187, -0.83937808],\n",
              "       [ 0.58230855, -0.17930929, -0.99170165, -1.65177044],\n",
              "       [ 1.09005378, -0.38240738,  0.37921046, -1.09325069],\n",
              "       [ 1.03927926, -0.4331819 ,  0.48075951, -1.14402521],\n",
              "       [ 0.78540664, -0.58550547, -0.07776024, -1.24557426],\n",
              "       [ 1.69934805, -0.12853476,  1.24237735, -0.58550547],\n",
              "       [ 1.03927926, -0.48395642,  0.27766142, -1.09325069],\n",
              "       [ 0.88695569, -0.02698572, -1.04247617, -1.65177044],\n",
              "       [ 1.09005378, -0.48395642,  0.22688689, -1.19479974],\n",
              "       [ 0.63308307, -0.12853476, -1.09325069, -1.65177044],\n",
              "       [ 1.54702448, -0.23008381,  1.03927926, -0.83937808],\n",
              "       [ 0.78540664, -0.02698572, -0.94092712, -1.5502214 ],\n",
              "       [ 1.29315187, -0.38240738,  0.83618117, -0.94092712],\n",
              "       [ 0.98850473,  0.22688689, -1.09325069, -1.5502214 ],\n",
              "       [ 2.15631875, -0.4331819 ,  1.75012257, -0.58550547],\n",
              "       [ 1.64857353, -0.17930929,  0.48075951, -1.04247617],\n",
              "       [ 0.98850473,  0.22688689, -0.8901526 , -1.5502214 ],\n",
              "       [ 0.83618117,  0.12533785, -0.99170165, -1.5502214 ],\n",
              "       [ 1.39470091, -0.63627999,  0.53153403, -0.99170165],\n",
              "       [ 1.34392639, -0.4331819 ,  1.09005378, -1.04247617],\n",
              "       [ 1.75012257, -0.17930929,  0.83618117, -0.58550547],\n",
              "       [ 1.597799  , -0.23008381,  0.48075951, -1.04247617],\n",
              "       [ 1.1408283 , -0.48395642,  0.78540664, -0.73782903],\n",
              "       [ 0.73463212, -0.17930929, -0.99170165, -1.65177044],\n",
              "       [ 1.44547544, -0.07776024,  0.63308307, -0.94092712],\n",
              "       [ 1.44547544, -0.07776024,  1.29315187, -0.48395642],\n",
              "       [ 0.88695569,  0.32843594, -0.99170165, -1.70254496],\n",
              "       [ 0.83618117, -0.07776024, -0.8901526 , -1.49944687],\n",
              "       [ 1.64857353, -0.17930929,  1.09005378, -0.53473094],\n",
              "       [ 0.58230855, -0.02698572, -1.04247617, -1.60099592],\n",
              "       [ 1.64857353, -0.23008381,  0.88695569, -0.58550547],\n",
              "       [ 0.98850473, -0.23008381,  0.53153403, -0.99170165],\n",
              "       [ 1.19160282, -0.38240738,  0.22688689, -1.14402521],\n",
              "       [ 1.49624996, -0.17930929,  1.03927926, -0.83937808],\n",
              "       [ 1.19160282, -0.33163285,  0.83618117, -0.53473094],\n",
              "       [ 0.73463212, -0.23008381, -1.04247617, -1.65177044],\n",
              "       [ 1.29315187, -0.63627999,  0.78540664, -0.99170165],\n",
              "       [ 1.95322066, -0.28085833,  1.44547544, -0.83937808],\n",
              "       [ 1.64857353, -0.07776024,  1.1408283 , -0.68705451],\n",
              "       [ 0.93773021,  0.12533785, -0.99170165, -1.65177044],\n",
              "       [ 1.75012257, -0.17930929,  0.98850473, -0.68705451],\n",
              "       [ 1.49624996, -0.33163285,  1.09005378, -0.63627999],\n",
              "       [ 1.80089709, -0.12853476,  0.63308307, -1.04247617],\n",
              "       [ 0.6838576 , -0.23008381, -1.04247617, -1.70254496],\n",
              "       [ 1.09005378, -0.28085833,  0.07456333, -1.09325069],\n",
              "       [ 2.15631875, -0.23008381,  1.34392639, -0.58550547],\n",
              "       [ 0.78540664,  0.0237888 , -1.09325069, -1.60099592],\n",
              "       [ 1.90244614, -0.23008381,  1.19160282, -0.94092712],\n",
              "       [ 0.78540664, -0.23008381, -0.94092712, -1.65177044],\n",
              "       [ 1.09005378, -0.23008381,  0.32843594, -1.09325069],\n",
              "       [ 1.44547544, -0.48395642,  0.73463212, -0.99170165],\n",
              "       [ 0.78540664, -0.12853476, -1.14402521, -1.65177044],\n",
              "       [ 1.19160282, -0.38240738,  0.83618117, -0.78860356],\n",
              "       [ 1.49624996, -0.33163285,  1.09005378, -0.68705451],\n",
              "       [ 1.49624996, -0.28085833,  0.42998498, -1.09325069],\n",
              "       [ 1.03927926, -0.53473094,  0.12533785, -1.24557426],\n",
              "       [ 1.29315187, -0.63627999,  0.27766142, -1.24557426],\n",
              "       [ 1.44547544, -0.58550547,  0.48075951, -1.09325069],\n",
              "       [ 1.34392639, -0.23008381,  0.73463212, -0.83937808],\n",
              "       [ 1.39470091, -0.02698572,  0.98850473, -0.58550547]])"
            ]
          },
          "metadata": {},
          "execution_count": 19
        }
      ]
    },
    {
      "cell_type": "code",
      "source": [
        "mntst = tst_x.mean()\n",
        "stdtst = tst_x.std()\n",
        "\n",
        "tst_x_norm = (tst_x - mntst)/stdtst\n",
        "tst_x_norm"
      ],
      "metadata": {
        "colab": {
          "base_uri": "https://localhost:8080/"
        },
        "id": "er-RrMwuBWZ7",
        "outputId": "6125e4e0-b8cb-499b-a2bb-dad02ad554d9"
      },
      "id": "er-RrMwuBWZ7",
      "execution_count": null,
      "outputs": [
        {
          "output_type": "execute_result",
          "data": {
            "text/plain": [
              "array([[ 0.71320807,  0.01658623, -1.07810522, -1.67520965],\n",
              "       [ 1.55910601, -0.28196598,  0.71320807, -0.92882911],\n",
              "       [ 1.55910601, -0.23220728,  0.56393196, -1.02834652],\n",
              "       [ 2.05669304,  0.11610364,  1.55910601, -0.6800356 ],\n",
              "       [ 0.76296677, -0.03317247, -1.07810522, -1.62545095],\n",
              "       [ 1.4098299 , -0.18244858,  0.86248418, -0.6302769 ],\n",
              "       [ 0.76296677, -0.03317247, -1.07810522, -1.67520965],\n",
              "       [ 1.06151899, -0.38148339,  0.46441456, -1.12786392],\n",
              "       [ 1.3600712 , -0.33172468,  1.01176028, -0.87907041],\n",
              "       [ 1.16103639, -0.28196598,  0.76296677, -0.87907041],\n",
              "       [ 1.45958861, -0.38148339,  0.51417326, -1.02834652],\n",
              "       [ 0.71320807, -0.13268987, -1.07810522, -1.67520965],\n",
              "       [ 0.51417326,  0.01658623, -1.27714003, -1.67520965],\n",
              "       [ 1.2605538 , -0.28196598,  0.51417326, -1.07810522],\n",
              "       [ 1.45958861, -0.18244858,  0.76296677, -0.77955301]])"
            ]
          },
          "metadata": {},
          "execution_count": 20
        }
      ]
    },
    {
      "cell_type": "markdown",
      "id": "858d98e2",
      "metadata": {
        "id": "858d98e2"
      },
      "source": [
        "## II. Implementación de la red neuronal"
      ]
    },
    {
      "cell_type": "code",
      "execution_count": null,
      "id": "041fc816",
      "metadata": {
        "id": "041fc816"
      },
      "outputs": [],
      "source": [
        "from tensorflow import keras\n",
        "from tensorflow.keras.models import Sequential\n",
        "from tensorflow.keras.layers import Input, Dense, Flatten\n",
        "from tensorflow.keras.layers import Activation\n",
        "from tensorflow.keras.optimizers import SGD, Adam\n",
        "from tensorflow.keras.models import Model\n",
        "from tensorflow.keras.utils import plot_model\n",
        "from tensorflow.keras import initializers\n",
        "np.random.seed(1)"
      ]
    },
    {
      "cell_type": "markdown",
      "id": "7f379145",
      "metadata": {
        "id": "7f379145"
      },
      "source": [
        "### Ejercicio 7\n",
        "\n",
        "Implementa una red neuronal con dos capas ocultas. Completa la función **architecture** que define la arquitectura.\n",
        "\n",
        "Cúantos nodos debe tener la capa de entrada?\n",
        "\n",
        "Cuántos valores posibles puede tomar la variable **target**? Esto define el número de clases que tienes, y por lo tanto, el número de nodos en la capa de salida\n",
        "\n",
        "En este caso vamos a realizar una clasificación (veremos a detalle esto en las siguientes clases) porque tenemos un target categorico, por lo que la última capa debe tener tantos nodos como salidas o clases.\n",
        "\n",
        "Nota: si crees que el modelo funciona mejor con más o menos capas, modifica la función para agregar las capas que desees."
      ]
    },
    {
      "cell_type": "code",
      "execution_count": null,
      "id": "9813782b",
      "metadata": {
        "id": "9813782b"
      },
      "outputs": [],
      "source": [
        "def architecture(n_hidden1, n_hidden2, initializer, activation, input_shape, classes):\n",
        "\n",
        "    model = Sequential()\n",
        "\n",
        "    model.add(Dense(units=n_hidden1,                 #units da el número de nodos\n",
        "                    kernel_initializer=initializer, # Initiallizacion de los pesos W\n",
        "                    bias_initializer='zeros',       # Inicialización del bias\n",
        "                    activation=activation,          # Función de activación\n",
        "                    input_shape=input_shape,))       # Da el numero de nodos de la capa de entrada.\n",
        "                                                    # Este número corresponde al número de rasgos X que definen\n",
        "                                                    # al sistema de estudio\n",
        "\n",
        "    model.add(Dense(units=n_hidden2,\n",
        "                    kernel_initializer=initializer,\n",
        "                    bias_initializer='zeros',\n",
        "                    activation=activation,))\n",
        "\n",
        "    model.add(Dense(units=classes,\n",
        "                    kernel_initializer=initializer,\n",
        "                    bias_initializer='zeros',\n",
        "                    activation = 'softmax'))\n",
        "\n",
        "    return model\n",
        "\n",
        "capa1 = 10\n",
        "capa2 = 5\n",
        "init = 'uniform'\n",
        "act = 'tanh'\n",
        "input = (4,)\n",
        "clas = 3"
      ]
    },
    {
      "cell_type": "markdown",
      "id": "5b9b51e7",
      "metadata": {
        "id": "5b9b51e7"
      },
      "source": [
        "### Ejercicio 8\n",
        "\n",
        "8.1 Llama a la función architecture para definir el modelo que vas a entrenar\n",
        "\n",
        "8.2 Utiliza el metodo plot_model para visualizar un diagrama del modelo que definiste\n",
        "\n",
        "8.3 Cuántos parametros (w y b) tiene el modelo que definiste (puedes calcularlo a mano o utilizar el método summary)"
      ]
    },
    {
      "cell_type": "code",
      "execution_count": null,
      "id": "296e7295",
      "metadata": {
        "id": "296e7295"
      },
      "outputs": [],
      "source": [
        "#Llamamos a la funcion para crear nuestro modelo\n",
        "\n",
        "iris_model = architecture(capa1, capa2, init, act, input, clas)"
      ]
    },
    {
      "cell_type": "code",
      "source": [
        "#Llamamos plot_model para ver el modelo\n",
        "\n",
        "plot_model(iris_model, to_file='iris_model.png', show_shapes=True, show_layer_names=True)"
      ],
      "metadata": {
        "colab": {
          "base_uri": "https://localhost:8080/",
          "height": 422
        },
        "id": "yeFlOh4HMaFP",
        "outputId": "77a6ea91-cded-4acb-b46e-6c7ec1b2fde7"
      },
      "id": "yeFlOh4HMaFP",
      "execution_count": null,
      "outputs": [
        {
          "output_type": "execute_result",
          "data": {
            "image/png": "[encoded data removed]",
            "text/plain": [
              "<IPython.core.display.Image object>"
            ]
          },
          "metadata": {},
          "execution_count": 24
        }
      ]
    },
    {
      "cell_type": "markdown",
      "id": "f8be3c9f",
      "metadata": {
        "id": "f8be3c9f"
      },
      "source": [
        "### Ejercicio 9\n",
        "\n",
        "9.1 Compila el modelo que definiste utilizando la función de costo y [métrica](https://keras.io/api/metrics/probabilistic_metrics/) [SparseCategoricalCrossentropy](https://keras.io/api/losses/probabilistic_losses/)\n",
        "\n",
        "Para el optimizador puedes probar algunos de los que se indican [aquí](https://keras.io/api/optimizers/), quedate con el que te dé mejor resultados."
      ]
    },
    {
      "cell_type": "code",
      "execution_count": null,
      "id": "7eee5419",
      "metadata": {
        "id": "7eee5419"
      },
      "outputs": [],
      "source": [
        "optimizer = keras.optimizers.Adam(learning_rate=0.0001)\n",
        "loss = 'sparse_categorical_crossentropy'\n",
        "acc = 'accuracy'"
      ]
    },
    {
      "cell_type": "code",
      "source": [
        "#Y no olvidemos de compilar el modelo\n",
        "\n",
        "iris_model.compile(optimizer = optimizer, loss = loss, metrics = acc)"
      ],
      "metadata": {
        "id": "qmhxG3faOEg4"
      },
      "id": "qmhxG3faOEg4",
      "execution_count": null,
      "outputs": []
    },
    {
      "cell_type": "markdown",
      "id": "e05b393e",
      "metadata": {
        "id": "e05b393e"
      },
      "source": [
        "### Ejercicio 10\n",
        "\n",
        "9.1 Entrena el modelo utilizando el método fit()\n",
        "\n",
        "9.2 Grafica el costo de entrenamiento y de validación con respecto a la época.\n",
        "\n",
        "9.2 Grafica el accuracy de entrenamiento y de validación con respecto a la época.\n",
        "\n",
        "Hint: revisa la salida del entrenamiento *history_model.history*"
      ]
    },
    {
      "cell_type": "code",
      "execution_count": null,
      "id": "d2e2439f",
      "metadata": {
        "id": "d2e2439f",
        "colab": {
          "base_uri": "https://localhost:8080/"
        },
        "outputId": "473f1ee2-0223-430e-95ff-43d60db03fa4"
      },
      "outputs": [
        {
          "output_type": "stream",
          "name": "stdout",
          "text": [
            "Epoch 1/100\n",
            "5/5 - 2s - loss: 1.0986 - accuracy: 0.3333 - val_loss: 1.0986 - val_accuracy: 0.3333 - 2s/epoch - 330ms/step\n",
            "Epoch 2/100\n",
            "5/5 - 0s - loss: 1.0985 - accuracy: 0.3333 - val_loss: 1.0985 - val_accuracy: 0.3333 - 72ms/epoch - 14ms/step\n",
            "Epoch 3/100\n",
            "5/5 - 0s - loss: 1.0985 - accuracy: 0.3778 - val_loss: 1.0985 - val_accuracy: 0.3333 - 63ms/epoch - 13ms/step\n",
            "Epoch 4/100\n",
            "5/5 - 0s - loss: 1.0985 - accuracy: 0.3259 - val_loss: 1.0985 - val_accuracy: 0.3333 - 46ms/epoch - 9ms/step\n",
            "Epoch 5/100\n",
            "5/5 - 0s - loss: 1.0985 - accuracy: 0.3333 - val_loss: 1.0985 - val_accuracy: 0.3333 - 59ms/epoch - 12ms/step\n",
            "Epoch 6/100\n",
            "5/5 - 0s - loss: 1.0985 - accuracy: 0.3333 - val_loss: 1.0985 - val_accuracy: 0.3333 - 88ms/epoch - 18ms/step\n",
            "Epoch 7/100\n",
            "5/5 - 0s - loss: 1.0984 - accuracy: 0.3333 - val_loss: 1.0985 - val_accuracy: 0.3333 - 52ms/epoch - 10ms/step\n",
            "Epoch 8/100\n",
            "5/5 - 0s - loss: 1.0984 - accuracy: 0.3333 - val_loss: 1.0984 - val_accuracy: 0.3333 - 44ms/epoch - 9ms/step\n",
            "Epoch 9/100\n",
            "5/5 - 0s - loss: 1.0984 - accuracy: 0.3333 - val_loss: 1.0984 - val_accuracy: 0.3333 - 34ms/epoch - 7ms/step\n",
            "Epoch 10/100\n",
            "5/5 - 0s - loss: 1.0984 - accuracy: 0.3333 - val_loss: 1.0984 - val_accuracy: 0.3333 - 48ms/epoch - 10ms/step\n",
            "Epoch 11/100\n",
            "5/5 - 0s - loss: 1.0984 - accuracy: 0.3333 - val_loss: 1.0984 - val_accuracy: 0.3333 - 70ms/epoch - 14ms/step\n",
            "Epoch 12/100\n",
            "5/5 - 0s - loss: 1.0983 - accuracy: 0.3333 - val_loss: 1.0983 - val_accuracy: 0.3333 - 45ms/epoch - 9ms/step\n",
            "Epoch 13/100\n",
            "5/5 - 0s - loss: 1.0983 - accuracy: 0.3333 - val_loss: 1.0983 - val_accuracy: 0.3333 - 40ms/epoch - 8ms/step\n",
            "Epoch 14/100\n",
            "5/5 - 0s - loss: 1.0983 - accuracy: 0.3407 - val_loss: 1.0983 - val_accuracy: 0.3333 - 56ms/epoch - 11ms/step\n",
            "Epoch 15/100\n",
            "5/5 - 0s - loss: 1.0983 - accuracy: 0.3407 - val_loss: 1.0983 - val_accuracy: 0.3333 - 40ms/epoch - 8ms/step\n",
            "Epoch 16/100\n",
            "5/5 - 0s - loss: 1.0982 - accuracy: 0.3407 - val_loss: 1.0982 - val_accuracy: 0.3333 - 40ms/epoch - 8ms/step\n",
            "Epoch 17/100\n",
            "5/5 - 0s - loss: 1.0982 - accuracy: 0.3556 - val_loss: 1.0982 - val_accuracy: 0.3333 - 54ms/epoch - 11ms/step\n",
            "Epoch 18/100\n",
            "5/5 - 0s - loss: 1.0982 - accuracy: 0.3556 - val_loss: 1.0982 - val_accuracy: 0.4000 - 58ms/epoch - 12ms/step\n",
            "Epoch 19/100\n",
            "5/5 - 0s - loss: 1.0981 - accuracy: 0.3630 - val_loss: 1.0981 - val_accuracy: 0.4000 - 52ms/epoch - 10ms/step\n",
            "Epoch 20/100\n",
            "5/5 - 0s - loss: 1.0981 - accuracy: 0.4000 - val_loss: 1.0981 - val_accuracy: 0.4000 - 55ms/epoch - 11ms/step\n",
            "Epoch 21/100\n",
            "5/5 - 0s - loss: 1.0981 - accuracy: 0.4148 - val_loss: 1.0981 - val_accuracy: 0.4000 - 49ms/epoch - 10ms/step\n",
            "Epoch 22/100\n",
            "5/5 - 0s - loss: 1.0980 - accuracy: 0.4593 - val_loss: 1.0980 - val_accuracy: 0.4000 - 51ms/epoch - 10ms/step\n",
            "Epoch 23/100\n",
            "5/5 - 0s - loss: 1.0980 - accuracy: 0.4815 - val_loss: 1.0980 - val_accuracy: 0.4000 - 39ms/epoch - 8ms/step\n",
            "Epoch 24/100\n",
            "5/5 - 0s - loss: 1.0979 - accuracy: 0.5037 - val_loss: 1.0979 - val_accuracy: 0.4000 - 61ms/epoch - 12ms/step\n",
            "Epoch 25/100\n",
            "5/5 - 0s - loss: 1.0979 - accuracy: 0.5259 - val_loss: 1.0979 - val_accuracy: 0.4000 - 48ms/epoch - 10ms/step\n",
            "Epoch 26/100\n",
            "5/5 - 0s - loss: 1.0978 - accuracy: 0.5704 - val_loss: 1.0978 - val_accuracy: 0.5333 - 62ms/epoch - 12ms/step\n",
            "Epoch 27/100\n",
            "5/5 - 0s - loss: 1.0977 - accuracy: 0.5778 - val_loss: 1.0977 - val_accuracy: 0.5333 - 45ms/epoch - 9ms/step\n",
            "Epoch 28/100\n",
            "5/5 - 0s - loss: 1.0977 - accuracy: 0.6000 - val_loss: 1.0977 - val_accuracy: 0.5333 - 49ms/epoch - 10ms/step\n",
            "Epoch 29/100\n",
            "5/5 - 0s - loss: 1.0976 - accuracy: 0.6148 - val_loss: 1.0976 - val_accuracy: 0.6000 - 44ms/epoch - 9ms/step\n",
            "Epoch 30/100\n",
            "5/5 - 0s - loss: 1.0975 - accuracy: 0.6148 - val_loss: 1.0975 - val_accuracy: 0.5333 - 42ms/epoch - 8ms/step\n",
            "Epoch 31/100\n",
            "5/5 - 0s - loss: 1.0974 - accuracy: 0.6296 - val_loss: 1.0974 - val_accuracy: 0.6000 - 39ms/epoch - 8ms/step\n",
            "Epoch 32/100\n",
            "5/5 - 0s - loss: 1.0973 - accuracy: 0.6296 - val_loss: 1.0973 - val_accuracy: 0.6000 - 44ms/epoch - 9ms/step\n",
            "Epoch 33/100\n",
            "5/5 - 0s - loss: 1.0972 - accuracy: 0.6074 - val_loss: 1.0972 - val_accuracy: 0.6000 - 47ms/epoch - 9ms/step\n",
            "Epoch 34/100\n",
            "5/5 - 0s - loss: 1.0971 - accuracy: 0.6000 - val_loss: 1.0971 - val_accuracy: 0.4667 - 40ms/epoch - 8ms/step\n",
            "Epoch 35/100\n",
            "5/5 - 0s - loss: 1.0970 - accuracy: 0.5704 - val_loss: 1.0970 - val_accuracy: 0.4667 - 49ms/epoch - 10ms/step\n",
            "Epoch 36/100\n",
            "5/5 - 0s - loss: 1.0969 - accuracy: 0.5407 - val_loss: 1.0969 - val_accuracy: 0.4667 - 53ms/epoch - 11ms/step\n",
            "Epoch 37/100\n",
            "5/5 - 0s - loss: 1.0968 - accuracy: 0.5407 - val_loss: 1.0967 - val_accuracy: 0.4000 - 51ms/epoch - 10ms/step\n",
            "Epoch 38/100\n",
            "5/5 - 0s - loss: 1.0966 - accuracy: 0.5333 - val_loss: 1.0966 - val_accuracy: 0.4000 - 54ms/epoch - 11ms/step\n",
            "Epoch 39/100\n",
            "5/5 - 0s - loss: 1.0965 - accuracy: 0.5111 - val_loss: 1.0964 - val_accuracy: 0.4000 - 47ms/epoch - 9ms/step\n",
            "Epoch 40/100\n",
            "5/5 - 0s - loss: 1.0963 - accuracy: 0.5037 - val_loss: 1.0963 - val_accuracy: 0.3333 - 75ms/epoch - 15ms/step\n",
            "Epoch 41/100\n",
            "5/5 - 0s - loss: 1.0962 - accuracy: 0.4963 - val_loss: 1.0961 - val_accuracy: 0.3333 - 47ms/epoch - 9ms/step\n",
            "Epoch 42/100\n",
            "5/5 - 0s - loss: 1.0960 - accuracy: 0.4741 - val_loss: 1.0959 - val_accuracy: 0.3333 - 45ms/epoch - 9ms/step\n",
            "Epoch 43/100\n",
            "5/5 - 0s - loss: 1.0958 - accuracy: 0.4593 - val_loss: 1.0957 - val_accuracy: 0.3333 - 56ms/epoch - 11ms/step\n",
            "Epoch 44/100\n",
            "5/5 - 0s - loss: 1.0956 - accuracy: 0.4296 - val_loss: 1.0955 - val_accuracy: 0.3333 - 122ms/epoch - 24ms/step\n",
            "Epoch 45/100\n",
            "5/5 - 0s - loss: 1.0954 - accuracy: 0.4148 - val_loss: 1.0953 - val_accuracy: 0.3333 - 63ms/epoch - 13ms/step\n",
            "Epoch 46/100\n",
            "5/5 - 0s - loss: 1.0952 - accuracy: 0.4074 - val_loss: 1.0950 - val_accuracy: 0.3333 - 93ms/epoch - 19ms/step\n",
            "Epoch 47/100\n",
            "5/5 - 0s - loss: 1.0949 - accuracy: 0.4000 - val_loss: 1.0948 - val_accuracy: 0.3333 - 122ms/epoch - 24ms/step\n",
            "Epoch 48/100\n",
            "5/5 - 0s - loss: 1.0947 - accuracy: 0.4000 - val_loss: 1.0945 - val_accuracy: 0.3333 - 41ms/epoch - 8ms/step\n",
            "Epoch 49/100\n",
            "5/5 - 0s - loss: 1.0944 - accuracy: 0.3852 - val_loss: 1.0943 - val_accuracy: 0.3333 - 45ms/epoch - 9ms/step\n",
            "Epoch 50/100\n",
            "5/5 - 0s - loss: 1.0942 - accuracy: 0.3852 - val_loss: 1.0940 - val_accuracy: 0.3333 - 38ms/epoch - 8ms/step\n",
            "Epoch 51/100\n",
            "5/5 - 0s - loss: 1.0939 - accuracy: 0.3778 - val_loss: 1.0937 - val_accuracy: 0.3333 - 32ms/epoch - 6ms/step\n",
            "Epoch 52/100\n",
            "5/5 - 0s - loss: 1.0936 - accuracy: 0.3778 - val_loss: 1.0934 - val_accuracy: 0.3333 - 33ms/epoch - 7ms/step\n",
            "Epoch 53/100\n",
            "5/5 - 0s - loss: 1.0933 - accuracy: 0.3778 - val_loss: 1.0931 - val_accuracy: 0.3333 - 42ms/epoch - 8ms/step\n",
            "Epoch 54/100\n",
            "5/5 - 0s - loss: 1.0930 - accuracy: 0.3704 - val_loss: 1.0927 - val_accuracy: 0.3333 - 51ms/epoch - 10ms/step\n",
            "Epoch 55/100\n",
            "5/5 - 0s - loss: 1.0926 - accuracy: 0.3704 - val_loss: 1.0924 - val_accuracy: 0.3333 - 65ms/epoch - 13ms/step\n",
            "Epoch 56/100\n",
            "5/5 - 0s - loss: 1.0923 - accuracy: 0.3630 - val_loss: 1.0920 - val_accuracy: 0.3333 - 38ms/epoch - 8ms/step\n",
            "Epoch 57/100\n",
            "5/5 - 0s - loss: 1.0919 - accuracy: 0.3630 - val_loss: 1.0916 - val_accuracy: 0.3333 - 41ms/epoch - 8ms/step\n",
            "Epoch 58/100\n",
            "5/5 - 0s - loss: 1.0915 - accuracy: 0.3556 - val_loss: 1.0912 - val_accuracy: 0.3333 - 36ms/epoch - 7ms/step\n",
            "Epoch 59/100\n",
            "5/5 - 0s - loss: 1.0911 - accuracy: 0.3556 - val_loss: 1.0908 - val_accuracy: 0.3333 - 39ms/epoch - 8ms/step\n",
            "Epoch 60/100\n",
            "5/5 - 0s - loss: 1.0907 - accuracy: 0.3556 - val_loss: 1.0904 - val_accuracy: 0.3333 - 39ms/epoch - 8ms/step\n",
            "Epoch 61/100\n",
            "5/5 - 0s - loss: 1.0903 - accuracy: 0.3556 - val_loss: 1.0899 - val_accuracy: 0.3333 - 44ms/epoch - 9ms/step\n",
            "Epoch 62/100\n",
            "5/5 - 0s - loss: 1.0898 - accuracy: 0.3556 - val_loss: 1.0894 - val_accuracy: 0.3333 - 54ms/epoch - 11ms/step\n",
            "Epoch 63/100\n",
            "5/5 - 0s - loss: 1.0894 - accuracy: 0.3556 - val_loss: 1.0889 - val_accuracy: 0.3333 - 38ms/epoch - 8ms/step\n",
            "Epoch 64/100\n",
            "5/5 - 0s - loss: 1.0889 - accuracy: 0.3556 - val_loss: 1.0884 - val_accuracy: 0.3333 - 43ms/epoch - 9ms/step\n",
            "Epoch 65/100\n",
            "5/5 - 0s - loss: 1.0884 - accuracy: 0.3556 - val_loss: 1.0879 - val_accuracy: 0.3333 - 70ms/epoch - 14ms/step\n",
            "Epoch 66/100\n",
            "5/5 - 0s - loss: 1.0879 - accuracy: 0.3556 - val_loss: 1.0874 - val_accuracy: 0.3333 - 36ms/epoch - 7ms/step\n",
            "Epoch 67/100\n",
            "5/5 - 0s - loss: 1.0874 - accuracy: 0.3556 - val_loss: 1.0868 - val_accuracy: 0.3333 - 75ms/epoch - 15ms/step\n",
            "Epoch 68/100\n",
            "5/5 - 0s - loss: 1.0868 - accuracy: 0.3556 - val_loss: 1.0862 - val_accuracy: 0.3333 - 51ms/epoch - 10ms/step\n",
            "Epoch 69/100\n",
            "5/5 - 0s - loss: 1.0863 - accuracy: 0.3481 - val_loss: 1.0856 - val_accuracy: 0.4000 - 61ms/epoch - 12ms/step\n",
            "Epoch 70/100\n",
            "5/5 - 0s - loss: 1.0857 - accuracy: 0.3481 - val_loss: 1.0850 - val_accuracy: 0.4000 - 100ms/epoch - 20ms/step\n",
            "Epoch 71/100\n",
            "5/5 - 0s - loss: 1.0851 - accuracy: 0.3481 - val_loss: 1.0844 - val_accuracy: 0.4000 - 85ms/epoch - 17ms/step\n",
            "Epoch 72/100\n",
            "5/5 - 0s - loss: 1.0844 - accuracy: 0.3481 - val_loss: 1.0837 - val_accuracy: 0.4000 - 116ms/epoch - 23ms/step\n",
            "Epoch 73/100\n",
            "5/5 - 0s - loss: 1.0838 - accuracy: 0.3556 - val_loss: 1.0830 - val_accuracy: 0.4000 - 70ms/epoch - 14ms/step\n",
            "Epoch 74/100\n",
            "5/5 - 0s - loss: 1.0831 - accuracy: 0.3481 - val_loss: 1.0823 - val_accuracy: 0.4000 - 59ms/epoch - 12ms/step\n",
            "Epoch 75/100\n",
            "5/5 - 0s - loss: 1.0825 - accuracy: 0.3630 - val_loss: 1.0816 - val_accuracy: 0.4667 - 40ms/epoch - 8ms/step\n",
            "Epoch 76/100\n",
            "5/5 - 0s - loss: 1.0818 - accuracy: 0.3852 - val_loss: 1.0808 - val_accuracy: 0.4667 - 88ms/epoch - 18ms/step\n",
            "Epoch 77/100\n",
            "5/5 - 0s - loss: 1.0810 - accuracy: 0.4074 - val_loss: 1.0801 - val_accuracy: 0.5333 - 69ms/epoch - 14ms/step\n",
            "Epoch 78/100\n",
            "5/5 - 0s - loss: 1.0803 - accuracy: 0.4370 - val_loss: 1.0793 - val_accuracy: 0.6667 - 73ms/epoch - 15ms/step\n",
            "Epoch 79/100\n",
            "5/5 - 0s - loss: 1.0795 - accuracy: 0.4667 - val_loss: 1.0785 - val_accuracy: 0.6667 - 139ms/epoch - 28ms/step\n",
            "Epoch 80/100\n",
            "5/5 - 0s - loss: 1.0787 - accuracy: 0.4963 - val_loss: 1.0776 - val_accuracy: 0.6667 - 44ms/epoch - 9ms/step\n",
            "Epoch 81/100\n",
            "5/5 - 0s - loss: 1.0779 - accuracy: 0.5185 - val_loss: 1.0767 - val_accuracy: 0.6667 - 36ms/epoch - 7ms/step\n",
            "Epoch 82/100\n",
            "5/5 - 0s - loss: 1.0771 - accuracy: 0.5704 - val_loss: 1.0758 - val_accuracy: 0.6667 - 59ms/epoch - 12ms/step\n",
            "Epoch 83/100\n",
            "5/5 - 0s - loss: 1.0762 - accuracy: 0.5852 - val_loss: 1.0749 - val_accuracy: 0.6667 - 77ms/epoch - 15ms/step\n",
            "Epoch 84/100\n",
            "5/5 - 0s - loss: 1.0753 - accuracy: 0.6074 - val_loss: 1.0740 - val_accuracy: 0.6667 - 72ms/epoch - 14ms/step\n",
            "Epoch 85/100\n",
            "5/5 - 0s - loss: 1.0744 - accuracy: 0.6148 - val_loss: 1.0730 - val_accuracy: 0.6667 - 71ms/epoch - 14ms/step\n",
            "Epoch 86/100\n",
            "5/5 - 0s - loss: 1.0735 - accuracy: 0.6296 - val_loss: 1.0720 - val_accuracy: 0.6667 - 104ms/epoch - 21ms/step\n",
            "Epoch 87/100\n",
            "5/5 - 0s - loss: 1.0725 - accuracy: 0.6444 - val_loss: 1.0710 - val_accuracy: 0.6667 - 93ms/epoch - 19ms/step\n",
            "Epoch 88/100\n",
            "5/5 - 0s - loss: 1.0716 - accuracy: 0.6444 - val_loss: 1.0700 - val_accuracy: 0.6667 - 123ms/epoch - 25ms/step\n",
            "Epoch 89/100\n",
            "5/5 - 0s - loss: 1.0706 - accuracy: 0.6593 - val_loss: 1.0689 - val_accuracy: 0.6667 - 82ms/epoch - 16ms/step\n",
            "Epoch 90/100\n",
            "5/5 - 0s - loss: 1.0695 - accuracy: 0.6667 - val_loss: 1.0678 - val_accuracy: 0.6667 - 62ms/epoch - 12ms/step\n",
            "Epoch 91/100\n",
            "5/5 - 0s - loss: 1.0685 - accuracy: 0.6667 - val_loss: 1.0667 - val_accuracy: 0.6667 - 121ms/epoch - 24ms/step\n",
            "Epoch 92/100\n",
            "5/5 - 0s - loss: 1.0674 - accuracy: 0.6667 - val_loss: 1.0655 - val_accuracy: 0.6667 - 113ms/epoch - 23ms/step\n",
            "Epoch 93/100\n",
            "5/5 - 0s - loss: 1.0663 - accuracy: 0.6667 - val_loss: 1.0643 - val_accuracy: 0.6667 - 52ms/epoch - 10ms/step\n",
            "Epoch 94/100\n",
            "5/5 - 0s - loss: 1.0652 - accuracy: 0.6667 - val_loss: 1.0631 - val_accuracy: 0.6667 - 42ms/epoch - 8ms/step\n",
            "Epoch 95/100\n",
            "5/5 - 0s - loss: 1.0640 - accuracy: 0.6667 - val_loss: 1.0619 - val_accuracy: 0.6667 - 53ms/epoch - 11ms/step\n",
            "Epoch 96/100\n",
            "5/5 - 0s - loss: 1.0629 - accuracy: 0.6667 - val_loss: 1.0607 - val_accuracy: 0.6667 - 92ms/epoch - 18ms/step\n",
            "Epoch 97/100\n",
            "5/5 - 0s - loss: 1.0617 - accuracy: 0.6667 - val_loss: 1.0594 - val_accuracy: 0.6667 - 154ms/epoch - 31ms/step\n",
            "Epoch 98/100\n",
            "5/5 - 0s - loss: 1.0605 - accuracy: 0.6667 - val_loss: 1.0581 - val_accuracy: 0.6667 - 46ms/epoch - 9ms/step\n",
            "Epoch 99/100\n",
            "5/5 - 0s - loss: 1.0592 - accuracy: 0.6667 - val_loss: 1.0568 - val_accuracy: 0.6667 - 27ms/epoch - 5ms/step\n",
            "Epoch 100/100\n",
            "5/5 - 0s - loss: 1.0579 - accuracy: 0.6667 - val_loss: 1.0554 - val_accuracy: 0.6667 - 28ms/epoch - 6ms/step\n"
          ]
        }
      ],
      "source": [
        "num_epochs = 100\n",
        "\n",
        "history_model = iris_model.fit(x = tr_x_norm, y = tr_y, epochs=num_epochs, batch_size = 32, \\\n",
        "                          validation_data=(tst_x_norm,tst_y), shuffle=False, verbose=2)"
      ]
    },
    {
      "cell_type": "code",
      "source": [
        "plt.plot(history_model.history['loss'])\n",
        "plt.plot(history_model.history['val_loss'])\n",
        "plt.title('Cost function', size=16)\n",
        "plt.ylabel('Cost', size=16)\n",
        "plt.xlabel('Epoch', size=16)\n",
        "plt.legend(['Train', 'Validation'], loc='upper right', prop={'size': 16})\n",
        "plt.show()"
      ],
      "metadata": {
        "colab": {
          "base_uri": "https://localhost:8080/",
          "height": 480
        },
        "id": "OsLDBQKCp7Hc",
        "outputId": "68f7bcb5-ea77-469e-c030-c437d8b5631b"
      },
      "id": "OsLDBQKCp7Hc",
      "execution_count": null,
      "outputs": [
        {
          "output_type": "display_data",
          "data": {
            "text/plain": [
              "<Figure size 640x480 with 1 Axes>"
            ],
            "image/png": "[encoded data removed]"
          },
          "metadata": {}
        }
      ]
    },
    {
      "cell_type": "code",
      "source": [
        "plt.plot(history_model.history['accuracy'])\n",
        "plt.plot(history_model.history['val_accuracy'])\n",
        "plt.title('Model accuracy', size=16)\n",
        "plt.ylabel('Accuracy', size=16)\n",
        "plt.xlabel('Epoch', size=16)\n",
        "plt.legend(['Train', 'Validation'], loc='lower right', prop={'size': 16})\n",
        "plt.show()"
      ],
      "metadata": {
        "colab": {
          "base_uri": "https://localhost:8080/",
          "height": 480
        },
        "id": "D3x6NbZqrPaL",
        "outputId": "64b993d1-b7e1-4adb-995c-e5181ac831d0"
      },
      "id": "D3x6NbZqrPaL",
      "execution_count": null,
      "outputs": [
        {
          "output_type": "display_data",
          "data": {
            "text/plain": [
              "<Figure size 640x480 with 1 Axes>"
            ],
            "image/png": "[encoded data removed]"
          },
          "metadata": {}
        }
      ]
    },
    {
      "cell_type": "markdown",
      "id": "ef6aada7",
      "metadata": {
        "id": "ef6aada7"
      },
      "source": [
        "### Ejercicio 11\n",
        "\n",
        "Evalúa tu modelo utilizando los datos de prueba y el método evaluate()"
      ]
    },
    {
      "cell_type": "code",
      "execution_count": null,
      "id": "f971bda0",
      "metadata": {
        "id": "f971bda0",
        "colab": {
          "base_uri": "https://localhost:8080/"
        },
        "outputId": "13d21228-6a30-4c7a-8033-8f9abf7bb68d"
      },
      "outputs": [
        {
          "output_type": "stream",
          "name": "stdout",
          "text": [
            "1/1 [==============================] - 0s 18ms/step - loss: 1.0554 - accuracy: 0.6667\n",
            "Loss = 1.0554076433181763\n",
            "Test Accuracy = 0.6666666865348816\n"
          ]
        }
      ],
      "source": [
        "#Finalizamos con evaluate\n",
        "\n",
        "evaluations = iris_model.evaluate(x = tst_x_norm, y = tst_y)\n",
        "\n",
        "print (\"Loss = \" + str(evaluations[0]))\n",
        "print (\"Test Accuracy = \" + str(evaluations[1]))"
      ]
    }
  ],
  "metadata": {
    "kernelspec": {
      "display_name": "Python 3 (ipykernel)",
      "language": "python",
      "name": "python3"
    },
    "language_info": {
      "codemirror_mode": {
        "name": "ipython",
        "version": 3
      },
      "file_extension": ".py",
      "mimetype": "text/x-python",
      "name": "python",
      "nbconvert_exporter": "python",
      "pygments_lexer": "ipython3",
      "version": "3.8.8"
    },
    "colab": {
      "provenance": []
    }
  },
  "nbformat": 4,
  "nbformat_minor": 5
}